{
 "cells": [
  {
   "cell_type": "code",
   "execution_count": 1,
   "metadata": {},
   "outputs": [
    {
     "name": "stdout",
     "output_type": "stream",
     "text": [
      "CRcrit = ConsRatio(CMcrit) = 1.9992304121288946\n",
      "CRcon1 = ConsRatio(CMcon1) = 2.11595617814765\n",
      "CRcon2 = ConsRatio(CMcon2) = 1.0578818191973325\n",
      "CRcon3 = ConsRatio(CMcon3) = 0.0\n",
      "CRcon4 = ConsRatio(CMcon4) = 3.667213672383205\n",
      "CRcon5 = ConsRatio(CMcon5) = 2.243568113434156\n",
      "CRcon6 = ConsRatio(CMcon6) = 2.6543788332767515\n",
      "CRcon7 = ConsRatio(CMcon7) = 2.241567705204864\n",
      "CRcon8 = ConsRatio(CMcon8) = 1.3110781434684866\n",
      "CRcon9 = ConsRatio(CMcon9) = 3.3372511178919644\n",
      "CRcon10 = ConsRatio(CMcon10) = 0.498437500906112\n",
      "CRcon11 = ConsRatio(CMcon11) = 1.3499416859557083\n",
      "CRcon12 = ConsRatio(CMcon12) = 2.0136787999457337\n",
      "CRcon13 = ConsRatio(CMcon13) = 2.2833215585157163\n",
      "Totalpriority = priorityall * prioritycrit = [1.89007; 1.66743; 2.27276; 2.47501; 2.44475; 2.76331; 2.1926; 2.29069]\n"
     ]
    },
    {
     "data": {
      "text/plain": [
       "8×1 Array{Float64,2}:\n",
       " 1.8900741957617757\n",
       " 1.667430664637576 \n",
       " 2.2727591529810907\n",
       " 2.4750111507793617\n",
       " 2.4447545110407525\n",
       " 2.763305760370799 \n",
       " 2.1926025292664733\n",
       " 2.290691253034608 "
      ]
     },
     "execution_count": 1,
     "metadata": {},
     "output_type": "execute_result"
    }
   ],
   "source": [
    "using MCDA\n",
    "using Test\n",
    "using LinearAlgebra\n",
    "using DataFrames\n",
    "\n",
    "criteria = [\n",
    "    Criterion(\"Maneuverability\", 8, 0.115, MCDA.convertSymbolicScale),\n",
    "    Criterion(\"Signature profile\", 9, 0.129, MCDA.convertSymbolicScale),\n",
    "    Criterion(\"Redundancy\", 7, 0.101, x -> MCDA.convertMinMaxIncr(x, 1, 4)),\n",
    "    Criterion(\"Nr. of components\", 2, 0.023, x -> MCDA.convertMinMaxDecr(x, 14, 18)),\n",
    "    Criterion(\"Space consumption\", 5, 0.058, x -> MCDA.convertMinMaxDecr(x, 274, 715)),\n",
    "    Criterion(\"Weight\", 7, 0.081, x -> MCDA.convertMinMaxDecr(x, 255, 550)),\n",
    "    Criterion(\"Fuel capacity\", 7, 0.081, x -> MCDA.convertMinMaxDecr(x, 301, 328)),\n",
    "    Criterion(\"Reliability\", 4, 0.042, MCDA.convertSymbolicScale),\n",
    "    Criterion(\"Maintainability\", 6, 0.064, MCDA.convertSymbolicScale),\n",
    "    Criterion(\"Shock-proofness\", 3, 0.032, MCDA.convertSymbolicScale),\n",
    "    Criterion(\"Purchase costs\", 7, 0.107, x -> MCDA.convertMinMaxDecr(x, 21, 74)),\n",
    "    Criterion(\"Fuel costs\", 9, 0.138,  x -> MCDA.convertMinMaxDecr(x, 3, 3.6)),\n",
    "    Criterion(\"Maintenance costs\", 2, 0.031,  x -> MCDA.convertMinMaxDecr(x, 0.09, 0.23))\n",
    "]\n",
    "concepts = []\n",
    "\n",
    "con = Concept(\"concept 1\", criteria)\n",
    "con.values[1] = \"ref\"\n",
    "con.values[2] = \"ref\"\n",
    "con.values[3] = 2\n",
    "con.values[4] = 14\n",
    "con.values[5] = 286.3\n",
    "con.values[6] = 255.9\n",
    "con.values[7] = 302.4\n",
    "con.values[8] = \"ref\"\n",
    "con.values[9] = \"ref\"\n",
    "con.values[10] = \"ref\"\n",
    "con.values[11] = 26.14\n",
    "con.values[12] = 3.42\n",
    "con.values[13] = 0.168\n",
    "push!(concepts, con)\n",
    "con = Concept(\"concept 2\", criteria)\n",
    "con.values[1] = \"0\"\n",
    "con.values[2] = \"0\"\n",
    "con.values[3] = 2\n",
    "con.values[4] = 14\n",
    "con.values[5] = 280.6\n",
    "con.values[6] = 256.1\n",
    "con.values[7] = 306.5\n",
    "con.values[8] = \"-\"\n",
    "con.values[9] = \"+\"\n",
    "con.values[10] = \"0\"\n",
    "con.values[11] = 26.37\n",
    "con.values[12] = 3.55\n",
    "con.values[13] = 0.225\n",
    "push!(concepts, con)\n",
    "con = Concept(\"concept 3\", criteria)\n",
    "con.values[1] = \"--\"\n",
    "con.values[2] = \"-\"\n",
    "con.values[3] = 2\n",
    "con.values[4] = 14\n",
    "con.values[5] = 715\n",
    "con.values[6] = 549.4\n",
    "con.values[7] = 301.7\n",
    "con.values[8] = \"++\"\n",
    "con.values[9] = \"--\"\n",
    "con.values[10] = \"--\"\n",
    "con.values[11] = 21.93\n",
    "con.values[12] = 3.03\n",
    "con.values[13] = 0.119\n",
    "push!(concepts, con)\n",
    "con = Concept(\"concept 4\", criteria)\n",
    "con.values[1] = \"+++\"\n",
    "con.values[2] = \"++\"\n",
    "con.values[3] = 3\n",
    "con.values[4] = 18\n",
    "con.values[5] = 450.3\n",
    "con.values[6] = 334.1\n",
    "con.values[7] = 312.4\n",
    "con.values[8] = \"+\"\n",
    "con.values[9] = \"++\"\n",
    "con.values[10] = \"-\"\n",
    "con.values[11] = 32.04\n",
    "con.values[12] = 3.44\n",
    "con.values[13] = 0.140\n",
    "push!(concepts, con)\n",
    "con = Concept(\"concept 5\", criteria)\n",
    "con.values[1] = \"+++\"\n",
    "con.values[2] = \"++\"\n",
    "con.values[3] = 3\n",
    "con.values[4] = 16\n",
    "con.values[5] = 459.3\n",
    "con.values[6] = 368.4\n",
    "con.values[7] = 312.4\n",
    "con.values[8] = \"+\"\n",
    "con.values[9] = \"+++\"\n",
    "con.values[10] = \"-\"\n",
    "con.values[11] = 33.17\n",
    "con.values[12] = 3.48\n",
    "con.values[13] = 0.176\n",
    "push!(concepts, con)\n",
    "con = Concept(\"concept 6\", criteria)\n",
    "con.values[1] = \"+\"\n",
    "con.values[2] = \"+\"\n",
    "con.values[3] = 3\n",
    "con.values[4] = 17\n",
    "con.values[5] = 677.2\n",
    "con.values[6] = 487.7\n",
    "con.values[7] = 309.6\n",
    "con.values[8] = \"+\"\n",
    "con.values[9] = \"--\"\n",
    "con.values[10] = \"--\"\n",
    "con.values[11] = 23.93\n",
    "con.values[12] = 3.03\n",
    "con.values[13] = 0.097\n",
    "push!(concepts, con)\n",
    "con = Concept(\"concept 7\", criteria)\n",
    "con.values[1] = \"++\"\n",
    "con.values[2] = \"+\"\n",
    "con.values[3] = 3\n",
    "con.values[4] = 18\n",
    "con.values[5] = 274.8\n",
    "con.values[6] = 299.6\n",
    "con.values[7] = 309.1\n",
    "con.values[8] = \"-\"\n",
    "con.values[9] = \"-\"\n",
    "con.values[10] = \"-\"\n",
    "con.values[11] = 28.29\n",
    "con.values[12] = 3.41\n",
    "con.values[13] = 0.158\n",
    "push!(concepts, con)\n",
    "con = Concept(\"concept 8\", criteria)\n",
    "con.values[1] = \"+++\"\n",
    "con.values[2] = \"+++\"\n",
    "con.values[3] = 2\n",
    "con.values[4] = 15\n",
    "con.values[5] = 690.2\n",
    "con.values[6] = 550\n",
    "con.values[7] = 327.4\n",
    "con.values[8] = \"+++\"\n",
    "con.values[9] = \"+++\"\n",
    "con.values[10] = \"+\"\n",
    "con.values[11] = 73.24\n",
    "con.values[12] = 3.34\n",
    "con.values[13] = 0.137\n",
    "push!(concepts, con)\n",
    "\n",
    "CMcrit = MCDA.CMcrit(criteria)\n",
    "matcrit = CMcrit^100/10^57\n",
    "prioritycrit = sum(matcrit,dims=2)/sum(sum(matcrit))\n",
    "@show CRcrit = ConsRatio(CMcrit)\n",
    "\n",
    "CMcon1 = MCDA.buildCM(concepts, 1, MCDA.CMScaleSymb)\n",
    "matcon1 = CMcon1^100/10^57\n",
    "prioritycon1 = sum(matcon1,dims=2)/sum(sum(matcon1))\n",
    "@show CRcon1 = ConsRatio(CMcon1)\n",
    "\n",
    "CMcon2 = MCDA.buildCM(concepts, 2, MCDA.CMScaleSymb)\n",
    "matcon2 = CMcon2^100/10^57\n",
    "prioritycon2 = sum(matcon2,dims=2)/sum(sum(matcon2))\n",
    "@show CRcon2 = ConsRatio(CMcon2)\n",
    "\n",
    "CMcon3 = MCDA.buildCM(concepts, 3, MCDA.CMScale0_maxdiff)\n",
    "matcon3 = CMcon3^100/10^57\n",
    "prioritycon3 = sum(matcon3,dims=2)/sum(sum(matcon3))\n",
    "@show CRcon3 = ConsRatio(CMcon3)\n",
    "\n",
    "CMcon4 = MCDA.buildCM(concepts, 4, MCDA.CMScale0_4; smaller_is_better=true)\n",
    "matcon4 = CMcon4^100/10^57\n",
    "prioritycon4 = sum(matcon4,dims=2)/sum(sum(matcon4))\n",
    "@show CRcon4 = ConsRatio(CMcon4)\n",
    "\n",
    "CMcon5 = MCDA.buildCM(concepts, 5, MCDA.CMScale0_maxdiff; smaller_is_better=true)\n",
    "matcon5 = CMcon5^100/10^57\n",
    "prioritycon5 = sum(matcon5,dims=2)/sum(sum(matcon5))\n",
    "@show CRcon5 = ConsRatio(CMcon5)\n",
    "\n",
    "CMcon6 = MCDA.buildCM(concepts, 6, MCDA.CMScale0_maxdiff; smaller_is_better=true)\n",
    "matcon6 = CMcon6^100/10^57\n",
    "prioritycon6 = sum(matcon6,dims=2)/sum(sum(matcon6))\n",
    "@show CRcon6 = ConsRatio(CMcon6)\n",
    "\n",
    "CMcon7 = MCDA.buildCM(concepts, 7, MCDA.CMScale0_maxdiff; smaller_is_better=true)\n",
    "matcon7 = CMcon7^100/10^57\n",
    "prioritycon7 = sum(matcon7,dims=2)/sum(sum(matcon7))\n",
    "@show CRcon7 = ConsRatio(CMcon7)\n",
    "\n",
    "CMcon8 = MCDA.buildCM(concepts, 8, MCDA.CMScaleSymb)\n",
    "matcon8 = CMcon8^100/10^57\n",
    "prioritycon8 = sum(matcon8,dims=2)/sum(sum(matcon8))\n",
    "@show CRcon8 = ConsRatio(CMcon8)\n",
    "\n",
    "CMcon9 = MCDA.buildCM(concepts, 9, MCDA.CMScaleSymb)\n",
    "matcon9 = CMcon9^100/10^57\n",
    "prioritycon9 = sum(matcon9,dims=2)/sum(sum(matcon9))\n",
    "@show CRcon9 = ConsRatio(CMcon9)\n",
    "\n",
    "CMcon10 = MCDA.buildCM(concepts, 10, MCDA.CMScaleSymb)\n",
    "matcon10 = CMcon10^100/10^57\n",
    "prioritycon10 = sum(matcon10,dims=2)/sum(sum(matcon10))\n",
    "@show CRcon10 = ConsRatio(CMcon10)\n",
    "\n",
    "CMcon11 = MCDA.buildCM(concepts, 11, MCDA.CMScale0_maxdiff; smaller_is_better=true)\n",
    "matcon11 = CMcon11^100/10^57\n",
    "prioritycon11 = sum(matcon11,dims=2)/sum(sum(matcon11))\n",
    "@show CRcon11 = ConsRatio(CMcon11)\n",
    "\n",
    "CMcon12 = MCDA.buildCM(concepts, 12, MCDA.CMScale0_maxdiff; smaller_is_better=true)\n",
    "matcon12 = CMcon12^100/10^57\n",
    "prioritycon12 = sum(matcon12,dims=2)/sum(sum(matcon12))\n",
    "@show CRcon12 = ConsRatio(CMcon12)\n",
    "\n",
    "CMcon13 = MCDA.buildCM(concepts, 13, MCDA.CMScale0_maxdiff; smaller_is_better=true)\n",
    "matcon13 = CMcon13^100/10^57\n",
    "prioritycon13 = sum(matcon13,dims=2)/sum(sum(matcon13))\n",
    "@show CRcon13 = ConsRatio(CMcon13)\n",
    "\n",
    "prioritycrit = prioritycrit/maximum(prioritycrit)\n",
    "prioritycon1 = prioritycon1/maximum(prioritycon1)\n",
    "prioritycon2 = prioritycon2/maximum(prioritycon2)\n",
    "prioritycon3 = prioritycon3/maximum(prioritycon3)\n",
    "prioritycon4 = prioritycon4/maximum(prioritycon4)\n",
    "prioritycon5 = prioritycon5/maximum(prioritycon5)\n",
    "prioritycon6 = prioritycon6/maximum(prioritycon6)\n",
    "prioritycon7 = prioritycon7/maximum(prioritycon7)\n",
    "prioritycon8 = prioritycon8/maximum(prioritycon8)\n",
    "prioritycon9 = prioritycon9/maximum(prioritycon9)\n",
    "prioritycon10 = prioritycon10/maximum(prioritycon10)\n",
    "prioritycon11 = prioritycon11/maximum(prioritycon11)\n",
    "prioritycon12 = prioritycon12/maximum(prioritycon12)\n",
    "prioritycon13 = prioritycon13/maximum(prioritycon13)\n",
    "\n",
    "priorityall = hcat(prioritycon1, prioritycon2, prioritycon3, prioritycon4, prioritycon5, prioritycon6, prioritycon7, prioritycon8, prioritycon9, prioritycon10, prioritycon11, prioritycon12, prioritycon13)\n",
    "@show Totalpriority = priorityall * prioritycrit\n"
   ]
  },
  {
   "cell_type": "code",
   "execution_count": 2,
   "metadata": {},
   "outputs": [
    {
     "data": {
      "text/html": [
       "<table class=\"data-frame\"><thead><tr><th></th><th>Priority</th><th>Maneuverability</th><th>Signature_profile</th><th>Redundancy</th><th>Nr_of_components</th></tr><tr><th></th><th>String</th><th>Float64</th><th>Float64</th><th>Float64</th><th>Float64</th></tr></thead><tbody><p>9 rows × 5 columns</p><tr><th>1</th><td>Prio criterion</td><td>0.604844</td><td>0.891757</td><td>0.439887</td><td>0.0661257</td></tr><tr><th>2</th><td>concept 1</td><td>0.244329</td><td>0.210922</td><td>0.111111</td><td>1.0</td></tr><tr><th>3</th><td>concept 2</td><td>0.244329</td><td>0.210922</td><td>0.111111</td><td>1.0</td></tr><tr><th>4</th><td>concept 3</td><td>0.122526</td><td>0.134714</td><td>0.111111</td><td>1.0</td></tr><tr><th>5</th><td>concept 4</td><td>1.0</td><td>0.613025</td><td>1.0</td><td>0.0800972</td></tr><tr><th>6</th><td>concept 5</td><td>1.0</td><td>0.613025</td><td>1.0</td><td>0.273925</td></tr><tr><th>7</th><td>concept 6</td><td>0.385301</td><td>0.359443</td><td>1.0</td><td>0.149516</td></tr><tr><th>8</th><td>concept 7</td><td>0.620312</td><td>0.359443</td><td>1.0</td><td>0.0800972</td></tr><tr><th>9</th><td>concept 8</td><td>1.0</td><td>1.0</td><td>0.111111</td><td>0.501323</td></tr></tbody></table>"
      ],
      "text/latex": [
       "\\begin{tabular}{r|ccccc}\n",
       "\t& Priority & Maneuverability & Signature\\_profile & Redundancy & Nr\\_of\\_components\\\\\n",
       "\t\\hline\n",
       "\t& String & Float64 & Float64 & Float64 & Float64\\\\\n",
       "\t\\hline\n",
       "\t1 & Prio criterion & 0.604844 & 0.891757 & 0.439887 & 0.0661257 \\\\\n",
       "\t2 & concept 1 & 0.244329 & 0.210922 & 0.111111 & 1.0 \\\\\n",
       "\t3 & concept 2 & 0.244329 & 0.210922 & 0.111111 & 1.0 \\\\\n",
       "\t4 & concept 3 & 0.122526 & 0.134714 & 0.111111 & 1.0 \\\\\n",
       "\t5 & concept 4 & 1.0 & 0.613025 & 1.0 & 0.0800972 \\\\\n",
       "\t6 & concept 5 & 1.0 & 0.613025 & 1.0 & 0.273925 \\\\\n",
       "\t7 & concept 6 & 0.385301 & 0.359443 & 1.0 & 0.149516 \\\\\n",
       "\t8 & concept 7 & 0.620312 & 0.359443 & 1.0 & 0.0800972 \\\\\n",
       "\t9 & concept 8 & 1.0 & 1.0 & 0.111111 & 0.501323 \\\\\n",
       "\\end{tabular}\n"
      ],
      "text/plain": [
       "9×5 DataFrame. Omitted printing of 1 columns\n",
       "│ Row │ Priority       │ Maneuverability │ Signature_profile │ Redundancy │\n",
       "│     │ \u001b[90mString\u001b[39m         │ \u001b[90mFloat64\u001b[39m         │ \u001b[90mFloat64\u001b[39m           │ \u001b[90mFloat64\u001b[39m    │\n",
       "├─────┼────────────────┼─────────────────┼───────────────────┼────────────┤\n",
       "│ 1   │ Prio criterion │ 0.604844        │ 0.891757          │ 0.439887   │\n",
       "│ 2   │ concept 1      │ 0.244329        │ 0.210922          │ 0.111111   │\n",
       "│ 3   │ concept 2      │ 0.244329        │ 0.210922          │ 0.111111   │\n",
       "│ 4   │ concept 3      │ 0.122526        │ 0.134714          │ 0.111111   │\n",
       "│ 5   │ concept 4      │ 1.0             │ 0.613025          │ 1.0        │\n",
       "│ 6   │ concept 5      │ 1.0             │ 0.613025          │ 1.0        │\n",
       "│ 7   │ concept 6      │ 0.385301        │ 0.359443          │ 1.0        │\n",
       "│ 8   │ concept 7      │ 0.620312        │ 0.359443          │ 1.0        │\n",
       "│ 9   │ concept 8      │ 1.0             │ 1.0               │ 0.111111   │"
      ]
     },
     "execution_count": 2,
     "metadata": {},
     "output_type": "execute_result"
    }
   ],
   "source": [
    "DataFrame(Priority = [\"Prio criterion\", MCDA.name.(concepts)...], Maneuverability = [prioritycrit[1], prioritycon1...], Signature_profile = [prioritycrit[2], prioritycon2...], Redundancy = [prioritycrit[3], prioritycon3...], Nr_of_components = [prioritycrit[4], prioritycon4...])"
   ]
  },
  {
   "cell_type": "code",
   "execution_count": 3,
   "metadata": {},
   "outputs": [
    {
     "data": {
      "text/html": [
       "<table class=\"data-frame\"><thead><tr><th></th><th>Space_consumption</th><th>Weight</th><th>Fuel_capacity</th><th>Reliability</th><th>Maintainability</th></tr><tr><th></th><th>Float64</th><th>Float64</th><th>Float64</th><th>Float64</th><th>Float64</th></tr></thead><tbody><p>9 rows × 5 columns</p><tr><th>1</th><td>0.154694</td><td>0.260136</td><td>0.260136</td><td>0.0892559</td><td>0.166421</td></tr><tr><th>2</th><td>0.988819</td><td>1.0</td><td>1.0</td><td>0.219609</td><td>0.270712</td></tr><tr><th>3</th><td>1.0</td><td>1.0</td><td>0.587775</td><td>0.136925</td><td>0.410502</td></tr><tr><th>4</th><td>0.087406</td><td>0.0767121</td><td>1.0</td><td>0.629364</td><td>0.117718</td></tr><tr><th>5</th><td>0.350803</td><td>0.452749</td><td>0.26623</td><td>0.372126</td><td>0.649189</td></tr><tr><th>6</th><td>0.350803</td><td>0.320555</td><td>0.26623</td><td>0.372126</td><td>1.0</td></tr><tr><th>7</th><td>0.091921</td><td>0.115311</td><td>0.333111</td><td>0.372126</td><td>0.117718</td></tr><tr><th>8</th><td>1.0</td><td>0.659107</td><td>0.433625</td><td>0.136925</td><td>0.1781</td></tr><tr><th>9</th><td>0.0902506</td><td>0.0767121</td><td>0.0684053</td><td>1.0</td><td>1.0</td></tr></tbody></table>"
      ],
      "text/latex": [
       "\\begin{tabular}{r|ccccc}\n",
       "\t& Space\\_consumption & Weight & Fuel\\_capacity & Reliability & Maintainability\\\\\n",
       "\t\\hline\n",
       "\t& Float64 & Float64 & Float64 & Float64 & Float64\\\\\n",
       "\t\\hline\n",
       "\t1 & 0.154694 & 0.260136 & 0.260136 & 0.0892559 & 0.166421 \\\\\n",
       "\t2 & 0.988819 & 1.0 & 1.0 & 0.219609 & 0.270712 \\\\\n",
       "\t3 & 1.0 & 1.0 & 0.587775 & 0.136925 & 0.410502 \\\\\n",
       "\t4 & 0.087406 & 0.0767121 & 1.0 & 0.629364 & 0.117718 \\\\\n",
       "\t5 & 0.350803 & 0.452749 & 0.26623 & 0.372126 & 0.649189 \\\\\n",
       "\t6 & 0.350803 & 0.320555 & 0.26623 & 0.372126 & 1.0 \\\\\n",
       "\t7 & 0.091921 & 0.115311 & 0.333111 & 0.372126 & 0.117718 \\\\\n",
       "\t8 & 1.0 & 0.659107 & 0.433625 & 0.136925 & 0.1781 \\\\\n",
       "\t9 & 0.0902506 & 0.0767121 & 0.0684053 & 1.0 & 1.0 \\\\\n",
       "\\end{tabular}\n"
      ],
      "text/plain": [
       "9×5 DataFrame. Omitted printing of 1 columns\n",
       "│ Row │ Space_consumption │ Weight    │ Fuel_capacity │ Reliability │\n",
       "│     │ \u001b[90mFloat64\u001b[39m           │ \u001b[90mFloat64\u001b[39m   │ \u001b[90mFloat64\u001b[39m       │ \u001b[90mFloat64\u001b[39m     │\n",
       "├─────┼───────────────────┼───────────┼───────────────┼─────────────┤\n",
       "│ 1   │ 0.154694          │ 0.260136  │ 0.260136      │ 0.0892559   │\n",
       "│ 2   │ 0.988819          │ 1.0       │ 1.0           │ 0.219609    │\n",
       "│ 3   │ 1.0               │ 1.0       │ 0.587775      │ 0.136925    │\n",
       "│ 4   │ 0.087406          │ 0.0767121 │ 1.0           │ 0.629364    │\n",
       "│ 5   │ 0.350803          │ 0.452749  │ 0.26623       │ 0.372126    │\n",
       "│ 6   │ 0.350803          │ 0.320555  │ 0.26623       │ 0.372126    │\n",
       "│ 7   │ 0.091921          │ 0.115311  │ 0.333111      │ 0.372126    │\n",
       "│ 8   │ 1.0               │ 0.659107  │ 0.433625      │ 0.136925    │\n",
       "│ 9   │ 0.0902506         │ 0.0767121 │ 0.0684053     │ 1.0         │"
      ]
     },
     "execution_count": 3,
     "metadata": {},
     "output_type": "execute_result"
    }
   ],
   "source": [
    "DataFrame(Space_consumption = [prioritycrit[5], prioritycon5...], Weight = [prioritycrit[6], prioritycon6...], Fuel_capacity = [prioritycrit[7], prioritycon7...], Reliability = [prioritycrit[8], prioritycon8...], Maintainability = [prioritycrit[9], prioritycon9...])"
   ]
  },
  {
   "cell_type": "code",
   "execution_count": 4,
   "metadata": {},
   "outputs": [
    {
     "data": {
      "text/html": [
       "<table class=\"data-frame\"><thead><tr><th></th><th>Shock_proofness</th><th>Purchase_costs</th><th>Fuel_costs</th><th>Maintenance_costs</th><th>Total_Priority</th></tr><tr><th></th><th>Float64</th><th>Float64</th><th>Float64</th><th>Float64</th><th>Any</th></tr></thead><tbody><p>9 rows × 5 columns</p><tr><th>1</th><td>0.0759078</td><td>0.53163</td><td>1.0</td><td>0.0759078</td><td>Missing</td></tr><tr><th>2</th><td>0.611315</td><td>0.913634</td><td>0.155371</td><td>0.182079</td><td>1.89007</td></tr><tr><th>3</th><td>0.611315</td><td>0.841079</td><td>0.0703257</td><td>0.0581697</td><td>1.66743</td></tr><tr><th>4</th><td>0.193005</td><td>1.0</td><td>1.0</td><td>0.630467</td><td>2.27276</td></tr><tr><th>5</th><td>0.339988</td><td>0.590103</td><td>0.129569</td><td>0.351336</td><td>2.47501</td></tr><tr><th>6</th><td>0.339988</td><td>0.538396</td><td>0.105502</td><td>0.14698</td><td>2.44475</td></tr><tr><th>7</th><td>0.193005</td><td>0.913634</td><td>1.0</td><td>1.0</td><td>2.76331</td></tr><tr><th>8</th><td>0.339988</td><td>0.702436</td><td>0.155371</td><td>0.214252</td><td>2.1926</td></tr><tr><th>9</th><td>1.0</td><td>0.0892247</td><td>0.251677</td><td>0.390675</td><td>2.29069</td></tr></tbody></table>"
      ],
      "text/latex": [
       "\\begin{tabular}{r|ccccc}\n",
       "\t& Shock\\_proofness & Purchase\\_costs & Fuel\\_costs & Maintenance\\_costs & Total\\_Priority\\\\\n",
       "\t\\hline\n",
       "\t& Float64 & Float64 & Float64 & Float64 & Any\\\\\n",
       "\t\\hline\n",
       "\t1 & 0.0759078 & 0.53163 & 1.0 & 0.0759078 & Missing \\\\\n",
       "\t2 & 0.611315 & 0.913634 & 0.155371 & 0.182079 & 1.89007 \\\\\n",
       "\t3 & 0.611315 & 0.841079 & 0.0703257 & 0.0581697 & 1.66743 \\\\\n",
       "\t4 & 0.193005 & 1.0 & 1.0 & 0.630467 & 2.27276 \\\\\n",
       "\t5 & 0.339988 & 0.590103 & 0.129569 & 0.351336 & 2.47501 \\\\\n",
       "\t6 & 0.339988 & 0.538396 & 0.105502 & 0.14698 & 2.44475 \\\\\n",
       "\t7 & 0.193005 & 0.913634 & 1.0 & 1.0 & 2.76331 \\\\\n",
       "\t8 & 0.339988 & 0.702436 & 0.155371 & 0.214252 & 2.1926 \\\\\n",
       "\t9 & 1.0 & 0.0892247 & 0.251677 & 0.390675 & 2.29069 \\\\\n",
       "\\end{tabular}\n"
      ],
      "text/plain": [
       "9×5 DataFrame. Omitted printing of 1 columns\n",
       "│ Row │ Shock_proofness │ Purchase_costs │ Fuel_costs │ Maintenance_costs │\n",
       "│     │ \u001b[90mFloat64\u001b[39m         │ \u001b[90mFloat64\u001b[39m        │ \u001b[90mFloat64\u001b[39m    │ \u001b[90mFloat64\u001b[39m           │\n",
       "├─────┼─────────────────┼────────────────┼────────────┼───────────────────┤\n",
       "│ 1   │ 0.0759078       │ 0.53163        │ 1.0        │ 0.0759078         │\n",
       "│ 2   │ 0.611315        │ 0.913634       │ 0.155371   │ 0.182079          │\n",
       "│ 3   │ 0.611315        │ 0.841079       │ 0.0703257  │ 0.0581697         │\n",
       "│ 4   │ 0.193005        │ 1.0            │ 1.0        │ 0.630467          │\n",
       "│ 5   │ 0.339988        │ 0.590103       │ 0.129569   │ 0.351336          │\n",
       "│ 6   │ 0.339988        │ 0.538396       │ 0.105502   │ 0.14698           │\n",
       "│ 7   │ 0.193005        │ 0.913634       │ 1.0        │ 1.0               │\n",
       "│ 8   │ 0.339988        │ 0.702436       │ 0.155371   │ 0.214252          │\n",
       "│ 9   │ 1.0             │ 0.0892247      │ 0.251677   │ 0.390675          │"
      ]
     },
     "execution_count": 4,
     "metadata": {},
     "output_type": "execute_result"
    }
   ],
   "source": [
    "DataFrame(Shock_proofness = [prioritycrit[10], prioritycon10...], Purchase_costs = [prioritycrit[11], prioritycon11...], Fuel_costs = [prioritycrit[12] , prioritycon12...], Maintenance_costs = [prioritycrit[13], prioritycon13...], Total_Priority = [Missing, reshape(Totalpriority, length(Totalpriority))...])"
   ]
  },
  {
   "cell_type": "code",
   "execution_count": 5,
   "metadata": {},
   "outputs": [
    {
     "data": {
      "text/html": [
       "<table class=\"data-frame\"><thead><tr><th></th><th>Priority</th><th>Maneuverability</th><th>Signature_profile</th><th>Redundancy</th><th>Nr_of_components</th></tr><tr><th></th><th>String</th><th>Int64</th><th>Int64</th><th>Int64</th><th>Int64</th></tr></thead><tbody><p>9 rows × 5 columns</p><tr><th>1</th><td>Prio criterion</td><td>3</td><td>2</td><td>5</td><td>13</td></tr><tr><th>2</th><td>concept 1</td><td>7</td><td>7</td><td>8</td><td>3</td></tr><tr><th>3</th><td>concept 2</td><td>6</td><td>6</td><td>7</td><td>2</td></tr><tr><th>4</th><td>concept 3</td><td>8</td><td>8</td><td>6</td><td>1</td></tr><tr><th>5</th><td>concept 4</td><td>3</td><td>3</td><td>4</td><td>8</td></tr><tr><th>6</th><td>concept 5</td><td>2</td><td>2</td><td>3</td><td>5</td></tr><tr><th>7</th><td>concept 6</td><td>5</td><td>5</td><td>2</td><td>6</td></tr><tr><th>8</th><td>concept 7</td><td>4</td><td>4</td><td>1</td><td>7</td></tr><tr><th>9</th><td>concept 8</td><td>1</td><td>1</td><td>5</td><td>4</td></tr></tbody></table>"
      ],
      "text/latex": [
       "\\begin{tabular}{r|ccccc}\n",
       "\t& Priority & Maneuverability & Signature\\_profile & Redundancy & Nr\\_of\\_components\\\\\n",
       "\t\\hline\n",
       "\t& String & Int64 & Int64 & Int64 & Int64\\\\\n",
       "\t\\hline\n",
       "\t1 & Prio criterion & 3 & 2 & 5 & 13 \\\\\n",
       "\t2 & concept 1 & 7 & 7 & 8 & 3 \\\\\n",
       "\t3 & concept 2 & 6 & 6 & 7 & 2 \\\\\n",
       "\t4 & concept 3 & 8 & 8 & 6 & 1 \\\\\n",
       "\t5 & concept 4 & 3 & 3 & 4 & 8 \\\\\n",
       "\t6 & concept 5 & 2 & 2 & 3 & 5 \\\\\n",
       "\t7 & concept 6 & 5 & 5 & 2 & 6 \\\\\n",
       "\t8 & concept 7 & 4 & 4 & 1 & 7 \\\\\n",
       "\t9 & concept 8 & 1 & 1 & 5 & 4 \\\\\n",
       "\\end{tabular}\n"
      ],
      "text/plain": [
       "9×5 DataFrame. Omitted printing of 1 columns\n",
       "│ Row │ Priority       │ Maneuverability │ Signature_profile │ Redundancy │\n",
       "│     │ \u001b[90mString\u001b[39m         │ \u001b[90mInt64\u001b[39m           │ \u001b[90mInt64\u001b[39m             │ \u001b[90mInt64\u001b[39m      │\n",
       "├─────┼────────────────┼─────────────────┼───────────────────┼────────────┤\n",
       "│ 1   │ Prio criterion │ 3               │ 2                 │ 5          │\n",
       "│ 2   │ concept 1      │ 7               │ 7                 │ 8          │\n",
       "│ 3   │ concept 2      │ 6               │ 6                 │ 7          │\n",
       "│ 4   │ concept 3      │ 8               │ 8                 │ 6          │\n",
       "│ 5   │ concept 4      │ 3               │ 3                 │ 4          │\n",
       "│ 6   │ concept 5      │ 2               │ 2                 │ 3          │\n",
       "│ 7   │ concept 6      │ 5               │ 5                 │ 2          │\n",
       "│ 8   │ concept 7      │ 4               │ 4                 │ 1          │\n",
       "│ 9   │ concept 8      │ 1               │ 1                 │ 5          │"
      ]
     },
     "execution_count": 5,
     "metadata": {},
     "output_type": "execute_result"
    }
   ],
   "source": [
    "DataFrame(Priority = [\"Prio criterion\", MCDA.name.(concepts)...], Maneuverability = [ranking(prioritycrit)[1], ranking(prioritycon1)...], Signature_profile = [ranking(prioritycrit)[2], ranking(prioritycon2)...], Redundancy = [ranking(prioritycrit)[3], ranking(prioritycon3)...], Nr_of_components = [ranking(prioritycrit)[4], ranking(prioritycon4)...])"
   ]
  },
  {
   "cell_type": "code",
   "execution_count": 6,
   "metadata": {},
   "outputs": [
    {
     "data": {
      "text/html": [
       "<table class=\"data-frame\"><thead><tr><th></th><th>Space_consumption</th><th>Weight</th><th>Fuel_capacity</th><th>Reliability</th><th>Maintainability</th></tr><tr><th></th><th>Int64</th><th>Int64</th><th>Int64</th><th>Int64</th><th>Int64</th></tr></thead><tbody><p>9 rows × 5 columns</p><tr><th>1</th><td>9</td><td>7</td><td>6</td><td>10</td><td>8</td></tr><tr><th>2</th><td>3</td><td>2</td><td>2</td><td>6</td><td>5</td></tr><tr><th>3</th><td>2</td><td>1</td><td>3</td><td>8</td><td>4</td></tr><tr><th>4</th><td>8</td><td>8</td><td>1</td><td>2</td><td>8</td></tr><tr><th>5</th><td>5</td><td>4</td><td>7</td><td>5</td><td>3</td></tr><tr><th>6</th><td>4</td><td>5</td><td>6</td><td>4</td><td>2</td></tr><tr><th>7</th><td>6</td><td>6</td><td>5</td><td>3</td><td>7</td></tr><tr><th>8</th><td>1</td><td>3</td><td>4</td><td>7</td><td>6</td></tr><tr><th>9</th><td>7</td><td>7</td><td>8</td><td>1</td><td>1</td></tr></tbody></table>"
      ],
      "text/latex": [
       "\\begin{tabular}{r|ccccc}\n",
       "\t& Space\\_consumption & Weight & Fuel\\_capacity & Reliability & Maintainability\\\\\n",
       "\t\\hline\n",
       "\t& Int64 & Int64 & Int64 & Int64 & Int64\\\\\n",
       "\t\\hline\n",
       "\t1 & 9 & 7 & 6 & 10 & 8 \\\\\n",
       "\t2 & 3 & 2 & 2 & 6 & 5 \\\\\n",
       "\t3 & 2 & 1 & 3 & 8 & 4 \\\\\n",
       "\t4 & 8 & 8 & 1 & 2 & 8 \\\\\n",
       "\t5 & 5 & 4 & 7 & 5 & 3 \\\\\n",
       "\t6 & 4 & 5 & 6 & 4 & 2 \\\\\n",
       "\t7 & 6 & 6 & 5 & 3 & 7 \\\\\n",
       "\t8 & 1 & 3 & 4 & 7 & 6 \\\\\n",
       "\t9 & 7 & 7 & 8 & 1 & 1 \\\\\n",
       "\\end{tabular}\n"
      ],
      "text/plain": [
       "9×5 DataFrame. Omitted printing of 1 columns\n",
       "│ Row │ Space_consumption │ Weight │ Fuel_capacity │ Reliability │\n",
       "│     │ \u001b[90mInt64\u001b[39m             │ \u001b[90mInt64\u001b[39m  │ \u001b[90mInt64\u001b[39m         │ \u001b[90mInt64\u001b[39m       │\n",
       "├─────┼───────────────────┼────────┼───────────────┼─────────────┤\n",
       "│ 1   │ 9                 │ 7      │ 6             │ 10          │\n",
       "│ 2   │ 3                 │ 2      │ 2             │ 6           │\n",
       "│ 3   │ 2                 │ 1      │ 3             │ 8           │\n",
       "│ 4   │ 8                 │ 8      │ 1             │ 2           │\n",
       "│ 5   │ 5                 │ 4      │ 7             │ 5           │\n",
       "│ 6   │ 4                 │ 5      │ 6             │ 4           │\n",
       "│ 7   │ 6                 │ 6      │ 5             │ 3           │\n",
       "│ 8   │ 1                 │ 3      │ 4             │ 7           │\n",
       "│ 9   │ 7                 │ 7      │ 8             │ 1           │"
      ]
     },
     "execution_count": 6,
     "metadata": {},
     "output_type": "execute_result"
    }
   ],
   "source": [
    "DataFrame(Space_consumption = [ranking(prioritycrit)[5], ranking(prioritycon5)...], Weight = [ranking(prioritycrit)[6], ranking(prioritycon6)...], Fuel_capacity = [ranking(prioritycrit)[7], ranking(prioritycon7)...], Reliability = [ranking(prioritycrit)[8], ranking(prioritycon8)...], Maintainability = [ranking(prioritycrit)[9], ranking(prioritycon9)...])"
   ]
  },
  {
   "cell_type": "code",
   "execution_count": 7,
   "metadata": {},
   "outputs": [
    {
     "data": {
      "text/html": [
       "<table class=\"data-frame\"><thead><tr><th></th><th>Shock_proofness</th><th>Purchase_costs</th><th>Fuel_costs</th><th>Maintenance_costs</th><th>Total_Priority</th></tr><tr><th></th><th>Int64</th><th>Int64</th><th>Int64</th><th>Int64</th><th>Any</th></tr></thead><tbody><p>9 rows × 5 columns</p><tr><th>1</th><td>12</td><td>4</td><td>1</td><td>11</td><td>Missing</td></tr><tr><th>2</th><td>3</td><td>3</td><td>5</td><td>6</td><td>7</td></tr><tr><th>3</th><td>2</td><td>4</td><td>8</td><td>8</td><td>8</td></tr><tr><th>4</th><td>8</td><td>1</td><td>2</td><td>2</td><td>5</td></tr><tr><th>5</th><td>6</td><td>6</td><td>6</td><td>4</td><td>2</td></tr><tr><th>6</th><td>5</td><td>7</td><td>7</td><td>7</td><td>3</td></tr><tr><th>7</th><td>7</td><td>2</td><td>1</td><td>1</td><td>1</td></tr><tr><th>8</th><td>4</td><td>5</td><td>4</td><td>5</td><td>6</td></tr><tr><th>9</th><td>1</td><td>8</td><td>3</td><td>3</td><td>4</td></tr></tbody></table>"
      ],
      "text/latex": [
       "\\begin{tabular}{r|ccccc}\n",
       "\t& Shock\\_proofness & Purchase\\_costs & Fuel\\_costs & Maintenance\\_costs & Total\\_Priority\\\\\n",
       "\t\\hline\n",
       "\t& Int64 & Int64 & Int64 & Int64 & Any\\\\\n",
       "\t\\hline\n",
       "\t1 & 12 & 4 & 1 & 11 & Missing \\\\\n",
       "\t2 & 3 & 3 & 5 & 6 & 7 \\\\\n",
       "\t3 & 2 & 4 & 8 & 8 & 8 \\\\\n",
       "\t4 & 8 & 1 & 2 & 2 & 5 \\\\\n",
       "\t5 & 6 & 6 & 6 & 4 & 2 \\\\\n",
       "\t6 & 5 & 7 & 7 & 7 & 3 \\\\\n",
       "\t7 & 7 & 2 & 1 & 1 & 1 \\\\\n",
       "\t8 & 4 & 5 & 4 & 5 & 6 \\\\\n",
       "\t9 & 1 & 8 & 3 & 3 & 4 \\\\\n",
       "\\end{tabular}\n"
      ],
      "text/plain": [
       "9×5 DataFrame. Omitted printing of 1 columns\n",
       "│ Row │ Shock_proofness │ Purchase_costs │ Fuel_costs │ Maintenance_costs │\n",
       "│     │ \u001b[90mInt64\u001b[39m           │ \u001b[90mInt64\u001b[39m          │ \u001b[90mInt64\u001b[39m      │ \u001b[90mInt64\u001b[39m             │\n",
       "├─────┼─────────────────┼────────────────┼────────────┼───────────────────┤\n",
       "│ 1   │ 12              │ 4              │ 1          │ 11                │\n",
       "│ 2   │ 3               │ 3              │ 5          │ 6                 │\n",
       "│ 3   │ 2               │ 4              │ 8          │ 8                 │\n",
       "│ 4   │ 8               │ 1              │ 2          │ 2                 │\n",
       "│ 5   │ 6               │ 6              │ 6          │ 4                 │\n",
       "│ 6   │ 5               │ 7              │ 7          │ 7                 │\n",
       "│ 7   │ 7               │ 2              │ 1          │ 1                 │\n",
       "│ 8   │ 4               │ 5              │ 4          │ 5                 │\n",
       "│ 9   │ 1               │ 8              │ 3          │ 3                 │"
      ]
     },
     "execution_count": 7,
     "metadata": {},
     "output_type": "execute_result"
    }
   ],
   "source": [
    "DataFrame(Shock_proofness = [ranking(prioritycrit)[10], ranking(prioritycon10)...], Purchase_costs = [ranking(prioritycrit)[11], ranking(prioritycon11)...], Fuel_costs = [ranking(prioritycrit)[12] , ranking(prioritycon12)...], Maintenance_costs = [ranking(prioritycrit)[13], ranking(prioritycon13)...], Total_Priority = [Missing, ranking(Totalpriority)...])"
   ]
  },
  {
   "cell_type": "code",
   "execution_count": null,
   "metadata": {},
   "outputs": [],
   "source": []
  }
 ],
 "metadata": {
  "kernelspec": {
   "display_name": "Julia 1.1.0",
   "language": "julia",
   "name": "julia-1.1"
  },
  "language_info": {
   "file_extension": ".jl",
   "mimetype": "application/julia",
   "name": "julia",
   "version": "1.1.0"
  }
 },
 "nbformat": 4,
 "nbformat_minor": 2
}
