{
 "cells": [
  {
   "cell_type": "code",
   "execution_count": 7,
   "metadata": {},
   "outputs": [
    {
     "data": {
      "text/plain": [
       "1×1×13 Array{Float64,3}:\n",
       "[:, :, 1] =\n",
       " 0.115\n",
       "\n",
       "[:, :, 2] =\n",
       " 0.129\n",
       "\n",
       "[:, :, 3] =\n",
       " 0.101\n",
       "\n",
       "...\n",
       "\n",
       "[:, :, 11] =\n",
       " 0.107\n",
       "\n",
       "[:, :, 12] =\n",
       " 0.138\n",
       "\n",
       "[:, :, 13] =\n",
       " 0.031"
      ]
     },
     "metadata": {},
     "output_type": "display_data"
    },
    {
     "data": {
      "text/plain": [
       "8×8 Array{Float64,2}:\n",
       " 0.0       0.103762  0.47732   0.147275   …  0.257038   0.198636  0.334232\n",
       " 0.064751  0.0       0.478015  0.129261      0.244812   0.143179  0.321526\n",
       " 0.168353  0.230059  0.0       0.2337        0.0940696  0.211877  0.297794\n",
       " 0.457781  0.500778  0.535174  0.0           0.4122     0.354359  0.325264\n",
       " 0.451     0.481444  0.524541  0.087         0.424567   0.373     0.312275\n",
       " 0.512304  0.561088  0.372302  0.167959   …  0.0        0.189712  0.370758\n",
       " 0.351591  0.399145  0.567799  0.0588079     0.317401   0.0       0.376111\n",
       " 0.410739  0.459043  0.385268  0.317265      0.405      0.428663  0.0     "
      ]
     },
     "metadata": {},
     "output_type": "display_data"
    },
    {
     "name": "stdout",
     "output_type": "stream",
     "text": [
      "sum(cvals .* globalweight.(con.criteria)) = 6.13353451244265\n",
      "sum(cvals .* globalweight.(con.criteria)) = 5.619052848027604\n",
      "sum(cvals .* globalweight.(con.criteria)) = 5.20818150973853\n",
      "sum(cvals .* globalweight.(con.criteria)) = 6.465249146088454\n",
      "sum(cvals .* globalweight.(con.criteria)) = 6.371133828544745\n",
      "sum(cvals .* globalweight.(con.criteria)) = 6.164241520093808\n",
      "sum(cvals .* globalweight.(con.criteria)) = 6.251787547633913\n",
      "sum(cvals .* globalweight.(con.criteria)) = 4.834769700081292\n",
      "\n",
      "[14, 14, 14, 18, 16, 17, 18, 15]"
     ]
    },
    {
     "data": {
      "text/plain": [
       "8-element Array{Float64,1}:\n",
       " 0.2415826620178397 \n",
       " 0.21768499798662364\n",
       " 0.21303488754083028\n",
       " 0.37398287014170667\n",
       " 0.3791182613676938 \n",
       " 0.3343961144603974 \n",
       " 0.30823232453194677\n",
       " 0.38265378569493885"
      ]
     },
     "metadata": {},
     "output_type": "display_data"
    },
    {
     "data": {
      "text/plain": [
       "8-element Array{Float64,1}:\n",
       " 0.34521693638632456\n",
       " 0.39075991364700047\n",
       " 0.4772025748372197 \n",
       " 0.163038320098571  \n",
       " 0.1612573762121766 \n",
       " 0.3078698264664372 \n",
       " 0.2713466259024361 \n",
       " 0.33399433019181163"
      ]
     },
     "metadata": {},
     "output_type": "display_data"
    },
    {
     "data": {
      "text/plain": [
       "8-element Array{Float64,1}:\n",
       " -0.10363427436848485 \n",
       " -0.17307491566037683 \n",
       " -0.2641676872963894  \n",
       "  0.21094455004313567 \n",
       "  0.2178608851555172  \n",
       "  0.02652628799396023 \n",
       "  0.03688569862951069 \n",
       "  0.048659455503127225"
      ]
     },
     "metadata": {},
     "output_type": "display_data"
    },
    {
     "data": {
      "text/plain": [
       "8-element Array{Float64,1}:\n",
       "  0.2178608851555172  \n",
       "  0.21094455004313567 \n",
       "  0.048659455503127225\n",
       "  0.03688569862951069 \n",
       "  0.02652628799396023 \n",
       " -0.10363427436848485 \n",
       " -0.17307491566037683 \n",
       " -0.2641676872963894  "
      ]
     },
     "metadata": {},
     "output_type": "display_data"
    },
    {
     "data": {
      "text/plain": [
       "8-element Array{String,1}:\n",
       " \"concept 5\"\n",
       " \"concept 4\"\n",
       " \"concept 8\"\n",
       " \"concept 7\"\n",
       " \"concept 6\"\n",
       " \"concept 1\"\n",
       " \"concept 2\"\n",
       " \"concept 3\""
      ]
     },
     "metadata": {},
     "output_type": "display_data"
    },
    {
     "name": "stdout",
     "output_type": "stream",
     "text": [
      "\n",
      "\n",
      "\n",
      "\n",
      "\n",
      "\n",
      "\n"
     ]
    }
   ],
   "source": [
    "using MCDA\n",
    "using Test\n",
    "using DataFrames\n",
    "\n",
    "criteria = [\n",
    "    Criterion(\"Maneuverability\", 8, 0.115, MCDA.convertSymbolicScale),\n",
    "    Criterion(\"Signature profile\", 9, 0.129, MCDA.convertSymbolicScale),\n",
    "    Criterion(\"Redundancy\", 7, 0.101, x -> MCDA.convertMinMaxIncr(x, 1, 4)),\n",
    "    Criterion(\"Nr. of components\", 2, 0.023, x -> MCDA.convertMinMaxDecr(x, 14, 18)),\n",
    "    Criterion(\"Space consumption\", 5, 0.058, x -> MCDA.convertMinMaxDecr(x, 274, 715)),\n",
    "    Criterion(\"Weight\", 7, 0.081, x -> MCDA.convertMinMaxDecr(x, 255, 550)),\n",
    "    Criterion(\"Fuel capacity\", 7, 0.081, x -> MCDA.convertMinMaxDecr(x, 301, 328)),\n",
    "    Criterion(\"Reliability\", 4, 0.042, MCDA.convertSymbolicScale),\n",
    "    Criterion(\"Maintainability\", 6, 0.064, MCDA.convertSymbolicScale),\n",
    "    Criterion(\"Shock-proofness\", 3, 0.032, MCDA.convertSymbolicScale),\n",
    "    Criterion(\"Purchase costs\", 7, 0.107, x -> MCDA.convertMinMaxDecr(x, 21, 74)),\n",
    "    Criterion(\"Fuel costs\", 9, 0.138,  x -> MCDA.convertMinMaxDecr(x, 3, 3.6)),\n",
    "    Criterion(\"Maintenance costs\", 2, 0.031,  x -> MCDA.convertMinMaxDecr(x, 0.09, 0.23))\n",
    "]\n",
    "\n",
    "concepts = []\n",
    "con = Concept(\"concept 1\", criteria)\n",
    "con.values[1] = \"ref\"\n",
    "con.values[2] = \"ref\"\n",
    "con.values[3] = 2\n",
    "con.values[4] = 14\n",
    "con.values[5] = 286.3\n",
    "con.values[6] = 255.9\n",
    "con.values[7] = 302.4\n",
    "con.values[8] = \"ref\"\n",
    "con.values[9] = \"ref\"\n",
    "con.values[10] = \"ref\"\n",
    "con.values[11] = 26.14\n",
    "con.values[12] = 3.42\n",
    "con.values[13] = 0.168\n",
    "push!(concepts, con)\n",
    "con = Concept(\"concept 2\", criteria)\n",
    "con.values[1] = \"0\"\n",
    "con.values[2] = \"0\"\n",
    "con.values[3] = 2\n",
    "con.values[4] = 14\n",
    "con.values[5] = 280.6\n",
    "con.values[6] = 256.1\n",
    "con.values[7] = 306.5\n",
    "con.values[8] = \"-\"\n",
    "con.values[9] = \"+\"\n",
    "con.values[10] = \"0\"\n",
    "con.values[11] = 26.37\n",
    "con.values[12] = 3.55\n",
    "con.values[13] = 0.225\n",
    "push!(concepts, con)\n",
    "con = Concept(\"concept 3\", criteria)\n",
    "con.values[1] = \"--\"\n",
    "con.values[2] = \"-\"\n",
    "con.values[3] = 2\n",
    "con.values[4] = 14\n",
    "con.values[5] = 715\n",
    "con.values[6] = 549.4\n",
    "con.values[7] = 301.7\n",
    "con.values[8] = \"++\"\n",
    "con.values[9] = \"--\"\n",
    "con.values[10] = \"--\"\n",
    "con.values[11] = 21.93\n",
    "con.values[12] = 3.03\n",
    "con.values[13] = 0.119\n",
    "push!(concepts, con)\n",
    "con = Concept(\"concept 4\", criteria)\n",
    "con.values[1] = \"+++\"\n",
    "con.values[2] = \"++\"\n",
    "con.values[3] = 3\n",
    "con.values[4] = 18\n",
    "con.values[5] = 450.3\n",
    "con.values[6] = 334.1\n",
    "con.values[7] = 312.4\n",
    "con.values[8] = \"+\"\n",
    "con.values[9] = \"++\"\n",
    "con.values[10] = \"-\"\n",
    "con.values[11] = 32.04\n",
    "con.values[12] = 3.44\n",
    "con.values[13] = 0.140\n",
    "push!(concepts, con)\n",
    "con = Concept(\"concept 5\", criteria)\n",
    "con.values[1] = \"+++\"\n",
    "con.values[2] = \"++\"\n",
    "con.values[3] = 3\n",
    "con.values[4] = 16\n",
    "con.values[5] = 459.3\n",
    "con.values[6] = 368.4\n",
    "con.values[7] = 312.4\n",
    "con.values[8] = \"+\"\n",
    "con.values[9] = \"+++\"\n",
    "con.values[10] = \"-\"\n",
    "con.values[11] = 33.17\n",
    "con.values[12] = 3.48\n",
    "con.values[13] = 0.176\n",
    "push!(concepts, con)\n",
    "con = Concept(\"concept 6\", criteria)\n",
    "con.values[1] = \"+\"\n",
    "con.values[2] = \"+\"\n",
    "con.values[3] = 3\n",
    "con.values[4] = 17\n",
    "con.values[5] = 677.2\n",
    "con.values[6] = 487.7\n",
    "con.values[7] = 309.6\n",
    "con.values[8] = \"+\"\n",
    "con.values[9] = \"--\"\n",
    "con.values[10] = \"--\"\n",
    "con.values[11] = 23.93\n",
    "con.values[12] = 3.03\n",
    "con.values[13] = 0.097\n",
    "push!(concepts, con)\n",
    "con = Concept(\"concept 7\", criteria)\n",
    "con.values[1] = \"++\"\n",
    "con.values[2] = \"+\"\n",
    "con.values[3] = 3\n",
    "con.values[4] = 18\n",
    "con.values[5] = 274.8\n",
    "con.values[6] = 299.6\n",
    "con.values[7] = 309.1\n",
    "con.values[8] = \"-\"\n",
    "con.values[9] = \"-\"\n",
    "con.values[10] = \"-\"\n",
    "con.values[11] = 28.29\n",
    "con.values[12] = 3.41\n",
    "con.values[13] = 0.158\n",
    "push!(concepts, con)\n",
    "con = Concept(\"concept 8\", criteria)\n",
    "con.values[1] = \"+++\"\n",
    "con.values[2] = \"+++\"\n",
    "con.values[3] = 2\n",
    "con.values[4] = 15\n",
    "con.values[5] = 690.2\n",
    "con.values[6] = 550\n",
    "con.values[7] = 327.4\n",
    "con.values[8] = \"+++\"\n",
    "con.values[9] = \"+++\"\n",
    "con.values[10] = \"+\"\n",
    "con.values[11] = 73.24\n",
    "con.values[12] = 3.34\n",
    "con.values[13] = 0.137\n",
    "push!(concepts, con)\n",
    "\n",
    "for con in concepts\n",
    "    cvals = MCDA.convertedvalues(con)\n",
    "    @show sum(cvals .* globalweight.(con.criteria))\n",
    "end\n",
    "nconcepts = length(concepts)\n",
    "M = criterionconvertedifneededvalue.(concepts,(1:length(criteria))')\n",
    "println()\n",
    "println(criterionconvertedifneededvalue.(concepts,4))\n",
    "\n",
    "diff  = MCDA.diff(M)\n",
    "critmaxdiff = reshape(maximum(diff, dims=(1,2)), size(diff,3))\n",
    "preffuncs = fill(MCDA.usual, 13)\n",
    "preffuncs = convert(Vector{Function}, preffuncs)\n",
    "preffuncs[1] = MCDA.usual\n",
    "preffuncs[2] = MCDA.usual\n",
    "preffuncs[3] = MCDA.usual\n",
    "preffuncs[4] = MCDA.usual\n",
    "preffuncs[5] = (d -> MCDA.vshape(d,critmaxdiff[5]))\n",
    "preffuncs[6] = (d -> MCDA.vshape(d,critmaxdiff[6]))\n",
    "preffuncs[7] = (d -> MCDA.vshape(d,critmaxdiff[7]))\n",
    "preffuncs[8] = MCDA.usual\n",
    "preffuncs[9] = MCDA.usual\n",
    "preffuncs[10] = MCDA.usual\n",
    "preffuncs[11] = (d -> MCDA.vshape(d,critmaxdiff[11]))\n",
    "preffuncs[12] = (d -> MCDA.vshape(d,critmaxdiff[12]))\n",
    "preffuncs[13] = (d -> MCDA.vshape(d,critmaxdiff[13]))\n",
    "\n",
    "minmax = ones(13)\n",
    "minmax[1] = 1\n",
    "minmax[2] = 1\n",
    "minmax[3] = 1\n",
    "minmax[4] = -1\n",
    "minmax[5] = -1\n",
    "minmax[6] = -1\n",
    "minmax[7] = -1\n",
    "minmax[8] = 1\n",
    "minmax[9] = 1\n",
    "minmax[10] = 1\n",
    "minmax[11] = -1\n",
    "minmax[12] = -1\n",
    "minmax[13] = -1\n",
    "P = promdiff(diff, preffuncs, minmax)\n",
    "\n",
    "w = reshape(globalweight.(criteria), 1, 1, length(criteria))\n",
    "display(w)\n",
    "\n",
    "pimat = reshape(sum(P .* w, dims=3), nconcepts, nconcepts)\n",
    "display(pimat)\n",
    "phip=MCDA.phip(pimat)\n",
    "println()\n",
    "display(phip)\n",
    "phim=MCDA.phim(pimat)\n",
    "println()\n",
    "display(phim)\n",
    "phi = phip-phim\n",
    "println()\n",
    "display(phi)\n",
    "\n",
    "perms = reverse(sortperm(phi))\n",
    "\n",
    "println()\n",
    "display(phi[perms])\n",
    "println()\n",
    "\n",
    "display(MCDA.name.(concepts[perms]))\n",
    "println()"
   ]
  },
  {
   "cell_type": "code",
   "execution_count": 8,
   "metadata": {},
   "outputs": [
    {
     "data": {
      "text/plain": [
       "8-element Array{String,1}:\n",
       " \"concept 1\"\n",
       " \"concept 2\"\n",
       " \"concept 3\"\n",
       " \"concept 4\"\n",
       " \"concept 5\"\n",
       " \"concept 6\"\n",
       " \"concept 7\"\n",
       " \"concept 8\""
      ]
     },
     "execution_count": 8,
     "metadata": {},
     "output_type": "execute_result"
    }
   ],
   "source": [
    "MCDA.name.(concepts)"
   ]
  },
  {
   "cell_type": "code",
   "execution_count": 11,
   "metadata": {},
   "outputs": [
    {
     "data": {
      "text/html": [
       "<table class=\"data-frame\"><thead><tr><th></th><th>Concepts</th><th>∅pos</th><th>∅neg</th></tr><tr><th></th><th>String</th><th>Float64</th><th>Float64</th></tr></thead><tbody><p>8 rows × 3 columns</p><tr><th>1</th><td>concept 1</td><td>0.241583</td><td>0.345217</td></tr><tr><th>2</th><td>concept 2</td><td>0.217685</td><td>0.39076</td></tr><tr><th>3</th><td>concept 3</td><td>0.213035</td><td>0.477203</td></tr><tr><th>4</th><td>concept 4</td><td>0.373983</td><td>0.163038</td></tr><tr><th>5</th><td>concept 5</td><td>0.379118</td><td>0.161257</td></tr><tr><th>6</th><td>concept 6</td><td>0.334396</td><td>0.30787</td></tr><tr><th>7</th><td>concept 7</td><td>0.308232</td><td>0.271347</td></tr><tr><th>8</th><td>concept 8</td><td>0.382654</td><td>0.333994</td></tr></tbody></table>"
      ],
      "text/latex": [
       "\\begin{tabular}{r|ccc}\n",
       "\t& Concepts & ∅pos & ∅neg\\\\\n",
       "\t\\hline\n",
       "\t& String & Float64 & Float64\\\\\n",
       "\t\\hline\n",
       "\t1 & concept 1 & 0.241583 & 0.345217 \\\\\n",
       "\t2 & concept 2 & 0.217685 & 0.39076 \\\\\n",
       "\t3 & concept 3 & 0.213035 & 0.477203 \\\\\n",
       "\t4 & concept 4 & 0.373983 & 0.163038 \\\\\n",
       "\t5 & concept 5 & 0.379118 & 0.161257 \\\\\n",
       "\t6 & concept 6 & 0.334396 & 0.30787 \\\\\n",
       "\t7 & concept 7 & 0.308232 & 0.271347 \\\\\n",
       "\t8 & concept 8 & 0.382654 & 0.333994 \\\\\n",
       "\\end{tabular}\n"
      ],
      "text/plain": [
       "8×3 DataFrame\n",
       "│ Row │ Concepts  │ ∅pos     │ ∅neg     │\n",
       "│     │ \u001b[90mString\u001b[39m    │ \u001b[90mFloat64\u001b[39m  │ \u001b[90mFloat64\u001b[39m  │\n",
       "├─────┼───────────┼──────────┼──────────┤\n",
       "│ 1   │ concept 1 │ 0.241583 │ 0.345217 │\n",
       "│ 2   │ concept 2 │ 0.217685 │ 0.39076  │\n",
       "│ 3   │ concept 3 │ 0.213035 │ 0.477203 │\n",
       "│ 4   │ concept 4 │ 0.373983 │ 0.163038 │\n",
       "│ 5   │ concept 5 │ 0.379118 │ 0.161257 │\n",
       "│ 6   │ concept 6 │ 0.334396 │ 0.30787  │\n",
       "│ 7   │ concept 7 │ 0.308232 │ 0.271347 │\n",
       "│ 8   │ concept 8 │ 0.382654 │ 0.333994 │"
      ]
     },
     "execution_count": 11,
     "metadata": {},
     "output_type": "execute_result"
    }
   ],
   "source": [
    "Outranking_flows = DataFrame(Concepts = MCDA.name.(concepts),∅pos = phip, ∅neg = phim)"
   ]
  },
  {
   "cell_type": "code",
   "execution_count": 12,
   "metadata": {},
   "outputs": [
    {
     "data": {
      "text/html": [
       "<table class=\"data-frame\"><thead><tr><th></th><th>Concepts</th><th>∅</th></tr><tr><th></th><th>String</th><th>Float64</th></tr></thead><tbody><p>8 rows × 2 columns</p><tr><th>1</th><td>concept 5</td><td>0.217861</td></tr><tr><th>2</th><td>concept 4</td><td>0.210945</td></tr><tr><th>3</th><td>concept 8</td><td>0.0486595</td></tr><tr><th>4</th><td>concept 7</td><td>0.0368857</td></tr><tr><th>5</th><td>concept 6</td><td>0.0265263</td></tr><tr><th>6</th><td>concept 1</td><td>-0.103634</td></tr><tr><th>7</th><td>concept 2</td><td>-0.173075</td></tr><tr><th>8</th><td>concept 3</td><td>-0.264168</td></tr></tbody></table>"
      ],
      "text/latex": [
       "\\begin{tabular}{r|cc}\n",
       "\t& Concepts & ∅\\\\\n",
       "\t\\hline\n",
       "\t& String & Float64\\\\\n",
       "\t\\hline\n",
       "\t1 & concept 5 & 0.217861 \\\\\n",
       "\t2 & concept 4 & 0.210945 \\\\\n",
       "\t3 & concept 8 & 0.0486595 \\\\\n",
       "\t4 & concept 7 & 0.0368857 \\\\\n",
       "\t5 & concept 6 & 0.0265263 \\\\\n",
       "\t6 & concept 1 & -0.103634 \\\\\n",
       "\t7 & concept 2 & -0.173075 \\\\\n",
       "\t8 & concept 3 & -0.264168 \\\\\n",
       "\\end{tabular}\n"
      ],
      "text/plain": [
       "8×2 DataFrame\n",
       "│ Row │ Concepts  │ ∅         │\n",
       "│     │ \u001b[90mString\u001b[39m    │ \u001b[90mFloat64\u001b[39m   │\n",
       "├─────┼───────────┼───────────┤\n",
       "│ 1   │ concept 5 │ 0.217861  │\n",
       "│ 2   │ concept 4 │ 0.210945  │\n",
       "│ 3   │ concept 8 │ 0.0486595 │\n",
       "│ 4   │ concept 7 │ 0.0368857 │\n",
       "│ 5   │ concept 6 │ 0.0265263 │\n",
       "│ 6   │ concept 1 │ -0.103634 │\n",
       "│ 7   │ concept 2 │ -0.173075 │\n",
       "│ 8   │ concept 3 │ -0.264168 │"
      ]
     },
     "execution_count": 12,
     "metadata": {},
     "output_type": "execute_result"
    }
   ],
   "source": [
    "Promethee2 = DataFrame(Concepts = MCDA.name.(concepts[perms]),∅ = phi[perms] )"
   ]
  },
  {
   "cell_type": "code",
   "execution_count": null,
   "metadata": {},
   "outputs": [],
   "source": [
    "length(phi[perms])+1 .- sortperm(reshape(phi[perms],length(phi[perms])))"
   ]
  },
  {
   "cell_type": "code",
   "execution_count": null,
   "metadata": {},
   "outputs": [],
   "source": [
    "phi[perms]"
   ]
  },
  {
   "cell_type": "code",
   "execution_count": null,
   "metadata": {},
   "outputs": [],
   "source": []
  }
 ],
 "metadata": {
  "kernelspec": {
   "display_name": "Julia 1.1.0",
   "language": "julia",
   "name": "julia-1.1"
  },
  "language_info": {
   "file_extension": ".jl",
   "mimetype": "application/julia",
   "name": "julia",
   "version": "1.1.0"
  }
 },
 "nbformat": 4,
 "nbformat_minor": 2
}
