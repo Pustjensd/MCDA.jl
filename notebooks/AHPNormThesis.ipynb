{
 "cells": [
  {
   "cell_type": "code",
   "execution_count": 21,
   "metadata": {},
   "outputs": [
    {
     "name": "stdout",
     "output_type": "stream",
     "text": [
      "CRcrit = ConsRatio(CMcrit) = 1.9992304121288946\n",
      "CRcon1 = ConsRatio(CMcon1) = 1.945014016140604\n",
      "CRcon2 = ConsRatio(CMcon2) = 3.2020544134327227\n",
      "CRcon3 = ConsRatio(CMcon3) = 0.0\n",
      "CRcon4 = ConsRatio(CMcon4) = 3.667213672383205\n",
      "CRcon5 = ConsRatio(CMcon5) = 2.243568113434156\n",
      "CRcon6 = ConsRatio(CMcon6) = 2.6543788332767515\n",
      "CRcon7 = ConsRatio(CMcon7) = 2.241567705204864\n",
      "CRcon8 = ConsRatio(CMcon8) = 3.2829893788804734\n",
      "CRcon9 = ConsRatio(CMcon9) = 2.3076645689876814\n",
      "CRcon10 = ConsRatio(CMcon10) = 1.247270776268046\n",
      "CRcon11 = ConsRatio(CMcon11) = 1.3499416859557083\n",
      "CRcon12 = ConsRatio(CMcon12) = 2.0136787999457337\n",
      "CRcon13 = ConsRatio(CMcon13) = 2.2833215585157163\n",
      "Totalpriority = priorityall * prioritycrit = [0.0941263; 0.0808851; 0.13342; 0.134608; 0.133245; 0.157864; 0.110352; 0.1555]\n"
     ]
    },
    {
     "data": {
      "text/plain": [
       "8×1 Array{Float64,2}:\n",
       " 0.09412625460682292\n",
       " 0.08088514982206929\n",
       " 0.13341953339027007\n",
       " 0.13460812257369392\n",
       " 0.13324549290040985\n",
       " 0.1578638777710596 \n",
       " 0.11035178039131846\n",
       " 0.15549978854435578"
      ]
     },
     "execution_count": 21,
     "metadata": {},
     "output_type": "execute_result"
    }
   ],
   "source": [
    "using MCDA\n",
    "using Test\n",
    "using LinearAlgebra\n",
    "using DataFrames\n",
    "\n",
    "criteria = [\n",
    "    Criterion(\"Maneuverability\", 8, 0.115, MCDA.convertSymbolicScale),\n",
    "    Criterion(\"Signature profile\", 9, 0.129, MCDA.convertSymbolicScale),\n",
    "    Criterion(\"Redundancy\", 7, 0.101, x -> MCDA.convertMinMaxIncr(x, 1, 4)),\n",
    "    Criterion(\"Nr. of components\", 2, 0.023, x -> MCDA.convertMinMaxDecr(x, 14, 18)),\n",
    "    Criterion(\"Space consumption\", 5, 0.058, x -> MCDA.convertMinMaxDecr(x, 274, 715)),\n",
    "    Criterion(\"Weight\", 7, 0.081, x -> MCDA.convertMinMaxDecr(x, 255, 550)),\n",
    "    Criterion(\"Fuel capacity\", 7, 0.081, x -> MCDA.convertMinMaxDecr(x, 301, 328)),\n",
    "    Criterion(\"Reliability\", 4, 0.042, MCDA.convertSymbolicScale),\n",
    "    Criterion(\"Maintainability\", 6, 0.064, MCDA.convertSymbolicScale),\n",
    "    Criterion(\"Shock-proofness\", 3, 0.032, MCDA.convertSymbolicScale),\n",
    "    Criterion(\"Purchase costs\", 7, 0.107, x -> MCDA.convertMinMaxDecr(x, 21, 74)),\n",
    "    Criterion(\"Fuel costs\", 9, 0.138,  x -> MCDA.convertMinMaxDecr(x, 3, 3.6)),\n",
    "    Criterion(\"Maintenance costs\", 2, 0.031,  x -> MCDA.convertMinMaxDecr(x, 0.09, 0.23))\n",
    "]\n",
    "concepts = []\n",
    "\n",
    "con = Concept(\"concept 1\", criteria)\n",
    "con.values[1] = \"ref\"\n",
    "con.values[2] = \"ref\"\n",
    "con.values[3] = 2\n",
    "con.values[4] = 14\n",
    "con.values[5] = 286.3\n",
    "con.values[6] = 255.9\n",
    "con.values[7] = 302.4\n",
    "con.values[8] = \"ref\"\n",
    "con.values[9] = \"ref\"\n",
    "con.values[10] = \"ref\"\n",
    "con.values[11] = 26.14\n",
    "con.values[12] = 3.42\n",
    "con.values[13] = 0.168\n",
    "push!(concepts, con)\n",
    "con = Concept(\"concept 2\", criteria)\n",
    "con.values[1] = \"0\"\n",
    "con.values[2] = \"0\"\n",
    "con.values[3] = 2\n",
    "con.values[4] = 14\n",
    "con.values[5] = 280.6\n",
    "con.values[6] = 256.1\n",
    "con.values[7] = 306.5\n",
    "con.values[8] = \"-\"\n",
    "con.values[9] = \"+\"\n",
    "con.values[10] = \"0\"\n",
    "con.values[11] = 26.37\n",
    "con.values[12] = 3.55\n",
    "con.values[13] = 0.225\n",
    "push!(concepts, con)\n",
    "con = Concept(\"concept 3\", criteria)\n",
    "con.values[1] = \"--\"\n",
    "con.values[2] = \"-\"\n",
    "con.values[3] = 2\n",
    "con.values[4] = 14\n",
    "con.values[5] = 715\n",
    "con.values[6] = 549.4\n",
    "con.values[7] = 301.7\n",
    "con.values[8] = \"++\"\n",
    "con.values[9] = \"--\"\n",
    "con.values[10] = \"--\"\n",
    "con.values[11] = 21.93\n",
    "con.values[12] = 3.03\n",
    "con.values[13] = 0.119\n",
    "push!(concepts, con)\n",
    "con = Concept(\"concept 4\", criteria)\n",
    "con.values[1] = \"+++\"\n",
    "con.values[2] = \"++\"\n",
    "con.values[3] = 3\n",
    "con.values[4] = 18\n",
    "con.values[5] = 450.3\n",
    "con.values[6] = 334.1\n",
    "con.values[7] = 312.4\n",
    "con.values[8] = \"+\"\n",
    "con.values[9] = \"++\"\n",
    "con.values[10] = \"-\"\n",
    "con.values[11] = 32.04\n",
    "con.values[12] = 3.44\n",
    "con.values[13] = 0.140\n",
    "push!(concepts, con)\n",
    "con = Concept(\"concept 5\", criteria)\n",
    "con.values[1] = \"+++\"\n",
    "con.values[2] = \"++\"\n",
    "con.values[3] = 3\n",
    "con.values[4] = 16\n",
    "con.values[5] = 459.3\n",
    "con.values[6] = 368.4\n",
    "con.values[7] = 312.4\n",
    "con.values[8] = \"+\"\n",
    "con.values[9] = \"+++\"\n",
    "con.values[10] = \"-\"\n",
    "con.values[11] = 33.17\n",
    "con.values[12] = 3.48\n",
    "con.values[13] = 0.176\n",
    "push!(concepts, con)\n",
    "con = Concept(\"concept 6\", criteria)\n",
    "con.values[1] = \"+\"\n",
    "con.values[2] = \"+\"\n",
    "con.values[3] = 3\n",
    "con.values[4] = 17\n",
    "con.values[5] = 677.2\n",
    "con.values[6] = 487.7\n",
    "con.values[7] = 309.6\n",
    "con.values[8] = \"+\"\n",
    "con.values[9] = \"--\"\n",
    "con.values[10] = \"--\"\n",
    "con.values[11] = 23.93\n",
    "con.values[12] = 3.03\n",
    "con.values[13] = 0.097\n",
    "push!(concepts, con)\n",
    "con = Concept(\"concept 7\", criteria)\n",
    "con.values[1] = \"++\"\n",
    "con.values[2] = \"+\"\n",
    "con.values[3] = 3\n",
    "con.values[4] = 18\n",
    "con.values[5] = 274.8\n",
    "con.values[6] = 299.6\n",
    "con.values[7] = 309.1\n",
    "con.values[8] = \"-\"\n",
    "con.values[9] = \"-\"\n",
    "con.values[10] = \"-\"\n",
    "con.values[11] = 28.29\n",
    "con.values[12] = 3.41\n",
    "con.values[13] = 0.158\n",
    "push!(concepts, con)\n",
    "con = Concept(\"concept 8\", criteria)\n",
    "con.values[1] = \"+++\"\n",
    "con.values[2] = \"+++\"\n",
    "con.values[3] = 2\n",
    "con.values[4] = 15\n",
    "con.values[5] = 690.2\n",
    "con.values[6] = 550\n",
    "con.values[7] = 327.4\n",
    "con.values[8] = \"+++\"\n",
    "con.values[9] = \"+++\"\n",
    "con.values[10] = \"+\"\n",
    "con.values[11] = 73.24\n",
    "con.values[12] = 3.34\n",
    "con.values[13] = 0.137\n",
    "push!(concepts, con)\n",
    "\n",
    "CMcrit = MCDA.CMcrit(criteria)\n",
    "matcrit = CMcrit^100/10^57\n",
    "prioritycrit = sum(matcrit,dims=2)/sum(sum(matcrit))\n",
    "@show CRcrit = ConsRatio(CMcrit)\n",
    "\n",
    "CMcon1 = MCDA.buildCM(concepts, 1, MCDA.CMScale0_maxdiff)\n",
    "matcon1 = CMcon1^100/10^57\n",
    "prioritycon1 = sum(matcon1,dims=2)/sum(sum(matcon1))\n",
    "@show CRcon1 = ConsRatio(CMcon1)\n",
    "\n",
    "CMcon2 = MCDA.buildCM(concepts, 2, MCDA.CMScale0_maxdiff)\n",
    "matcon2 = CMcon2^100/10^57\n",
    "prioritycon2 = sum(matcon2,dims=2)/sum(sum(matcon2))\n",
    "@show CRcon2 = ConsRatio(CMcon2)\n",
    "\n",
    "CMcon3 = MCDA.buildCM(concepts, 3, MCDA.CMScale0_maxdiff)\n",
    "matcon3 = CMcon3^100/10^57\n",
    "prioritycon3 = sum(matcon3,dims=2)/sum(sum(matcon3))\n",
    "@show CRcon3 = ConsRatio(CMcon3)\n",
    "\n",
    "CMcon4 = MCDA.buildCM(concepts, 4, MCDA.CMScale0_4; smaller_is_better=true)\n",
    "matcon4 = CMcon4^100/10^57\n",
    "prioritycon4 = sum(matcon4,dims=2)/sum(sum(matcon4))\n",
    "@show CRcon4 = ConsRatio(CMcon4)\n",
    "\n",
    "CMcon5 = MCDA.buildCM(concepts, 5, MCDA.CMScale0_maxdiff; smaller_is_better=true)\n",
    "matcon5 = CMcon5^100/10^57\n",
    "prioritycon5 = sum(matcon5,dims=2)/sum(sum(matcon5))\n",
    "@show CRcon5 = ConsRatio(CMcon5)\n",
    "\n",
    "CMcon6 = MCDA.buildCM(concepts, 6, MCDA.CMScale0_maxdiff; smaller_is_better=true)\n",
    "matcon6 = CMcon6^100/10^57\n",
    "prioritycon6 = sum(matcon6,dims=2)/sum(sum(matcon6))\n",
    "@show CRcon6 = ConsRatio(CMcon6)\n",
    "\n",
    "CMcon7 = MCDA.buildCM(concepts, 7, MCDA.CMScale0_maxdiff; smaller_is_better=true)\n",
    "matcon7 = CMcon7^100/10^57\n",
    "prioritycon7 = sum(matcon7,dims=2)/sum(sum(matcon7))\n",
    "@show CRcon7 = ConsRatio(CMcon7)\n",
    "\n",
    "CMcon8 = MCDA.buildCM(concepts, 8, MCDA.CMScale0_maxdiff)\n",
    "matcon8 = CMcon8^100/10^57\n",
    "prioritycon8 = sum(matcon8,dims=2)/sum(sum(matcon8))\n",
    "@show CRcon8 = ConsRatio(CMcon8)\n",
    "\n",
    "CMcon9 = MCDA.buildCM(concepts, 9, MCDA.CMScale0_maxdiff)\n",
    "matcon9 = CMcon9^100/10^57\n",
    "prioritycon9 = sum(matcon9,dims=2)/sum(sum(matcon9))\n",
    "@show CRcon9 = ConsRatio(CMcon9)\n",
    "\n",
    "CMcon10 = MCDA.buildCM(concepts, 10, MCDA.CMScale0_maxdiff)\n",
    "matcon10 = CMcon10^100/10^57\n",
    "prioritycon10 = sum(matcon10,dims=2)/sum(sum(matcon10))\n",
    "@show CRcon10 = ConsRatio(CMcon10)\n",
    "\n",
    "CMcon11 = MCDA.buildCM(concepts, 11, MCDA.CMScale0_maxdiff; smaller_is_better=true)\n",
    "matcon11 = CMcon11^100/10^57\n",
    "prioritycon11 = sum(matcon11,dims=2)/sum(sum(matcon11))\n",
    "@show CRcon11 = ConsRatio(CMcon11)\n",
    "\n",
    "CMcon12 = MCDA.buildCM(concepts, 12, MCDA.CMScale0_maxdiff; smaller_is_better=true)\n",
    "matcon12 = CMcon12^100/10^57\n",
    "prioritycon12 = sum(matcon12,dims=2)/sum(sum(matcon12))\n",
    "@show CRcon12 = ConsRatio(CMcon12)\n",
    "\n",
    "CMcon13 = MCDA.buildCM(concepts, 13, MCDA.CMScale0_maxdiff; smaller_is_better=true)\n",
    "matcon13 = CMcon13^100/10^57\n",
    "prioritycon13 = sum(matcon13,dims=2)/sum(sum(matcon13))\n",
    "@show CRcon13 = ConsRatio(CMcon13)\n",
    "\n",
    "priorityall = hcat(prioritycon1, prioritycon2, prioritycon3, prioritycon4, prioritycon5, prioritycon6, prioritycon7, prioritycon8, prioritycon9, prioritycon10, prioritycon11, prioritycon12, prioritycon13)\n",
    "@show Totalpriority = priorityall * prioritycrit\n"
   ]
  },
  {
   "cell_type": "code",
   "execution_count": 34,
   "metadata": {},
   "outputs": [
    {
     "data": {
      "text/html": [
       "<table class=\"data-frame\"><thead><tr><th></th><th>Priority</th><th>Maneuverability</th><th>Signature_profile</th><th>Redundancy</th><th>Nr_of_components</th></tr><tr><th></th><th>String</th><th>Float64</th><th>Float64</th><th>Float64</th><th>Float64</th></tr></thead><tbody><p>9 rows × 15 columns (omitted printing of 10 columns)</p><tr><th>1</th><td>Prio criterion</td><td>0.131012</td><td>0.193159</td><td>0.0952816</td><td>0.0143232</td></tr><tr><th>2</th><td>concept 1</td><td>0.0411998</td><td>0.0387131</td><td>0.025</td><td>0.244801</td></tr><tr><th>3</th><td>concept 2</td><td>0.0411998</td><td>0.0387131</td><td>0.025</td><td>0.244801</td></tr><tr><th>4</th><td>concept 3</td><td>0.0175756</td><td>0.0208647</td><td>0.025</td><td>0.244801</td></tr><tr><th>5</th><td>concept 4</td><td>0.231835</td><td>0.183766</td><td>0.225</td><td>0.0196078</td></tr><tr><th>6</th><td>concept 5</td><td>0.231835</td><td>0.183766</td><td>0.225</td><td>0.0670571</td></tr><tr><th>7</th><td>concept 6</td><td>0.0710336</td><td>0.0842682</td><td>0.225</td><td>0.0366015</td></tr><tr><th>8</th><td>concept 7</td><td>0.133485</td><td>0.0842682</td><td>0.225</td><td>0.0196078</td></tr><tr><th>9</th><td>concept 8</td><td>0.231835</td><td>0.365641</td><td>0.025</td><td>0.122724</td></tr></tbody></table>"
      ],
      "text/latex": [
       "\\begin{tabular}{r|cccccc}\n",
       "\t& Priority & Maneuverability & Signature\\_profile & Redundancy & Nr\\_of\\_components & \\\\\n",
       "\t\\hline\n",
       "\t& String & Float64 & Float64 & Float64 & Float64 & \\\\\n",
       "\t\\hline\n",
       "\t1 & Prio criterion & 0.131012 & 0.193159 & 0.0952816 & 0.0143232 & $\\dots$ \\\\\n",
       "\t2 & concept 1 & 0.0411998 & 0.0387131 & 0.025 & 0.244801 & $\\dots$ \\\\\n",
       "\t3 & concept 2 & 0.0411998 & 0.0387131 & 0.025 & 0.244801 & $\\dots$ \\\\\n",
       "\t4 & concept 3 & 0.0175756 & 0.0208647 & 0.025 & 0.244801 & $\\dots$ \\\\\n",
       "\t5 & concept 4 & 0.231835 & 0.183766 & 0.225 & 0.0196078 & $\\dots$ \\\\\n",
       "\t6 & concept 5 & 0.231835 & 0.183766 & 0.225 & 0.0670571 & $\\dots$ \\\\\n",
       "\t7 & concept 6 & 0.0710336 & 0.0842682 & 0.225 & 0.0366015 & $\\dots$ \\\\\n",
       "\t8 & concept 7 & 0.133485 & 0.0842682 & 0.225 & 0.0196078 & $\\dots$ \\\\\n",
       "\t9 & concept 8 & 0.231835 & 0.365641 & 0.025 & 0.122724 & $\\dots$ \\\\\n",
       "\\end{tabular}\n"
      ],
      "text/plain": [
       "9×15 DataFrame. Omitted printing of 11 columns\n",
       "│ Row │ Priority       │ Maneuverability │ Signature_profile │ Redundancy │\n",
       "│     │ \u001b[90mString\u001b[39m         │ \u001b[90mFloat64\u001b[39m         │ \u001b[90mFloat64\u001b[39m           │ \u001b[90mFloat64\u001b[39m    │\n",
       "├─────┼────────────────┼─────────────────┼───────────────────┼────────────┤\n",
       "│ 1   │ Prio criterion │ 0.131012        │ 0.193159          │ 0.0952816  │\n",
       "│ 2   │ concept 1      │ 0.0411998       │ 0.0387131         │ 0.025      │\n",
       "│ 3   │ concept 2      │ 0.0411998       │ 0.0387131         │ 0.025      │\n",
       "│ 4   │ concept 3      │ 0.0175756       │ 0.0208647         │ 0.025      │\n",
       "│ 5   │ concept 4      │ 0.231835        │ 0.183766          │ 0.225      │\n",
       "│ 6   │ concept 5      │ 0.231835        │ 0.183766          │ 0.225      │\n",
       "│ 7   │ concept 6      │ 0.0710336       │ 0.0842682         │ 0.225      │\n",
       "│ 8   │ concept 7      │ 0.133485        │ 0.0842682         │ 0.225      │\n",
       "│ 9   │ concept 8      │ 0.231835        │ 0.365641          │ 0.025      │"
      ]
     },
     "execution_count": 34,
     "metadata": {},
     "output_type": "execute_result"
    }
   ],
   "source": [
    "df = DataFrame(Priority = [\"Prio criterion\", MCDA.name.(concepts)...], Maneuverability = [prioritycrit[1], prioritycon1...], Signature_profile = [prioritycrit[2], prioritycon2...], Redundancy = [prioritycrit[3], prioritycon3...], Nr_of_components = [prioritycrit[4], prioritycon4...], Space_consumption = [prioritycrit[5], prioritycon5...], Weight = [prioritycrit[6], prioritycon6...], Fuel_capacity = [prioritycrit[7], prioritycon7...], Reliability = [prioritycrit[8], prioritycon8...], Maintainability = [prioritycrit[9], prioritycon9...], Shock_proofness = [prioritycrit[10], prioritycon10...], Purchase_costs = [prioritycrit[11], prioritycon11...], Fuel_costs = [prioritycrit[12], prioritycon12...], Maintenance_costs = [prioritycrit[13], prioritycon13...], Total_Priority = [Missing, reshape(Totalpriority, length(Totalpriority))...])"
   ]
  },
  {
   "cell_type": "code",
   "execution_count": 35,
   "metadata": {
    "scrolled": true
   },
   "outputs": [
    {
     "name": "stdout",
     "output_type": "stream",
     "text": [
      "9×15 DataFrame\n",
      "│ Row │ Priority       │ Maneuverability │ Signature_profile │ Redundancy │\n",
      "│     │ \u001b[90mString\u001b[39m         │ \u001b[90mFloat64\u001b[39m         │ \u001b[90mFloat64\u001b[39m           │ \u001b[90mFloat64\u001b[39m    │\n",
      "├─────┼────────────────┼─────────────────┼───────────────────┼────────────┤\n",
      "│ 1   │ Prio criterion │ 0.131012        │ 0.193159          │ 0.0952816  │\n",
      "│ 2   │ concept 1      │ 0.0411998       │ 0.0387131         │ 0.025      │\n",
      "│ 3   │ concept 2      │ 0.0411998       │ 0.0387131         │ 0.025      │\n",
      "│ 4   │ concept 3      │ 0.0175756       │ 0.0208647         │ 0.025      │\n",
      "│ 5   │ concept 4      │ 0.231835        │ 0.183766          │ 0.225      │\n",
      "│ 6   │ concept 5      │ 0.231835        │ 0.183766          │ 0.225      │\n",
      "│ 7   │ concept 6      │ 0.0710336       │ 0.0842682         │ 0.225      │\n",
      "│ 8   │ concept 7      │ 0.133485        │ 0.0842682         │ 0.225      │\n",
      "│ 9   │ concept 8      │ 0.231835        │ 0.365641          │ 0.025      │\n",
      "\n",
      "│ Row │ Nr_of_components │ Space_consumption │ Weight    │ Fuel_capacity │\n",
      "│     │ \u001b[90mFloat64\u001b[39m          │ \u001b[90mFloat64\u001b[39m           │ \u001b[90mFloat64\u001b[39m   │ \u001b[90mFloat64\u001b[39m       │\n",
      "├─────┼──────────────────┼───────────────────┼───────────┼───────────────┤\n",
      "│ 1   │ 0.0143232        │ 0.0335075         │ 0.0563467 │ 0.0563467     │\n",
      "│ 2   │ 0.244801         │ 0.249702          │ 0.270187  │ 0.25282       │\n",
      "│ 3   │ 0.244801         │ 0.252525          │ 0.270187  │ 0.148602      │\n",
      "│ 4   │ 0.244801         │ 0.0220722         │ 0.0207266 │ 0.25282       │\n",
      "│ 5   │ 0.0196078        │ 0.0885865         │ 0.122327  │ 0.0673083     │\n",
      "│ 6   │ 0.0670571        │ 0.0885865         │ 0.0866097 │ 0.0673083     │\n",
      "│ 7   │ 0.0366015        │ 0.0232124         │ 0.0311555 │ 0.0842173     │\n",
      "│ 8   │ 0.0196078        │ 0.252525          │ 0.178082  │ 0.109629      │\n",
      "│ 9   │ 0.122724         │ 0.0227905         │ 0.0207266 │ 0.0172943     │\n",
      "\n",
      "│ Row │ Reliability │ Maintainability │ Shock_proofness │ Purchase_costs │\n",
      "│     │ \u001b[90mFloat64\u001b[39m     │ \u001b[90mFloat64\u001b[39m         │ \u001b[90mFloat64\u001b[39m         │ \u001b[90mFloat64\u001b[39m        │\n",
      "├─────┼─────────────┼─────────────────┼─────────────────┼────────────────┤\n",
      "│ 1   │ 0.0193333   │ 0.0360475       │ 0.016442        │ 0.115154       │\n",
      "│ 2   │ 0.0464326   │ 0.0603507       │ 0.175472        │ 0.163484       │\n",
      "│ 3   │ 0.0236253   │ 0.104212        │ 0.175472        │ 0.150502       │\n",
      "│ 4   │ 0.216249    │ 0.0218597       │ 0.0277258       │ 0.178939       │\n",
      "│ 5   │ 0.0988596   │ 0.178901        │ 0.0679821       │ 0.105592       │\n",
      "│ 6   │ 0.0988596   │ 0.289402        │ 0.0679821       │ 0.0963399      │\n",
      "│ 7   │ 0.0988596   │ 0.0218597       │ 0.0277258       │ 0.163484       │\n",
      "│ 8   │ 0.0236253   │ 0.0340125       │ 0.0679821       │ 0.125693       │\n",
      "│ 9   │ 0.393489    │ 0.289402        │ 0.389658        │ 0.0159657      │\n",
      "\n",
      "│ Row │ Fuel_costs │ Maintenance_costs │ Total_Priority │\n",
      "│     │ \u001b[90mFloat64\u001b[39m    │ \u001b[90mFloat64\u001b[39m           │ \u001b[90mAny\u001b[39m            │\n",
      "├─────┼────────────┼───────────────────┼────────────────┤\n",
      "│ 1   │ 0.216605   │ 0.016442          │ Missing        │\n",
      "│ 2   │ 0.0541773  │ 0.0612246         │ 0.0941263      │\n",
      "│ 3   │ 0.0245224  │ 0.0195597         │ 0.0808851      │\n",
      "│ 4   │ 0.348698   │ 0.211996          │ 0.13342        │\n",
      "│ 5   │ 0.0451803  │ 0.118137          │ 0.134608       │\n",
      "│ 6   │ 0.0367883  │ 0.0494222         │ 0.133245       │\n",
      "│ 7   │ 0.348698   │ 0.336252          │ 0.157864       │\n",
      "│ 8   │ 0.0541773  │ 0.0720427         │ 0.110352       │\n",
      "│ 9   │ 0.0877593  │ 0.131365          │ 0.1555         │"
     ]
    }
   ],
   "source": [
    "show(df, allrows=true, allcols=true)"
   ]
  },
  {
   "cell_type": "code",
   "execution_count": 33,
   "metadata": {},
   "outputs": [
    {
     "data": {
      "text/html": [
       "<table class=\"data-frame\"><thead><tr><th></th><th>Priority</th><th>Maneuverability</th><th>Signature_profile</th><th>Redundancy</th><th>Nr_of_components</th></tr><tr><th></th><th>String</th><th>Float64</th><th>Float64</th><th>Float64</th><th>Float64</th></tr></thead><tbody><p>9 rows × 5 columns</p><tr><th>1</th><td>Prio criterion</td><td>0.131012</td><td>0.193159</td><td>0.0952816</td><td>0.0143232</td></tr><tr><th>2</th><td>concept 1</td><td>0.0411998</td><td>0.0387131</td><td>0.025</td><td>0.244801</td></tr><tr><th>3</th><td>concept 2</td><td>0.0411998</td><td>0.0387131</td><td>0.025</td><td>0.244801</td></tr><tr><th>4</th><td>concept 3</td><td>0.0175756</td><td>0.0208647</td><td>0.025</td><td>0.244801</td></tr><tr><th>5</th><td>concept 4</td><td>0.231835</td><td>0.183766</td><td>0.225</td><td>0.0196078</td></tr><tr><th>6</th><td>concept 5</td><td>0.231835</td><td>0.183766</td><td>0.225</td><td>0.0670571</td></tr><tr><th>7</th><td>concept 6</td><td>0.0710336</td><td>0.0842682</td><td>0.225</td><td>0.0366015</td></tr><tr><th>8</th><td>concept 7</td><td>0.133485</td><td>0.0842682</td><td>0.225</td><td>0.0196078</td></tr><tr><th>9</th><td>concept 8</td><td>0.231835</td><td>0.365641</td><td>0.025</td><td>0.122724</td></tr></tbody></table>"
      ],
      "text/latex": [
       "\\begin{tabular}{r|ccccc}\n",
       "\t& Priority & Maneuverability & Signature\\_profile & Redundancy & Nr\\_of\\_components\\\\\n",
       "\t\\hline\n",
       "\t& String & Float64 & Float64 & Float64 & Float64\\\\\n",
       "\t\\hline\n",
       "\t1 & Prio criterion & 0.131012 & 0.193159 & 0.0952816 & 0.0143232 \\\\\n",
       "\t2 & concept 1 & 0.0411998 & 0.0387131 & 0.025 & 0.244801 \\\\\n",
       "\t3 & concept 2 & 0.0411998 & 0.0387131 & 0.025 & 0.244801 \\\\\n",
       "\t4 & concept 3 & 0.0175756 & 0.0208647 & 0.025 & 0.244801 \\\\\n",
       "\t5 & concept 4 & 0.231835 & 0.183766 & 0.225 & 0.0196078 \\\\\n",
       "\t6 & concept 5 & 0.231835 & 0.183766 & 0.225 & 0.0670571 \\\\\n",
       "\t7 & concept 6 & 0.0710336 & 0.0842682 & 0.225 & 0.0366015 \\\\\n",
       "\t8 & concept 7 & 0.133485 & 0.0842682 & 0.225 & 0.0196078 \\\\\n",
       "\t9 & concept 8 & 0.231835 & 0.365641 & 0.025 & 0.122724 \\\\\n",
       "\\end{tabular}\n"
      ],
      "text/plain": [
       "9×5 DataFrame. Omitted printing of 1 columns\n",
       "│ Row │ Priority       │ Maneuverability │ Signature_profile │ Redundancy │\n",
       "│     │ \u001b[90mString\u001b[39m         │ \u001b[90mFloat64\u001b[39m         │ \u001b[90mFloat64\u001b[39m           │ \u001b[90mFloat64\u001b[39m    │\n",
       "├─────┼────────────────┼─────────────────┼───────────────────┼────────────┤\n",
       "│ 1   │ Prio criterion │ 0.131012        │ 0.193159          │ 0.0952816  │\n",
       "│ 2   │ concept 1      │ 0.0411998       │ 0.0387131         │ 0.025      │\n",
       "│ 3   │ concept 2      │ 0.0411998       │ 0.0387131         │ 0.025      │\n",
       "│ 4   │ concept 3      │ 0.0175756       │ 0.0208647         │ 0.025      │\n",
       "│ 5   │ concept 4      │ 0.231835        │ 0.183766          │ 0.225      │\n",
       "│ 6   │ concept 5      │ 0.231835        │ 0.183766          │ 0.225      │\n",
       "│ 7   │ concept 6      │ 0.0710336       │ 0.0842682         │ 0.225      │\n",
       "│ 8   │ concept 7      │ 0.133485        │ 0.0842682         │ 0.225      │\n",
       "│ 9   │ concept 8      │ 0.231835        │ 0.365641          │ 0.025      │"
      ]
     },
     "execution_count": 33,
     "metadata": {},
     "output_type": "execute_result"
    }
   ],
   "source": [
    "DataFrame(Priority = [\"Prio criterion\", MCDA.name.(concepts)...], Maneuverability = [prioritycrit[1], prioritycon1...], Signature_profile = [prioritycrit[2], prioritycon2...], Redundancy = [prioritycrit[3], prioritycon3...], Nr_of_components = [prioritycrit[4], prioritycon4...])"
   ]
  },
  {
   "cell_type": "code",
   "execution_count": 30,
   "metadata": {},
   "outputs": [
    {
     "data": {
      "text/html": [
       "<table class=\"data-frame\"><thead><tr><th></th><th>Space_consumption</th><th>Weight</th><th>Fuel_capacity</th><th>Reliability</th><th>Maintainability</th></tr><tr><th></th><th>Float64</th><th>Float64</th><th>Float64</th><th>Float64</th><th>Float64</th></tr></thead><tbody><p>9 rows × 5 columns</p><tr><th>1</th><td>0.0335075</td><td>0.0563467</td><td>0.0563467</td><td>0.0193333</td><td>0.0360475</td></tr><tr><th>2</th><td>0.249702</td><td>0.270187</td><td>0.25282</td><td>0.0464326</td><td>0.0603507</td></tr><tr><th>3</th><td>0.252525</td><td>0.270187</td><td>0.148602</td><td>0.0236253</td><td>0.104212</td></tr><tr><th>4</th><td>0.0220722</td><td>0.0207266</td><td>0.25282</td><td>0.216249</td><td>0.0218597</td></tr><tr><th>5</th><td>0.0885865</td><td>0.122327</td><td>0.0673083</td><td>0.0988596</td><td>0.178901</td></tr><tr><th>6</th><td>0.0885865</td><td>0.0866097</td><td>0.0673083</td><td>0.0988596</td><td>0.289402</td></tr><tr><th>7</th><td>0.0232124</td><td>0.0311555</td><td>0.0842173</td><td>0.0988596</td><td>0.0218597</td></tr><tr><th>8</th><td>0.252525</td><td>0.178082</td><td>0.109629</td><td>0.0236253</td><td>0.0340125</td></tr><tr><th>9</th><td>0.0227905</td><td>0.0207266</td><td>0.0172943</td><td>0.393489</td><td>0.289402</td></tr></tbody></table>"
      ],
      "text/latex": [
       "\\begin{tabular}{r|ccccc}\n",
       "\t& Space\\_consumption & Weight & Fuel\\_capacity & Reliability & Maintainability\\\\\n",
       "\t\\hline\n",
       "\t& Float64 & Float64 & Float64 & Float64 & Float64\\\\\n",
       "\t\\hline\n",
       "\t1 & 0.0335075 & 0.0563467 & 0.0563467 & 0.0193333 & 0.0360475 \\\\\n",
       "\t2 & 0.249702 & 0.270187 & 0.25282 & 0.0464326 & 0.0603507 \\\\\n",
       "\t3 & 0.252525 & 0.270187 & 0.148602 & 0.0236253 & 0.104212 \\\\\n",
       "\t4 & 0.0220722 & 0.0207266 & 0.25282 & 0.216249 & 0.0218597 \\\\\n",
       "\t5 & 0.0885865 & 0.122327 & 0.0673083 & 0.0988596 & 0.178901 \\\\\n",
       "\t6 & 0.0885865 & 0.0866097 & 0.0673083 & 0.0988596 & 0.289402 \\\\\n",
       "\t7 & 0.0232124 & 0.0311555 & 0.0842173 & 0.0988596 & 0.0218597 \\\\\n",
       "\t8 & 0.252525 & 0.178082 & 0.109629 & 0.0236253 & 0.0340125 \\\\\n",
       "\t9 & 0.0227905 & 0.0207266 & 0.0172943 & 0.393489 & 0.289402 \\\\\n",
       "\\end{tabular}\n"
      ],
      "text/plain": [
       "9×5 DataFrame. Omitted printing of 1 columns\n",
       "│ Row │ Space_consumption │ Weight    │ Fuel_capacity │ Reliability │\n",
       "│     │ \u001b[90mFloat64\u001b[39m           │ \u001b[90mFloat64\u001b[39m   │ \u001b[90mFloat64\u001b[39m       │ \u001b[90mFloat64\u001b[39m     │\n",
       "├─────┼───────────────────┼───────────┼───────────────┼─────────────┤\n",
       "│ 1   │ 0.0335075         │ 0.0563467 │ 0.0563467     │ 0.0193333   │\n",
       "│ 2   │ 0.249702          │ 0.270187  │ 0.25282       │ 0.0464326   │\n",
       "│ 3   │ 0.252525          │ 0.270187  │ 0.148602      │ 0.0236253   │\n",
       "│ 4   │ 0.0220722         │ 0.0207266 │ 0.25282       │ 0.216249    │\n",
       "│ 5   │ 0.0885865         │ 0.122327  │ 0.0673083     │ 0.0988596   │\n",
       "│ 6   │ 0.0885865         │ 0.0866097 │ 0.0673083     │ 0.0988596   │\n",
       "│ 7   │ 0.0232124         │ 0.0311555 │ 0.0842173     │ 0.0988596   │\n",
       "│ 8   │ 0.252525          │ 0.178082  │ 0.109629      │ 0.0236253   │\n",
       "│ 9   │ 0.0227905         │ 0.0207266 │ 0.0172943     │ 0.393489    │"
      ]
     },
     "execution_count": 30,
     "metadata": {},
     "output_type": "execute_result"
    }
   ],
   "source": [
    "DataFrame(Space_consumption = [prioritycrit[5], prioritycon5...], Weight = [prioritycrit[6], prioritycon6...], Fuel_capacity = [prioritycrit[7], prioritycon7...], Reliability = [prioritycrit[8], prioritycon8...], Maintainability = [prioritycrit[9], prioritycon9...])"
   ]
  },
  {
   "cell_type": "code",
   "execution_count": 32,
   "metadata": {},
   "outputs": [
    {
     "data": {
      "text/html": [
       "<table class=\"data-frame\"><thead><tr><th></th><th>Shock_proofness</th><th>Purchase_costs</th><th>Fuel_costs</th><th>Maintenance_costs</th><th>Total_Priority</th></tr><tr><th></th><th>Float64</th><th>Float64</th><th>Float64</th><th>Float64</th><th>Any</th></tr></thead><tbody><p>9 rows × 5 columns</p><tr><th>1</th><td>0.016442</td><td>0.115154</td><td>0.216605</td><td>0.016442</td><td>Missing</td></tr><tr><th>2</th><td>0.175472</td><td>0.163484</td><td>0.0541773</td><td>0.0612246</td><td>0.0941263</td></tr><tr><th>3</th><td>0.175472</td><td>0.150502</td><td>0.0245224</td><td>0.0195597</td><td>0.0808851</td></tr><tr><th>4</th><td>0.0277258</td><td>0.178939</td><td>0.348698</td><td>0.211996</td><td>0.13342</td></tr><tr><th>5</th><td>0.0679821</td><td>0.105592</td><td>0.0451803</td><td>0.118137</td><td>0.134608</td></tr><tr><th>6</th><td>0.0679821</td><td>0.0963399</td><td>0.0367883</td><td>0.0494222</td><td>0.133245</td></tr><tr><th>7</th><td>0.0277258</td><td>0.163484</td><td>0.348698</td><td>0.336252</td><td>0.157864</td></tr><tr><th>8</th><td>0.0679821</td><td>0.125693</td><td>0.0541773</td><td>0.0720427</td><td>0.110352</td></tr><tr><th>9</th><td>0.389658</td><td>0.0159657</td><td>0.0877593</td><td>0.131365</td><td>0.1555</td></tr></tbody></table>"
      ],
      "text/latex": [
       "\\begin{tabular}{r|ccccc}\n",
       "\t& Shock\\_proofness & Purchase\\_costs & Fuel\\_costs & Maintenance\\_costs & Total\\_Priority\\\\\n",
       "\t\\hline\n",
       "\t& Float64 & Float64 & Float64 & Float64 & Any\\\\\n",
       "\t\\hline\n",
       "\t1 & 0.016442 & 0.115154 & 0.216605 & 0.016442 & Missing \\\\\n",
       "\t2 & 0.175472 & 0.163484 & 0.0541773 & 0.0612246 & 0.0941263 \\\\\n",
       "\t3 & 0.175472 & 0.150502 & 0.0245224 & 0.0195597 & 0.0808851 \\\\\n",
       "\t4 & 0.0277258 & 0.178939 & 0.348698 & 0.211996 & 0.13342 \\\\\n",
       "\t5 & 0.0679821 & 0.105592 & 0.0451803 & 0.118137 & 0.134608 \\\\\n",
       "\t6 & 0.0679821 & 0.0963399 & 0.0367883 & 0.0494222 & 0.133245 \\\\\n",
       "\t7 & 0.0277258 & 0.163484 & 0.348698 & 0.336252 & 0.157864 \\\\\n",
       "\t8 & 0.0679821 & 0.125693 & 0.0541773 & 0.0720427 & 0.110352 \\\\\n",
       "\t9 & 0.389658 & 0.0159657 & 0.0877593 & 0.131365 & 0.1555 \\\\\n",
       "\\end{tabular}\n"
      ],
      "text/plain": [
       "9×5 DataFrame. Omitted printing of 1 columns\n",
       "│ Row │ Shock_proofness │ Purchase_costs │ Fuel_costs │ Maintenance_costs │\n",
       "│     │ \u001b[90mFloat64\u001b[39m         │ \u001b[90mFloat64\u001b[39m        │ \u001b[90mFloat64\u001b[39m    │ \u001b[90mFloat64\u001b[39m           │\n",
       "├─────┼─────────────────┼────────────────┼────────────┼───────────────────┤\n",
       "│ 1   │ 0.016442        │ 0.115154       │ 0.216605   │ 0.016442          │\n",
       "│ 2   │ 0.175472        │ 0.163484       │ 0.0541773  │ 0.0612246         │\n",
       "│ 3   │ 0.175472        │ 0.150502       │ 0.0245224  │ 0.0195597         │\n",
       "│ 4   │ 0.0277258       │ 0.178939       │ 0.348698   │ 0.211996          │\n",
       "│ 5   │ 0.0679821       │ 0.105592       │ 0.0451803  │ 0.118137          │\n",
       "│ 6   │ 0.0679821       │ 0.0963399      │ 0.0367883  │ 0.0494222         │\n",
       "│ 7   │ 0.0277258       │ 0.163484       │ 0.348698   │ 0.336252          │\n",
       "│ 8   │ 0.0679821       │ 0.125693       │ 0.0541773  │ 0.0720427         │\n",
       "│ 9   │ 0.389658        │ 0.0159657      │ 0.0877593  │ 0.131365          │"
      ]
     },
     "execution_count": 32,
     "metadata": {},
     "output_type": "execute_result"
    }
   ],
   "source": [
    "DataFrame(Shock_proofness = [prioritycrit[10], prioritycon10...], Purchase_costs = [prioritycrit[11], prioritycon11...], Fuel_costs = [prioritycrit[12] , prioritycon12...], Maintenance_costs = [prioritycrit[13], prioritycon13...], Total_Priority = [Missing, reshape(Totalpriority, length(Totalpriority))...])"
   ]
  },
  {
   "cell_type": "code",
   "execution_count": 37,
   "metadata": {},
   "outputs": [
    {
     "data": {
      "text/plain": [
       "8-element Array{Int64,1}:\n",
       " 7\n",
       " 8\n",
       " 2\n",
       " 4\n",
       " 6\n",
       " 5\n",
       " 1\n",
       " 3"
      ]
     },
     "execution_count": 37,
     "metadata": {},
     "output_type": "execute_result"
    }
   ],
   "source": [
    "length(Totalpriority)+1 .- sortperm(reshape(Totalpriority,length(Totalpriority)))"
   ]
  },
  {
   "cell_type": "code",
   "execution_count": 38,
   "metadata": {},
   "outputs": [
    {
     "data": {
      "text/html": [
       "<table class=\"data-frame\"><thead><tr><th></th><th>Priority</th><th>Maneuverability</th><th>Signature_profile</th><th>Redundancy</th><th>Nr_of_components</th></tr><tr><th></th><th>String</th><th>Float64</th><th>Float64</th><th>Float64</th><th>Float64</th></tr></thead><tbody><p>9 rows × 5 columns</p><tr><th>1</th><td>Prio criterion</td><td>0.131012</td><td>0.193159</td><td>0.0952816</td><td>0.0143232</td></tr><tr><th>2</th><td>concept 1</td><td>6.0</td><td>0.0387131</td><td>0.025</td><td>0.244801</td></tr><tr><th>3</th><td>concept 2</td><td>8.0</td><td>0.0387131</td><td>0.025</td><td>0.244801</td></tr><tr><th>4</th><td>concept 3</td><td>7.0</td><td>0.0208647</td><td>0.025</td><td>0.244801</td></tr><tr><th>5</th><td>concept 4</td><td>3.0</td><td>0.183766</td><td>0.225</td><td>0.0196078</td></tr><tr><th>6</th><td>concept 5</td><td>2.0</td><td>0.183766</td><td>0.225</td><td>0.0670571</td></tr><tr><th>7</th><td>concept 6</td><td>5.0</td><td>0.0842682</td><td>0.225</td><td>0.0366015</td></tr><tr><th>8</th><td>concept 7</td><td>4.0</td><td>0.0842682</td><td>0.225</td><td>0.0196078</td></tr><tr><th>9</th><td>concept 8</td><td>1.0</td><td>0.365641</td><td>0.025</td><td>0.122724</td></tr></tbody></table>"
      ],
      "text/latex": [
       "\\begin{tabular}{r|ccccc}\n",
       "\t& Priority & Maneuverability & Signature\\_profile & Redundancy & Nr\\_of\\_components\\\\\n",
       "\t\\hline\n",
       "\t& String & Float64 & Float64 & Float64 & Float64\\\\\n",
       "\t\\hline\n",
       "\t1 & Prio criterion & 0.131012 & 0.193159 & 0.0952816 & 0.0143232 \\\\\n",
       "\t2 & concept 1 & 6.0 & 0.0387131 & 0.025 & 0.244801 \\\\\n",
       "\t3 & concept 2 & 8.0 & 0.0387131 & 0.025 & 0.244801 \\\\\n",
       "\t4 & concept 3 & 7.0 & 0.0208647 & 0.025 & 0.244801 \\\\\n",
       "\t5 & concept 4 & 3.0 & 0.183766 & 0.225 & 0.0196078 \\\\\n",
       "\t6 & concept 5 & 2.0 & 0.183766 & 0.225 & 0.0670571 \\\\\n",
       "\t7 & concept 6 & 5.0 & 0.0842682 & 0.225 & 0.0366015 \\\\\n",
       "\t8 & concept 7 & 4.0 & 0.0842682 & 0.225 & 0.0196078 \\\\\n",
       "\t9 & concept 8 & 1.0 & 0.365641 & 0.025 & 0.122724 \\\\\n",
       "\\end{tabular}\n"
      ],
      "text/plain": [
       "9×5 DataFrame. Omitted printing of 1 columns\n",
       "│ Row │ Priority       │ Maneuverability │ Signature_profile │ Redundancy │\n",
       "│     │ \u001b[90mString\u001b[39m         │ \u001b[90mFloat64\u001b[39m         │ \u001b[90mFloat64\u001b[39m           │ \u001b[90mFloat64\u001b[39m    │\n",
       "├─────┼────────────────┼─────────────────┼───────────────────┼────────────┤\n",
       "│ 1   │ Prio criterion │ 0.131012        │ 0.193159          │ 0.0952816  │\n",
       "│ 2   │ concept 1      │ 6.0             │ 0.0387131         │ 0.025      │\n",
       "│ 3   │ concept 2      │ 8.0             │ 0.0387131         │ 0.025      │\n",
       "│ 4   │ concept 3      │ 7.0             │ 0.0208647         │ 0.025      │\n",
       "│ 5   │ concept 4      │ 3.0             │ 0.183766          │ 0.225      │\n",
       "│ 6   │ concept 5      │ 2.0             │ 0.183766          │ 0.225      │\n",
       "│ 7   │ concept 6      │ 5.0             │ 0.0842682         │ 0.225      │\n",
       "│ 8   │ concept 7      │ 4.0             │ 0.0842682         │ 0.225      │\n",
       "│ 9   │ concept 8      │ 1.0             │ 0.365641          │ 0.025      │"
      ]
     },
     "execution_count": 38,
     "metadata": {},
     "output_type": "execute_result"
    }
   ],
   "source": [
    "DataFrame(Priority = [\"Prio criterion\", MCDA.name.(concepts)...], Maneuverability = [prioritycrit[1], length(prioritycon1)+1 .- sortperm(reshape(prioritycon1,length(prioritycon1)))...], Signature_profile = [prioritycrit[2], prioritycon2...], Redundancy = [prioritycrit[3], prioritycon3...], Nr_of_components = [prioritycrit[4], prioritycon4...])"
   ]
  },
  {
   "cell_type": "code",
   "execution_count": null,
   "metadata": {},
   "outputs": [],
   "source": []
  }
 ],
 "metadata": {
  "kernelspec": {
   "display_name": "Julia 1.1.0",
   "language": "julia",
   "name": "julia-1.1"
  },
  "language_info": {
   "file_extension": ".jl",
   "mimetype": "application/julia",
   "name": "julia",
   "version": "1.1.0"
  }
 },
 "nbformat": 4,
 "nbformat_minor": 2
}
