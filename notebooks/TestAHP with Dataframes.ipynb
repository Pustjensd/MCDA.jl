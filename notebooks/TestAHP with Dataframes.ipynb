{
 "cells": [
  {
   "cell_type": "code",
   "execution_count": 40,
   "metadata": {},
   "outputs": [
    {
     "name": "stdout",
     "output_type": "stream",
     "text": [
      "CRcrit = ConsRatio(CMcrit) = 2.1812028121701217\n",
      "priorityman = sum(matman, dims=2) / sum(sum(matman)) = [0.0168197; 0.0872538; 0.0358331; 0.210978; 0.210978; 0.0168197; 0.0872538; 0.0358331; 0.210978; 0.0872538]\n",
      "CRman = ConsRatio(CMman) = 1.4559587731026573\n"
     ]
    },
    {
     "data": {
      "text/plain": [
       "10-element Array{Float64,1}:\n",
       " 0.07428317596577252\n",
       " 0.08326159898899632\n",
       " 0.08155359674519871\n",
       " 0.14476317735903138\n",
       " 0.16249351342367224\n",
       " 0.09645064706800857\n",
       " 0.10905481023219148\n",
       " 0.06914310010968139\n",
       " 0.05156316352238739\n",
       " 0.12743321658506002"
      ]
     },
     "metadata": {},
     "output_type": "display_data"
    },
    {
     "name": "stdout",
     "output_type": "stream",
     "text": [
      "CRpow = ConsRatio(CMpow) = 2.2261677960755217\n",
      "CRcon = ConsRatio(CMcon) = 2.004608816887691\n",
      "CRmain = ConsRatio(CMmain) = 2.0183356289697705\n",
      "CRvil = ConsRatio(CMvil) = 9.024379771616237\n",
      "prioritysaf = sum(matsaf, dims=2) / sum(sum(matsaf)) = [0.0480851; 0.0147534; 0.111065; 0.241733; 0.241733; 0.0480851; 0.111065; 0.0480851; 0.0243313; 0.111065]\n",
      "CRsaf = ConsRatio(CMsaf) = 2.779465755273494\n",
      "\n"
     ]
    }
   ],
   "source": [
    "using MCDA\n",
    "using Test\n",
    "using LinearAlgebra\n",
    "using DataFrames\n",
    "\n",
    "criteria = [\n",
    "    Criterion(\"Manpower\", 1, 0.116279, identity),\n",
    "    Criterion(\"Power\", 1.6, 0.186, identity),\n",
    "    Criterion(\"Construction\", 1.2, 0.13953, identity),\n",
    "    Criterion(\"Maintenance\", 1, 0.116279, identity),\n",
    "    Criterion(\"Villages\", 1.8, 0.2093, identity),\n",
    "    Criterion(\"Safety\", 2, 0.232672, identity),\n",
    "]\n",
    "\n",
    "concepts = []\n",
    "\n",
    "con = Concept(\"Italy\", criteria)\n",
    "con.values[1] = 1\n",
    "con.values[2] = 90\n",
    "con.values[3] = 600\n",
    "con.values[4] = 5.4\n",
    "con.values[5] = 8\n",
    "con.values[6] = 3\n",
    "push!(concepts, con)\n",
    "con = Concept(\"Belgium\", criteria)\n",
    "con.values[1] = 3\n",
    "con.values[2] = 58\n",
    "con.values[3] = 200\n",
    "con.values[4] = 9.7\n",
    "con.values[5] = 1\n",
    "con.values[6] = 1\n",
    "push!(concepts, con)\n",
    "con = Concept(\"Germany\", criteria)\n",
    "con.values[1] = 2\n",
    "con.values[2] = 60\n",
    "con.values[3] = 400\n",
    "con.values[4] = 7.2\n",
    "con.values[5] = 4\n",
    "con.values[6] = 4\n",
    "push!(concepts, con)\n",
    "con = Concept(\"Sweden\", criteria)\n",
    "con.values[1] = 4\n",
    "con.values[2] = 80\n",
    "con.values[3] = 1000\n",
    "con.values[4] = 7.5\n",
    "con.values[5] = 7\n",
    "con.values[6] = 5\n",
    "push!(concepts, con)\n",
    "con = Concept(\"Austria\", criteria)\n",
    "con.values[1] = 4\n",
    "con.values[2] = 72\n",
    "con.values[3] = 600\n",
    "con.values[4] = 2.0\n",
    "con.values[5] = 3\n",
    "con.values[6] = 5\n",
    "push!(concepts, con)\n",
    "con = Concept(\"France\", criteria)\n",
    "con.values[1] = 1\n",
    "con.values[2] = 96\n",
    "con.values[3] = 700\n",
    "con.values[4] = 3.6\n",
    "con.values[5] = 5\n",
    "con.values[6] = 3\n",
    "push!(concepts, con)\n",
    "con = Concept(\"Spain\", criteria)\n",
    "con.values[1] = 3#2\n",
    "con.values[2] = 69\n",
    "con.values[3] = 800\n",
    "con.values[4] = 2.6\n",
    "con.values[5] = 2\n",
    "con.values[6] = 4\n",
    "push!(concepts, con)\n",
    "con = Concept(\"Greece\", criteria)\n",
    "con.values[1] = 2#3\n",
    "con.values[2] = 62\n",
    "con.values[3] = 350\n",
    "con.values[4] = 3.3\n",
    "con.values[5] = 3\n",
    "con.values[6] = 3\n",
    "push!(concepts, con)\n",
    "con = Concept(\"Poland\", criteria)\n",
    "con.values[1] = 4#1\n",
    "con.values[2] = 55\n",
    "con.values[3] = 450\n",
    "con.values[4] = 2.7\n",
    "con.values[5] = 4\n",
    "con.values[6] = 2\n",
    "push!(concepts, con)\n",
    "con = Concept(\"Denmark\", criteria)\n",
    "con.values[1] = 3#2\n",
    "con.values[2] = 77\n",
    "con.values[3] = 550\n",
    "con.values[4] = 8.1\n",
    "con.values[5] = 1\n",
    "con.values[6] = 4\n",
    "push!(concepts, con)\n",
    "\n",
    "CMcrit = MCDA.CMcrit(criteria)\n",
    "matcrit = CMcrit^100/10^57\n",
    "prioritycrit = sum(matcrit,dims=2)/sum(sum(matcrit))\n",
    "@show CRcrit = ConsRatio(CMcrit)\n",
    "# @show p = reverse(sortperm(reshape(prioritycrit,length(prioritycrit))))\n",
    "# @show collect(1:6)[p]\n",
    "\n",
    "CMman = MCDA.buildCM(concepts, 1, MCDA.CMScale0_3)\n",
    "matman = CMman^100/10.0^100\n",
    "@show priorityman = sum(matman,dims=2)/sum(sum(matman))\n",
    "@show CRman =ConsRatio(CMman)\n",
    "\n",
    "CMpow = MCDA.buildCM(concepts, 2, MCDA.CMScale0_maxdiff)\n",
    "matpow = CMpow^100/10^57\n",
    "prioritypow = sum(matpow,dims=2)/sum(sum(matpow))\n",
    "@show CRpow = ConsRatio(CMpow)\n",
    "\n",
    "CMcon = MCDA.buildCM(concepts, 3, MCDA.CMScale0_maxdiff; smaller_is_better=true)\n",
    "matcon = CMcon^100/10^57;\n",
    "prioritycon = sum(matcon,dims=2)/sum(sum(matcon))\n",
    "@show CRcon = ConsRatio(CMcon)\n",
    "\n",
    "CMmain = MCDA.buildCM(concepts, 4, MCDA.CMScale0_maxdiff; smaller_is_better=true)\n",
    "matmain = CMmain^100/10^57\n",
    "prioritymain = sum(matmain,dims=2)/sum(sum(matmain))\n",
    "@show CRmain = ConsRatio(CMmain)\n",
    "\n",
    "CMvil= MCDA.buildCM(concepts, 5, MCDA.CMscale0)\n",
    "matvil = CMvil^100/10^57\n",
    "priorityvil = sum(matvil,dims=2)/sum(sum(matvil))\n",
    "@show CRvil = ConsRatio(CMvil)\n",
    "\n",
    "CMsaf = MCDA.buildCM(concepts, 6, MCDA.CMScale0_4)\n",
    "matsaf = CMsaf^100/10.0^100\n",
    "@show prioritysaf = sum(matsaf,dims=2)/sum(sum(matsaf))\n",
    "@show CRsaf = ConsRatio(CMsaf)\n",
    "\n",
    "# for idealized:\n",
    "# prioritycrit ./= maximum(prioritycrit);\n",
    "# priorityman ./= maximum(priorityman);\n",
    "# prioritypow ./= maximum(prioritypow);\n",
    "# prioritycon ./= maximum(prioritycon);\n",
    "# prioritymain ./= maximum(prioritymain);\n",
    "# priorityvil ./= maximum(priorityvil);\n",
    "# prioritysaf ./= maximum(prioritysaf);\n",
    "\n",
    "Totalpriority = zeros(10)\n",
    "for i in 1:10\n",
    "    # line continuation problem here\n",
    "    Totalpriority[i] = priorityman[i]*prioritycrit[1]+prioritypow[i]*prioritycrit[2]+prioritycon[i]*prioritycrit[3] +\n",
    "                       prioritymain[i]*prioritycrit[4]+priorityvil[i]*prioritycrit[5]+prioritysaf[i]*prioritycrit[6]\n",
    "end\n",
    "\n",
    "display(Totalpriority)\n",
    "println()\n",
    "\n",
    "# alternative method\n",
    "# priorityall = hcat(priorityman, prioritypow, prioritycon, prioritymain, priorityvil, prioritysaf)\n",
    "# Totalpriority = priorityall * prioritycrit\n",
    "# display(Totalpriority)\n",
    "# println()"
   ]
  },
  {
   "cell_type": "code",
   "execution_count": 77,
   "metadata": {},
   "outputs": [
    {
     "data": {
      "text/html": [
       "<table class=\"data-frame\"><thead><tr><th></th><th>Countries</th><th>Total_Priority</th></tr><tr><th></th><th>String</th><th>Float64</th></tr></thead><tbody><p>10 rows × 2 columns</p><tr><th>1</th><td>Italy</td><td>0.0742832</td></tr><tr><th>2</th><td>Belgium</td><td>0.0832616</td></tr><tr><th>3</th><td>Germany</td><td>0.0815536</td></tr><tr><th>4</th><td>Sweden</td><td>0.144763</td></tr><tr><th>5</th><td>Austria</td><td>0.162494</td></tr><tr><th>6</th><td>France</td><td>0.0964506</td></tr><tr><th>7</th><td>Spain</td><td>0.109055</td></tr><tr><th>8</th><td>Greece</td><td>0.0691431</td></tr><tr><th>9</th><td>Poland</td><td>0.0515632</td></tr><tr><th>10</th><td>Denmark</td><td>0.127433</td></tr></tbody></table>"
      ],
      "text/latex": [
       "\\begin{tabular}{r|cc}\n",
       "\t& Countries & Total\\_Priority\\\\\n",
       "\t\\hline\n",
       "\t& String & Float64\\\\\n",
       "\t\\hline\n",
       "\t1 & Italy & 0.0742832 \\\\\n",
       "\t2 & Belgium & 0.0832616 \\\\\n",
       "\t3 & Germany & 0.0815536 \\\\\n",
       "\t4 & Sweden & 0.144763 \\\\\n",
       "\t5 & Austria & 0.162494 \\\\\n",
       "\t6 & France & 0.0964506 \\\\\n",
       "\t7 & Spain & 0.109055 \\\\\n",
       "\t8 & Greece & 0.0691431 \\\\\n",
       "\t9 & Poland & 0.0515632 \\\\\n",
       "\t10 & Denmark & 0.127433 \\\\\n",
       "\\end{tabular}\n"
      ],
      "text/plain": [
       "10×2 DataFrame\n",
       "│ Row │ Countries │ Total_Priority │\n",
       "│     │ \u001b[90mString\u001b[39m    │ \u001b[90mFloat64\u001b[39m        │\n",
       "├─────┼───────────┼────────────────┤\n",
       "│ 1   │ Italy     │ 0.0742832      │\n",
       "│ 2   │ Belgium   │ 0.0832616      │\n",
       "│ 3   │ Germany   │ 0.0815536      │\n",
       "│ 4   │ Sweden    │ 0.144763       │\n",
       "│ 5   │ Austria   │ 0.162494       │\n",
       "│ 6   │ France    │ 0.0964506      │\n",
       "│ 7   │ Spain     │ 0.109055       │\n",
       "│ 8   │ Greece    │ 0.0691431      │\n",
       "│ 9   │ Poland    │ 0.0515632      │\n",
       "│ 10  │ Denmark   │ 0.127433       │"
      ]
     },
     "execution_count": 77,
     "metadata": {},
     "output_type": "execute_result"
    }
   ],
   "source": [
    "PN = DataFrame(Countries = MCDA.name.(concepts), Total_Priority = Totalpriority)"
   ]
  },
  {
   "cell_type": "code",
   "execution_count": 65,
   "metadata": {},
   "outputs": [
    {
     "data": {
      "text/html": [
       "<table class=\"data-frame\"><thead><tr><th></th><th>Priority</th><th>Manpower</th><th>Power</th><th>Construction</th><th>Maintenance</th><th>Villages</th><th>Safety</th></tr><tr><th></th><th>String</th><th>Float64</th><th>Float64</th><th>Float64</th><th>Float64</th><th>Float64</th><th>Float64</th></tr></thead><tbody><p>1 rows × 8 columns (omitted printing of 1 columns)</p><tr><th>1</th><td>Prio criterion</td><td>0.0332998</td><td>0.167636</td><td>0.0536592</td><td>0.0332998</td><td>0.274359</td><td>0.437746</td></tr></tbody></table>"
      ],
      "text/latex": [
       "\\begin{tabular}{r|cccccccc}\n",
       "\t& Priority & Manpower & Power & Construction & Maintenance & Villages & Safety & \\\\\n",
       "\t\\hline\n",
       "\t& String & Float64 & Float64 & Float64 & Float64 & Float64 & Float64 & \\\\\n",
       "\t\\hline\n",
       "\t1 & Prio criterion & 0.0332998 & 0.167636 & 0.0536592 & 0.0332998 & 0.274359 & 0.437746 & $\\dots$ \\\\\n",
       "\\end{tabular}\n"
      ],
      "text/plain": [
       "1×8 DataFrame. Omitted printing of 3 columns\n",
       "│ Row │ Priority       │ Manpower  │ Power    │ Construction │ Maintenance │\n",
       "│     │ \u001b[90mString\u001b[39m         │ \u001b[90mFloat64\u001b[39m   │ \u001b[90mFloat64\u001b[39m  │ \u001b[90mFloat64\u001b[39m      │ \u001b[90mFloat64\u001b[39m     │\n",
       "├─────┼────────────────┼───────────┼──────────┼──────────────┼─────────────┤\n",
       "│ 1   │ Prio criterion │ 0.0332998 │ 0.167636 │ 0.0536592    │ 0.0332998   │"
      ]
     },
     "execution_count": 65,
     "metadata": {},
     "output_type": "execute_result"
    }
   ],
   "source": [
    "df = DataFrame(Priority = String[], Manpower = Float64[], Power = Float64[], Construction = Float64[], Maintenance = Float64[], Villages = Float64[], Safety = Float64[], Total_Priority = Union{Float64,Missing}[])\n",
    "push!(df, [\"Prio criterion\", reshape(prioritycrit, length(prioritycrit))..., missing])"
   ]
  },
  {
   "cell_type": "code",
   "execution_count": 62,
   "metadata": {},
   "outputs": [
    {
     "data": {
      "text/html": [
       "<table class=\"data-frame\"><thead><tr><th></th><th>Priority</th><th>Manpower</th><th>Construction</th><th>Maintenance</th><th>Villages</th><th>Safety</th><th>Total_Priority</th></tr><tr><th></th><th>String</th><th>Int64</th><th>Int64</th><th>Int64</th><th>Int64</th><th>Int64</th><th>Int64</th></tr></thead><tbody><p>0 rows × 7 columns</p></tbody></table>"
      ],
      "text/latex": [
       "\\begin{tabular}{r|ccccccc}\n",
       "\t& Priority & Manpower & Construction & Maintenance & Villages & Safety & Total\\_Priority\\\\\n",
       "\t\\hline\n",
       "\t& String & Int64 & Int64 & Int64 & Int64 & Int64 & Int64\\\\\n",
       "\t\\hline\n",
       "\\end{tabular}\n"
      ],
      "text/plain": [
       "0×7 DataFrame\n"
      ]
     },
     "execution_count": 62,
     "metadata": {},
     "output_type": "execute_result"
    }
   ],
   "source": [
    "df"
   ]
  },
  {
   "cell_type": "code",
   "execution_count": 58,
   "metadata": {},
   "outputs": [
    {
     "data": {
      "text/plain": [
       "7-element Array{Union{Missing, Float64},1}:\n",
       " 0.03329975450776186 \n",
       " 0.16763597044376194 \n",
       " 0.053659240409722996\n",
       " 0.03329975450776186 \n",
       " 0.27435878225399957 \n",
       " 0.4377464978769918  \n",
       "  missing            "
      ]
     },
     "execution_count": 58,
     "metadata": {},
     "output_type": "execute_result"
    }
   ],
   "source": [
    "[reshape(prioritycrit, length(prioritycrit))..., missing]"
   ]
  },
  {
   "cell_type": "code",
   "execution_count": 18,
   "metadata": {},
   "outputs": [
    {
     "ename": "ArgumentError",
     "evalue": "ArgumentError: New columns must have the same length as old columns",
     "output_type": "error",
     "traceback": [
      "ArgumentError: New columns must have the same length as old columns",
      "",
      "Stacktrace:",
      " [1] insert_single_column!(::DataFrame, ::Array{Any,1}, ::Symbol) at C:\\Users\\Mon PC\\.julia\\packages\\DataFrames\\dXFYy\\src\\dataframe\\dataframe.jl:411",
      " [2] setindex! at C:\\Users\\Mon PC\\.julia\\packages\\DataFrames\\dXFYy\\src\\dataframe\\dataframe.jl:465 [inlined]",
      " [3] setproperty!(::DataFrame, ::Symbol, ::Array{Any,1}) at C:\\Users\\Mon PC\\.julia\\packages\\DataFrames\\dXFYy\\src\\abstractdataframe\\abstractdataframe.jl:228",
      " [4] top-level scope at In[18]:3"
     ]
    }
   ],
   "source": [
    "tf = DataFrame()\n",
    "tf.Priority =[\"Prio criterion\", \"Italy\", \"Belgium\", \"Germany\", \"Sweden\", \"Austria\", \"France\", \"Spain\", \"Greece\", \"Poland\", \"Denmark\"]\n",
    "tf.Manpower =[\"0.0333\", priorityman]\n",
    "tf"
   ]
  },
  {
   "cell_type": "code",
   "execution_count": 7,
   "metadata": {},
   "outputs": [
    {
     "name": "stdout",
     "output_type": "stream",
     "text": [
      "prioritycrit = [0.0332998; 0.167636; 0.0536592; 0.0332998; 0.274359; 0.437746]\n"
     ]
    },
    {
     "data": {
      "text/plain": [
       "6×1 Array{Float64,2}:\n",
       " 0.03329975450776186 \n",
       " 0.16763597044376194 \n",
       " 0.053659240409722996\n",
       " 0.03329975450776186 \n",
       " 0.27435878225399957 \n",
       " 0.4377464978769918  "
      ]
     },
     "execution_count": 7,
     "metadata": {},
     "output_type": "execute_result"
    }
   ],
   "source": [
    "@show prioritycrit"
   ]
  },
  {
   "cell_type": "code",
   "execution_count": 56,
   "metadata": {},
   "outputs": [
    {
     "data": {
      "text/plain": [
       "6-element Array{Float64,1}:\n",
       " 0.03329975450776186 \n",
       " 0.16763597044376194 \n",
       " 0.053659240409722996\n",
       " 0.03329975450776186 \n",
       " 0.27435878225399957 \n",
       " 0.4377464978769918  "
      ]
     },
     "execution_count": 56,
     "metadata": {},
     "output_type": "execute_result"
    }
   ],
   "source": [
    "reshape(prioritycrit, length(prioritycrit))"
   ]
  },
  {
   "cell_type": "code",
   "execution_count": 19,
   "metadata": {},
   "outputs": [
    {
     "data": {
      "text/plain": [
       "10×1 Array{Float64,2}:\n",
       " 0.01681969627380206\n",
       " 0.08725381517687851\n",
       " 0.03583307883224336\n",
       " 0.2109776680857579 \n",
       " 0.2109776680857579 \n",
       " 0.01681969627380206\n",
       " 0.08725381517687851\n",
       " 0.03583307883224336\n",
       " 0.2109776680857579 \n",
       " 0.08725381517687851"
      ]
     },
     "execution_count": 19,
     "metadata": {},
     "output_type": "execute_result"
    }
   ],
   "source": [
    "priorityman"
   ]
  },
  {
   "cell_type": "code",
   "execution_count": 47,
   "metadata": {},
   "outputs": [
    {
     "name": "stdout",
     "output_type": "stream",
     "text": [
      "p = reverse(sortperm(reshape(prioritycrit, length(prioritycrit)))) = [6, 5, 2, 3, 4, 1]\n",
      "(collect(1:6))[p] = [6, 5, 2, 3, 4, 1]\n"
     ]
    },
    {
     "data": {
      "text/plain": [
       "6-element Array{Int64,1}:\n",
       " 6\n",
       " 5\n",
       " 2\n",
       " 3\n",
       " 4\n",
       " 1"
      ]
     },
     "execution_count": 47,
     "metadata": {},
     "output_type": "execute_result"
    }
   ],
   "source": [
    "@show p = reverse(sortperm(reshape(prioritycrit,length(prioritycrit))))\n",
    "@show collect(1:6)[p]"
   ]
  },
  {
   "cell_type": "code",
   "execution_count": 74,
   "metadata": {},
   "outputs": [
    {
     "data": {
      "text/plain": [
       "6-element Array{Int64,1}:\n",
       " 6\n",
       " 3\n",
       " 4\n",
       " 5\n",
       " 2\n",
       " 1"
      ]
     },
     "execution_count": 74,
     "metadata": {},
     "output_type": "execute_result"
    }
   ],
   "source": [
    "length(prioritycrit)+1 .- sortperm(reshape(prioritycrit,length(prioritycrit)))"
   ]
  },
  {
   "cell_type": "code",
   "execution_count": 43,
   "metadata": {},
   "outputs": [
    {
     "data": {
      "text/plain": [
       "6×1 Array{Float64,2}:\n",
       " 0.03329975450776186 \n",
       " 0.16763597044376194 \n",
       " 0.053659240409722996\n",
       " 0.03329975450776186 \n",
       " 0.27435878225399957 \n",
       " 0.4377464978769918  "
      ]
     },
     "execution_count": 43,
     "metadata": {},
     "output_type": "execute_result"
    }
   ],
   "source": [
    "prioritycrit"
   ]
  },
  {
   "cell_type": "code",
   "execution_count": 49,
   "metadata": {},
   "outputs": [
    {
     "data": {
      "text/plain": [
       "10-element Array{String,1}:\n",
       " \"Italy\"  \n",
       " \"Belgium\"\n",
       " \"Germany\"\n",
       " \"Sweden\" \n",
       " \"Austria\"\n",
       " \"France\" \n",
       " \"Spain\"  \n",
       " \"Greece\" \n",
       " \"Poland\" \n",
       " \"Denmark\""
      ]
     },
     "execution_count": 49,
     "metadata": {},
     "output_type": "execute_result"
    }
   ],
   "source": [
    "MCDA.name.(concepts)"
   ]
  },
  {
   "cell_type": "code",
   "execution_count": 78,
   "metadata": {},
   "outputs": [
    {
     "data": {
      "text/html": [
       "<table class=\"data-frame\"><thead><tr><th></th><th>Priority</th><th>Manpower</th><th>Power</th></tr><tr><th></th><th>String</th><th>Float64</th><th>Float64</th></tr></thead><tbody><p>11 rows × 3 columns</p><tr><th>1</th><td>Prio criterion</td><td>0.0332998</td><td>0.167636</td></tr><tr><th>2</th><td>Italy</td><td>0.0168197</td><td>0.229022</td></tr><tr><th>3</th><td>Belgium</td><td>0.0872538</td><td>0.0239292</td></tr><tr><th>4</th><td>Germany</td><td>0.0358331</td><td>0.0286996</td></tr><tr><th>5</th><td>Sweden</td><td>0.210978</td><td>0.114841</td></tr><tr><th>6</th><td>Austria</td><td>0.210978</td><td>0.0675364</td></tr><tr><th>7</th><td>France</td><td>0.0168197</td><td>0.326815</td></tr><tr><th>8</th><td>Spain</td><td>0.0872538</td><td>0.0566147</td></tr><tr><th>9</th><td>Greece</td><td>0.0358331</td><td>0.0292572</td></tr><tr><th>10</th><td>Poland</td><td>0.210978</td><td>0.0202856</td></tr><tr><th>11</th><td>Denmark</td><td>0.0872538</td><td>0.103</td></tr></tbody></table>"
      ],
      "text/latex": [
       "\\begin{tabular}{r|ccc}\n",
       "\t& Priority & Manpower & Power\\\\\n",
       "\t\\hline\n",
       "\t& String & Float64 & Float64\\\\\n",
       "\t\\hline\n",
       "\t1 & Prio criterion & 0.0332998 & 0.167636 \\\\\n",
       "\t2 & Italy & 0.0168197 & 0.229022 \\\\\n",
       "\t3 & Belgium & 0.0872538 & 0.0239292 \\\\\n",
       "\t4 & Germany & 0.0358331 & 0.0286996 \\\\\n",
       "\t5 & Sweden & 0.210978 & 0.114841 \\\\\n",
       "\t6 & Austria & 0.210978 & 0.0675364 \\\\\n",
       "\t7 & France & 0.0168197 & 0.326815 \\\\\n",
       "\t8 & Spain & 0.0872538 & 0.0566147 \\\\\n",
       "\t9 & Greece & 0.0358331 & 0.0292572 \\\\\n",
       "\t10 & Poland & 0.210978 & 0.0202856 \\\\\n",
       "\t11 & Denmark & 0.0872538 & 0.103 \\\\\n",
       "\\end{tabular}\n"
      ],
      "text/plain": [
       "11×3 DataFrame\n",
       "│ Row │ Priority       │ Manpower  │ Power     │\n",
       "│     │ \u001b[90mString\u001b[39m         │ \u001b[90mFloat64\u001b[39m   │ \u001b[90mFloat64\u001b[39m   │\n",
       "├─────┼────────────────┼───────────┼───────────┤\n",
       "│ 1   │ Prio criterion │ 0.0332998 │ 0.167636  │\n",
       "│ 2   │ Italy          │ 0.0168197 │ 0.229022  │\n",
       "│ 3   │ Belgium        │ 0.0872538 │ 0.0239292 │\n",
       "│ 4   │ Germany        │ 0.0358331 │ 0.0286996 │\n",
       "│ 5   │ Sweden         │ 0.210978  │ 0.114841  │\n",
       "│ 6   │ Austria        │ 0.210978  │ 0.0675364 │\n",
       "│ 7   │ France         │ 0.0168197 │ 0.326815  │\n",
       "│ 8   │ Spain          │ 0.0872538 │ 0.0566147 │\n",
       "│ 9   │ Greece         │ 0.0358331 │ 0.0292572 │\n",
       "│ 10  │ Poland         │ 0.210978  │ 0.0202856 │\n",
       "│ 11  │ Denmark        │ 0.0872538 │ 0.103     │"
      ]
     },
     "execution_count": 78,
     "metadata": {},
     "output_type": "execute_result"
    }
   ],
   "source": [
    "DataFrame(Priority = [\"Prio criterion\", MCDA.name.(concepts)...], Manpower = [prioritycrit[1], priorityman...], Power = [prioritycrit[2], prioritypow...])"
   ]
  },
  {
   "cell_type": "code",
   "execution_count": null,
   "metadata": {},
   "outputs": [],
   "source": []
  }
 ],
 "metadata": {
  "kernelspec": {
   "display_name": "Julia 1.1.0",
   "language": "julia",
   "name": "julia-1.1"
  },
  "language_info": {
   "file_extension": ".jl",
   "mimetype": "application/julia",
   "name": "julia",
   "version": "1.1.0"
  }
 },
 "nbformat": 4,
 "nbformat_minor": 2
}
