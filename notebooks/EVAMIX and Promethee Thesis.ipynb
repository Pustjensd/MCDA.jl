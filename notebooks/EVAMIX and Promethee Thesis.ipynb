{
 "cells": [
  {
   "cell_type": "code",
   "execution_count": 1,
   "metadata": {},
   "outputs": [
    {
     "name": "stdout",
     "output_type": "stream",
     "text": [
      "\n",
      "[14, 14, 14, 18, 16, 17, 18, 15]\n"
     ]
    },
    {
     "data": {
      "text/plain": [
       "8-element Array{Int64,1}:\n",
       " 5\n",
       " 4\n",
       " 8\n",
       " 7\n",
       " 6\n",
       " 1\n",
       " 2\n",
       " 3"
      ]
     },
     "execution_count": 1,
     "metadata": {},
     "output_type": "execute_result"
    }
   ],
   "source": [
    "using MCDA\n",
    "using Test\n",
    "using DataFrames\n",
    "\n",
    "criteria = [\n",
    "    Criterion(\"Maneuverability\", 8, 0.115, MCDA.convertSymbolicScale),\n",
    "    Criterion(\"Signature profile\", 9, 0.129, MCDA.convertSymbolicScale),\n",
    "    Criterion(\"Redundancy\", 7, 0.101, x -> MCDA.convertMinMaxIncr(x, 1, 4)),\n",
    "    Criterion(\"Nr. of components\", 2, 0.023, x -> MCDA.convertMinMaxDecr(x, 14, 18)),\n",
    "    Criterion(\"Space consumption\", 5, 0.058, x -> MCDA.convertMinMaxDecr(x, 274, 715)),\n",
    "    Criterion(\"Weight\", 7, 0.081, x -> MCDA.convertMinMaxDecr(x, 255, 550)),\n",
    "    Criterion(\"Fuel capacity\", 7, 0.081, x -> MCDA.convertMinMaxDecr(x, 301, 328)),\n",
    "    Criterion(\"Reliability\", 4, 0.042, MCDA.convertSymbolicScale),\n",
    "    Criterion(\"Maintainability\", 6, 0.064, MCDA.convertSymbolicScale),\n",
    "    Criterion(\"Shock-proofness\", 3, 0.032, MCDA.convertSymbolicScale),\n",
    "    Criterion(\"Purchase costs\", 7, 0.107, x -> MCDA.convertMinMaxDecr(x, 21, 74)),\n",
    "    Criterion(\"Fuel costs\", 9, 0.138,  x -> MCDA.convertMinMaxDecr(x, 3, 3.6)),\n",
    "    Criterion(\"Maintenance costs\", 2, 0.031,  x -> MCDA.convertMinMaxDecr(x, 0.09, 0.23))\n",
    "]\n",
    "\n",
    "concepts = []\n",
    "con = Concept(\"concept 1\", criteria)\n",
    "con.values[1] = \"ref\"\n",
    "con.values[2] = \"ref\"\n",
    "con.values[3] = 2\n",
    "con.values[4] = 14\n",
    "con.values[5] = 286.3\n",
    "con.values[6] = 255.9\n",
    "con.values[7] = 302.4\n",
    "con.values[8] = \"ref\"\n",
    "con.values[9] = \"ref\"\n",
    "con.values[10] = \"ref\"\n",
    "con.values[11] = 26.14\n",
    "con.values[12] = 3.42\n",
    "con.values[13] = 0.168\n",
    "push!(concepts, con)\n",
    "con = Concept(\"concept 2\", criteria)\n",
    "con.values[1] = \"0\"\n",
    "con.values[2] = \"0\"\n",
    "con.values[3] = 2\n",
    "con.values[4] = 14\n",
    "con.values[5] = 280.6\n",
    "con.values[6] = 256.1\n",
    "con.values[7] = 306.5\n",
    "con.values[8] = \"-\"\n",
    "con.values[9] = \"+\"\n",
    "con.values[10] = \"0\"\n",
    "con.values[11] = 26.37\n",
    "con.values[12] = 3.55\n",
    "con.values[13] = 0.225\n",
    "push!(concepts, con)\n",
    "con = Concept(\"concept 3\", criteria)\n",
    "con.values[1] = \"--\"\n",
    "con.values[2] = \"-\"\n",
    "con.values[3] = 2\n",
    "con.values[4] = 14\n",
    "con.values[5] = 715\n",
    "con.values[6] = 549.4\n",
    "con.values[7] = 301.7\n",
    "con.values[8] = \"++\"\n",
    "con.values[9] = \"--\"\n",
    "con.values[10] = \"--\"\n",
    "con.values[11] = 21.93\n",
    "con.values[12] = 3.03\n",
    "con.values[13] = 0.119\n",
    "push!(concepts, con)\n",
    "con = Concept(\"concept 4\", criteria)\n",
    "con.values[1] = \"+++\"\n",
    "con.values[2] = \"++\"\n",
    "con.values[3] = 3\n",
    "con.values[4] = 18\n",
    "con.values[5] = 450.3\n",
    "con.values[6] = 334.1\n",
    "con.values[7] = 312.4\n",
    "con.values[8] = \"+\"\n",
    "con.values[9] = \"++\"\n",
    "con.values[10] = \"-\"\n",
    "con.values[11] = 32.04\n",
    "con.values[12] = 3.44\n",
    "con.values[13] = 0.140\n",
    "push!(concepts, con)\n",
    "con = Concept(\"concept 5\", criteria)\n",
    "con.values[1] = \"+++\"\n",
    "con.values[2] = \"++\"\n",
    "con.values[3] = 3\n",
    "con.values[4] = 16\n",
    "con.values[5] = 459.3\n",
    "con.values[6] = 368.4\n",
    "con.values[7] = 312.4\n",
    "con.values[8] = \"+\"\n",
    "con.values[9] = \"+++\"\n",
    "con.values[10] = \"-\"\n",
    "con.values[11] = 33.17\n",
    "con.values[12] = 3.48\n",
    "con.values[13] = 0.176\n",
    "push!(concepts, con)\n",
    "con = Concept(\"concept 6\", criteria)\n",
    "con.values[1] = \"+\"\n",
    "con.values[2] = \"+\"\n",
    "con.values[3] = 3\n",
    "con.values[4] = 17\n",
    "con.values[5] = 677.2\n",
    "con.values[6] = 487.7\n",
    "con.values[7] = 309.6\n",
    "con.values[8] = \"+\"\n",
    "con.values[9] = \"--\"\n",
    "con.values[10] = \"--\"\n",
    "con.values[11] = 23.93\n",
    "con.values[12] = 3.03\n",
    "con.values[13] = 0.097\n",
    "push!(concepts, con)\n",
    "con = Concept(\"concept 7\", criteria)\n",
    "con.values[1] = \"++\"\n",
    "con.values[2] = \"+\"\n",
    "con.values[3] = 3\n",
    "con.values[4] = 18\n",
    "con.values[5] = 274.8\n",
    "con.values[6] = 299.6\n",
    "con.values[7] = 309.1\n",
    "con.values[8] = \"-\"\n",
    "con.values[9] = \"-\"\n",
    "con.values[10] = \"-\"\n",
    "con.values[11] = 28.29\n",
    "con.values[12] = 3.41\n",
    "con.values[13] = 0.158\n",
    "push!(concepts, con)\n",
    "con = Concept(\"concept 8\", criteria)\n",
    "con.values[1] = \"+++\"\n",
    "con.values[2] = \"+++\"\n",
    "con.values[3] = 2\n",
    "con.values[4] = 15\n",
    "con.values[5] = 690.2\n",
    "con.values[6] = 550\n",
    "con.values[7] = 327.4\n",
    "con.values[8] = \"+++\"\n",
    "con.values[9] = \"+++\"\n",
    "con.values[10] = \"+\"\n",
    "con.values[11] = 73.24\n",
    "con.values[12] = 3.34\n",
    "con.values[13] = 0.137\n",
    "push!(concepts, con)\n",
    "\n",
    "for con in concepts\n",
    "    cvals = MCDA.convertedvalues(con)\n",
    "    sum(cvals .* globalweight.(con.criteria))\n",
    "end\n",
    "nconcepts = length(concepts)\n",
    "M = criterionconvertedifneededvalue.(concepts,(1:length(criteria))')\n",
    "println()\n",
    "println(criterionconvertedifneededvalue.(concepts,4))\n",
    "\n",
    "diff  = MCDA.diff(M)\n",
    "critmaxdiff = reshape(maximum(diff, dims=(1,2)), size(diff,3))\n",
    "preffuncs = fill(MCDA.usual, 13)\n",
    "preffuncs = convert(Vector{Function}, preffuncs)\n",
    "preffuncs[1] = MCDA.usual\n",
    "preffuncs[2] = MCDA.usual\n",
    "preffuncs[3] = MCDA.usual\n",
    "preffuncs[4] = MCDA.usual\n",
    "preffuncs[5] = (d -> MCDA.vshape(d,critmaxdiff[5]))\n",
    "preffuncs[6] = (d -> MCDA.vshape(d,critmaxdiff[6]))\n",
    "preffuncs[7] = (d -> MCDA.vshape(d,critmaxdiff[7]))\n",
    "preffuncs[8] = MCDA.usual\n",
    "preffuncs[9] = MCDA.usual\n",
    "preffuncs[10] = MCDA.usual\n",
    "preffuncs[11] = (d -> MCDA.vshape(d,critmaxdiff[11]))\n",
    "preffuncs[12] = (d -> MCDA.vshape(d,critmaxdiff[12]))\n",
    "preffuncs[13] = (d -> MCDA.vshape(d,critmaxdiff[13]))\n",
    "\n",
    "minmax = ones(13)\n",
    "minmax[1] = 1\n",
    "minmax[2] = 1\n",
    "minmax[3] = 1\n",
    "minmax[4] = -1\n",
    "minmax[5] = -1\n",
    "minmax[6] = -1\n",
    "minmax[7] = -1\n",
    "minmax[8] = 1\n",
    "minmax[9] = 1\n",
    "minmax[10] = 1\n",
    "minmax[11] = -1\n",
    "minmax[12] = -1\n",
    "minmax[13] = -1\n",
    "P = promdiff(diff, preffuncs, minmax)\n",
    "\n",
    "w = reshape(globalweight.(criteria), 1, 1, length(criteria))\n",
    "\n",
    "pimat = reshape(sum(P .* w, dims=3), nconcepts, nconcepts)\n",
    "phip=MCDA.phip(pimat)\n",
    "phim=MCDA.phim(pimat)\n",
    "phi = phip-phim\n",
    "\n",
    "\n",
    "perms = reverse(sortperm(phi))"
   ]
  },
  {
   "cell_type": "code",
   "execution_count": 2,
   "metadata": {},
   "outputs": [
    {
     "data": {
      "text/html": [
       "<table class=\"data-frame\"><thead><tr><th></th><th>Priority</th><th>Maneuverability</th><th>Signature_profile</th><th>Redundancy</th><th>Nr_of_components</th></tr><tr><th></th><th>String</th><th>Float64</th><th>Float64</th><th>Float64</th><th>Float64</th></tr></thead><tbody><p>9 rows × 5 columns</p><tr><th>1</th><td>Prio criterion</td><td>0.115</td><td>0.129</td><td>0.101</td><td>0.023</td></tr><tr><th>2</th><td>concept 1</td><td>5.0</td><td>5.0</td><td>3.33333</td><td>10.0</td></tr><tr><th>3</th><td>concept 2</td><td>5.0</td><td>5.0</td><td>3.33333</td><td>10.0</td></tr><tr><th>4</th><td>concept 3</td><td>2.14286</td><td>3.57143</td><td>3.33333</td><td>10.0</td></tr><tr><th>5</th><td>concept 4</td><td>9.28571</td><td>7.85714</td><td>6.66667</td><td>0.0</td></tr><tr><th>6</th><td>concept 5</td><td>9.28571</td><td>7.85714</td><td>6.66667</td><td>5.0</td></tr><tr><th>7</th><td>concept 6</td><td>6.42857</td><td>6.42857</td><td>6.66667</td><td>2.5</td></tr><tr><th>8</th><td>concept 7</td><td>7.85714</td><td>6.42857</td><td>6.66667</td><td>0.0</td></tr><tr><th>9</th><td>concept 8</td><td>9.28571</td><td>9.28571</td><td>3.33333</td><td>7.5</td></tr></tbody></table>"
      ],
      "text/latex": [
       "\\begin{tabular}{r|ccccc}\n",
       "\t& Priority & Maneuverability & Signature\\_profile & Redundancy & Nr\\_of\\_components\\\\\n",
       "\t\\hline\n",
       "\t& String & Float64 & Float64 & Float64 & Float64\\\\\n",
       "\t\\hline\n",
       "\t1 & Prio criterion & 0.115 & 0.129 & 0.101 & 0.023 \\\\\n",
       "\t2 & concept 1 & 5.0 & 5.0 & 3.33333 & 10.0 \\\\\n",
       "\t3 & concept 2 & 5.0 & 5.0 & 3.33333 & 10.0 \\\\\n",
       "\t4 & concept 3 & 2.14286 & 3.57143 & 3.33333 & 10.0 \\\\\n",
       "\t5 & concept 4 & 9.28571 & 7.85714 & 6.66667 & 0.0 \\\\\n",
       "\t6 & concept 5 & 9.28571 & 7.85714 & 6.66667 & 5.0 \\\\\n",
       "\t7 & concept 6 & 6.42857 & 6.42857 & 6.66667 & 2.5 \\\\\n",
       "\t8 & concept 7 & 7.85714 & 6.42857 & 6.66667 & 0.0 \\\\\n",
       "\t9 & concept 8 & 9.28571 & 9.28571 & 3.33333 & 7.5 \\\\\n",
       "\\end{tabular}\n"
      ],
      "text/plain": [
       "9×5 DataFrame. Omitted printing of 1 columns\n",
       "│ Row │ Priority       │ Maneuverability │ Signature_profile │ Redundancy │\n",
       "│     │ \u001b[90mString\u001b[39m         │ \u001b[90mFloat64\u001b[39m         │ \u001b[90mFloat64\u001b[39m           │ \u001b[90mFloat64\u001b[39m    │\n",
       "├─────┼────────────────┼─────────────────┼───────────────────┼────────────┤\n",
       "│ 1   │ Prio criterion │ 0.115           │ 0.129             │ 0.101      │\n",
       "│ 2   │ concept 1      │ 5.0             │ 5.0               │ 3.33333    │\n",
       "│ 3   │ concept 2      │ 5.0             │ 5.0               │ 3.33333    │\n",
       "│ 4   │ concept 3      │ 2.14286         │ 3.57143           │ 3.33333    │\n",
       "│ 5   │ concept 4      │ 9.28571         │ 7.85714           │ 6.66667    │\n",
       "│ 6   │ concept 5      │ 9.28571         │ 7.85714           │ 6.66667    │\n",
       "│ 7   │ concept 6      │ 6.42857         │ 6.42857           │ 6.66667    │\n",
       "│ 8   │ concept 7      │ 7.85714         │ 6.42857           │ 6.66667    │\n",
       "│ 9   │ concept 8      │ 9.28571         │ 9.28571           │ 3.33333    │"
      ]
     },
     "execution_count": 2,
     "metadata": {},
     "output_type": "execute_result"
    }
   ],
   "source": [
    "DataFrame(Priority = [\"Prio criterion\", MCDA.name.(concepts)...], Maneuverability = [globalweight.(con.criteria)[1], criterionconvertedvalue.(concepts,1)...], Signature_profile = [globalweight.(con.criteria)[2], criterionconvertedvalue.(concepts,2)...], Redundancy = [globalweight.(con.criteria)[3], criterionconvertedvalue.(concepts,3)...], Nr_of_components = [globalweight.(con.criteria)[4], criterionconvertedvalue.(concepts,4)...])"
   ]
  },
  {
   "cell_type": "code",
   "execution_count": 3,
   "metadata": {},
   "outputs": [
    {
     "data": {
      "text/html": [
       "<table class=\"data-frame\"><thead><tr><th></th><th>Space_consumption</th><th>Weight</th><th>Fuel_capacity</th><th>Reliability</th><th>Maintainability</th></tr><tr><th></th><th>Float64</th><th>Float64</th><th>Float64</th><th>Float64</th><th>Float64</th></tr></thead><tbody><p>9 rows × 5 columns</p><tr><th>1</th><td>0.058</td><td>0.081</td><td>0.081</td><td>0.042</td><td>0.064</td></tr><tr><th>2</th><td>9.72109</td><td>9.96949</td><td>9.48148</td><td>5.0</td><td>5.0</td></tr><tr><th>3</th><td>9.85034</td><td>9.96271</td><td>7.96296</td><td>3.57143</td><td>6.42857</td></tr><tr><th>4</th><td>0.0</td><td>0.020339</td><td>9.74074</td><td>7.85714</td><td>2.14286</td></tr><tr><th>5</th><td>6.00227</td><td>7.31864</td><td>5.77778</td><td>6.42857</td><td>7.85714</td></tr><tr><th>6</th><td>5.79819</td><td>6.15593</td><td>5.77778</td><td>6.42857</td><td>9.28571</td></tr><tr><th>7</th><td>0.857143</td><td>2.11186</td><td>6.81481</td><td>6.42857</td><td>2.14286</td></tr><tr><th>8</th><td>9.98186</td><td>8.48814</td><td>7.0</td><td>3.57143</td><td>3.57143</td></tr><tr><th>9</th><td>0.562358</td><td>0.0</td><td>0.222222</td><td>9.28571</td><td>9.28571</td></tr></tbody></table>"
      ],
      "text/latex": [
       "\\begin{tabular}{r|ccccc}\n",
       "\t& Space\\_consumption & Weight & Fuel\\_capacity & Reliability & Maintainability\\\\\n",
       "\t\\hline\n",
       "\t& Float64 & Float64 & Float64 & Float64 & Float64\\\\\n",
       "\t\\hline\n",
       "\t1 & 0.058 & 0.081 & 0.081 & 0.042 & 0.064 \\\\\n",
       "\t2 & 9.72109 & 9.96949 & 9.48148 & 5.0 & 5.0 \\\\\n",
       "\t3 & 9.85034 & 9.96271 & 7.96296 & 3.57143 & 6.42857 \\\\\n",
       "\t4 & 0.0 & 0.020339 & 9.74074 & 7.85714 & 2.14286 \\\\\n",
       "\t5 & 6.00227 & 7.31864 & 5.77778 & 6.42857 & 7.85714 \\\\\n",
       "\t6 & 5.79819 & 6.15593 & 5.77778 & 6.42857 & 9.28571 \\\\\n",
       "\t7 & 0.857143 & 2.11186 & 6.81481 & 6.42857 & 2.14286 \\\\\n",
       "\t8 & 9.98186 & 8.48814 & 7.0 & 3.57143 & 3.57143 \\\\\n",
       "\t9 & 0.562358 & 0.0 & 0.222222 & 9.28571 & 9.28571 \\\\\n",
       "\\end{tabular}\n"
      ],
      "text/plain": [
       "9×5 DataFrame. Omitted printing of 1 columns\n",
       "│ Row │ Space_consumption │ Weight   │ Fuel_capacity │ Reliability │\n",
       "│     │ \u001b[90mFloat64\u001b[39m           │ \u001b[90mFloat64\u001b[39m  │ \u001b[90mFloat64\u001b[39m       │ \u001b[90mFloat64\u001b[39m     │\n",
       "├─────┼───────────────────┼──────────┼───────────────┼─────────────┤\n",
       "│ 1   │ 0.058             │ 0.081    │ 0.081         │ 0.042       │\n",
       "│ 2   │ 9.72109           │ 9.96949  │ 9.48148       │ 5.0         │\n",
       "│ 3   │ 9.85034           │ 9.96271  │ 7.96296       │ 3.57143     │\n",
       "│ 4   │ 0.0               │ 0.020339 │ 9.74074       │ 7.85714     │\n",
       "│ 5   │ 6.00227           │ 7.31864  │ 5.77778       │ 6.42857     │\n",
       "│ 6   │ 5.79819           │ 6.15593  │ 5.77778       │ 6.42857     │\n",
       "│ 7   │ 0.857143          │ 2.11186  │ 6.81481       │ 6.42857     │\n",
       "│ 8   │ 9.98186           │ 8.48814  │ 7.0           │ 3.57143     │\n",
       "│ 9   │ 0.562358          │ 0.0      │ 0.222222      │ 9.28571     │"
      ]
     },
     "execution_count": 3,
     "metadata": {},
     "output_type": "execute_result"
    }
   ],
   "source": [
    "DataFrame(Space_consumption = [globalweight.(con.criteria)[5], criterionconvertedvalue.(concepts,5)...], Weight = [globalweight.(con.criteria)[6], criterionconvertedvalue.(concepts,6)...], Fuel_capacity = [globalweight.(con.criteria)[7], criterionconvertedvalue.(concepts,7)...], Reliability = [globalweight.(con.criteria)[8], criterionconvertedvalue.(concepts,8)...], Maintainability = [globalweight.(con.criteria)[9], criterionconvertedvalue.(concepts,9)...])"
   ]
  },
  {
   "cell_type": "code",
   "execution_count": 4,
   "metadata": {},
   "outputs": [
    {
     "data": {
      "text/html": [
       "<table class=\"data-frame\"><thead><tr><th></th><th>Shock_proofness</th><th>Purchase_costs</th><th>Fuel_costs</th><th>Maintenance_costs</th><th>Total_Priority</th></tr><tr><th></th><th>Float64</th><th>Float64</th><th>Float64</th><th>Float64</th><th>Any</th></tr></thead><tbody><p>9 rows × 5 columns</p><tr><th>1</th><td>0.032</td><td>0.107</td><td>0.138</td><td>0.031</td><td>Missing</td></tr><tr><th>2</th><td>5.0</td><td>9.03019</td><td>3.0</td><td>4.42857</td><td>6.13353</td></tr><tr><th>3</th><td>5.0</td><td>8.98679</td><td>0.833333</td><td>0.357143</td><td>5.61905</td></tr><tr><th>4</th><td>2.14286</td><td>9.82453</td><td>9.5</td><td>7.92857</td><td>5.20818</td></tr><tr><th>5</th><td>3.57143</td><td>7.91698</td><td>2.66667</td><td>6.42857</td><td>6.46525</td></tr><tr><th>6</th><td>3.57143</td><td>7.70377</td><td>2.0</td><td>3.85714</td><td>6.37113</td></tr><tr><th>7</th><td>2.14286</td><td>9.44717</td><td>9.5</td><td>9.5</td><td>6.16424</td></tr><tr><th>8</th><td>3.57143</td><td>8.62453</td><td>3.16667</td><td>5.14286</td><td>6.25179</td></tr><tr><th>9</th><td>6.42857</td><td>0.143396</td><td>4.33333</td><td>6.64286</td><td>4.83477</td></tr></tbody></table>"
      ],
      "text/latex": [
       "\\begin{tabular}{r|ccccc}\n",
       "\t& Shock\\_proofness & Purchase\\_costs & Fuel\\_costs & Maintenance\\_costs & Total\\_Priority\\\\\n",
       "\t\\hline\n",
       "\t& Float64 & Float64 & Float64 & Float64 & Any\\\\\n",
       "\t\\hline\n",
       "\t1 & 0.032 & 0.107 & 0.138 & 0.031 & Missing \\\\\n",
       "\t2 & 5.0 & 9.03019 & 3.0 & 4.42857 & 6.13353 \\\\\n",
       "\t3 & 5.0 & 8.98679 & 0.833333 & 0.357143 & 5.61905 \\\\\n",
       "\t4 & 2.14286 & 9.82453 & 9.5 & 7.92857 & 5.20818 \\\\\n",
       "\t5 & 3.57143 & 7.91698 & 2.66667 & 6.42857 & 6.46525 \\\\\n",
       "\t6 & 3.57143 & 7.70377 & 2.0 & 3.85714 & 6.37113 \\\\\n",
       "\t7 & 2.14286 & 9.44717 & 9.5 & 9.5 & 6.16424 \\\\\n",
       "\t8 & 3.57143 & 8.62453 & 3.16667 & 5.14286 & 6.25179 \\\\\n",
       "\t9 & 6.42857 & 0.143396 & 4.33333 & 6.64286 & 4.83477 \\\\\n",
       "\\end{tabular}\n"
      ],
      "text/plain": [
       "9×5 DataFrame. Omitted printing of 1 columns\n",
       "│ Row │ Shock_proofness │ Purchase_costs │ Fuel_costs │ Maintenance_costs │\n",
       "│     │ \u001b[90mFloat64\u001b[39m         │ \u001b[90mFloat64\u001b[39m        │ \u001b[90mFloat64\u001b[39m    │ \u001b[90mFloat64\u001b[39m           │\n",
       "├─────┼─────────────────┼────────────────┼────────────┼───────────────────┤\n",
       "│ 1   │ 0.032           │ 0.107          │ 0.138      │ 0.031             │\n",
       "│ 2   │ 5.0             │ 9.03019        │ 3.0        │ 4.42857           │\n",
       "│ 3   │ 5.0             │ 8.98679        │ 0.833333   │ 0.357143          │\n",
       "│ 4   │ 2.14286         │ 9.82453        │ 9.5        │ 7.92857           │\n",
       "│ 5   │ 3.57143         │ 7.91698        │ 2.66667    │ 6.42857           │\n",
       "│ 6   │ 3.57143         │ 7.70377        │ 2.0        │ 3.85714           │\n",
       "│ 7   │ 2.14286         │ 9.44717        │ 9.5        │ 9.5               │\n",
       "│ 8   │ 3.57143         │ 8.62453        │ 3.16667    │ 5.14286           │\n",
       "│ 9   │ 6.42857         │ 0.143396       │ 4.33333    │ 6.64286           │"
      ]
     },
     "execution_count": 4,
     "metadata": {},
     "output_type": "execute_result"
    }
   ],
   "source": [
    "DataFrame(Shock_proofness = [globalweight.(con.criteria)[10], criterionconvertedvalue.(concepts,10)...], Purchase_costs = [globalweight.(con.criteria)[11], criterionconvertedvalue.(concepts,11)...], Fuel_costs = [globalweight.(con.criteria)[12] , criterionconvertedvalue.(concepts,12)...], Maintenance_costs = [globalweight.(con.criteria)[13], criterionconvertedvalue.(concepts,13)...], Total_Priority = [Missing, [sum(MCDA.convertedvalues(con) .* globalweight.(con.criteria)) for con in concepts]...])"
   ]
  },
  {
   "cell_type": "code",
   "execution_count": 5,
   "metadata": {},
   "outputs": [
    {
     "data": {
      "text/html": [
       "<table class=\"data-frame\"><thead><tr><th></th><th>Priority</th><th>Maneuverability</th><th>Signature_profile</th><th>Redundancy</th><th>Nr_of_components</th></tr><tr><th></th><th>String</th><th>Int64</th><th>Int64</th><th>Int64</th><th>Int64</th></tr></thead><tbody><p>9 rows × 5 columns</p><tr><th>1</th><td>Prio criterion</td><td>3</td><td>2</td><td>5</td><td>13</td></tr><tr><th>2</th><td>concept 1</td><td>7</td><td>7</td><td>8</td><td>3</td></tr><tr><th>3</th><td>concept 2</td><td>6</td><td>6</td><td>7</td><td>2</td></tr><tr><th>4</th><td>concept 3</td><td>8</td><td>8</td><td>6</td><td>1</td></tr><tr><th>5</th><td>concept 4</td><td>3</td><td>3</td><td>4</td><td>8</td></tr><tr><th>6</th><td>concept 5</td><td>2</td><td>2</td><td>3</td><td>5</td></tr><tr><th>7</th><td>concept 6</td><td>5</td><td>5</td><td>2</td><td>6</td></tr><tr><th>8</th><td>concept 7</td><td>4</td><td>4</td><td>1</td><td>7</td></tr><tr><th>9</th><td>concept 8</td><td>1</td><td>1</td><td>5</td><td>4</td></tr></tbody></table>"
      ],
      "text/latex": [
       "\\begin{tabular}{r|ccccc}\n",
       "\t& Priority & Maneuverability & Signature\\_profile & Redundancy & Nr\\_of\\_components\\\\\n",
       "\t\\hline\n",
       "\t& String & Int64 & Int64 & Int64 & Int64\\\\\n",
       "\t\\hline\n",
       "\t1 & Prio criterion & 3 & 2 & 5 & 13 \\\\\n",
       "\t2 & concept 1 & 7 & 7 & 8 & 3 \\\\\n",
       "\t3 & concept 2 & 6 & 6 & 7 & 2 \\\\\n",
       "\t4 & concept 3 & 8 & 8 & 6 & 1 \\\\\n",
       "\t5 & concept 4 & 3 & 3 & 4 & 8 \\\\\n",
       "\t6 & concept 5 & 2 & 2 & 3 & 5 \\\\\n",
       "\t7 & concept 6 & 5 & 5 & 2 & 6 \\\\\n",
       "\t8 & concept 7 & 4 & 4 & 1 & 7 \\\\\n",
       "\t9 & concept 8 & 1 & 1 & 5 & 4 \\\\\n",
       "\\end{tabular}\n"
      ],
      "text/plain": [
       "9×5 DataFrame. Omitted printing of 1 columns\n",
       "│ Row │ Priority       │ Maneuverability │ Signature_profile │ Redundancy │\n",
       "│     │ \u001b[90mString\u001b[39m         │ \u001b[90mInt64\u001b[39m           │ \u001b[90mInt64\u001b[39m             │ \u001b[90mInt64\u001b[39m      │\n",
       "├─────┼────────────────┼─────────────────┼───────────────────┼────────────┤\n",
       "│ 1   │ Prio criterion │ 3               │ 2                 │ 5          │\n",
       "│ 2   │ concept 1      │ 7               │ 7                 │ 8          │\n",
       "│ 3   │ concept 2      │ 6               │ 6                 │ 7          │\n",
       "│ 4   │ concept 3      │ 8               │ 8                 │ 6          │\n",
       "│ 5   │ concept 4      │ 3               │ 3                 │ 4          │\n",
       "│ 6   │ concept 5      │ 2               │ 2                 │ 3          │\n",
       "│ 7   │ concept 6      │ 5               │ 5                 │ 2          │\n",
       "│ 8   │ concept 7      │ 4               │ 4                 │ 1          │\n",
       "│ 9   │ concept 8      │ 1               │ 1                 │ 5          │"
      ]
     },
     "execution_count": 5,
     "metadata": {},
     "output_type": "execute_result"
    }
   ],
   "source": [
    "DataFrame(Priority = [\"Prio criterion\", MCDA.name.(concepts)...], Maneuverability = [ranking(globalweight.(con.criteria))[1], ranking(criterionconvertedvalue.(concepts,1))...], Signature_profile = [ranking(globalweight.(con.criteria))[2], ranking(criterionconvertedvalue.(concepts,2))...], Redundancy = [ranking(globalweight.(con.criteria))[3], ranking(criterionconvertedvalue.(concepts,3))...], Nr_of_components = [ranking(globalweight.(con.criteria))[4], ranking(criterionconvertedvalue.(concepts,4))...])"
   ]
  },
  {
   "cell_type": "code",
   "execution_count": 6,
   "metadata": {},
   "outputs": [
    {
     "data": {
      "text/html": [
       "<table class=\"data-frame\"><thead><tr><th></th><th>Space_consumption</th><th>Weight</th><th>Fuel_capacity</th><th>Reliability</th><th>Maintainability</th></tr><tr><th></th><th>Int64</th><th>Int64</th><th>Int64</th><th>Int64</th><th>Int64</th></tr></thead><tbody><p>9 rows × 5 columns</p><tr><th>1</th><td>9</td><td>7</td><td>6</td><td>10</td><td>8</td></tr><tr><th>2</th><td>3</td><td>1</td><td>2</td><td>6</td><td>5</td></tr><tr><th>3</th><td>2</td><td>2</td><td>3</td><td>8</td><td>4</td></tr><tr><th>4</th><td>8</td><td>7</td><td>1</td><td>2</td><td>8</td></tr><tr><th>5</th><td>4</td><td>4</td><td>7</td><td>5</td><td>3</td></tr><tr><th>6</th><td>5</td><td>5</td><td>6</td><td>4</td><td>2</td></tr><tr><th>7</th><td>6</td><td>6</td><td>5</td><td>3</td><td>7</td></tr><tr><th>8</th><td>1</td><td>3</td><td>4</td><td>7</td><td>6</td></tr><tr><th>9</th><td>7</td><td>8</td><td>8</td><td>1</td><td>1</td></tr></tbody></table>"
      ],
      "text/latex": [
       "\\begin{tabular}{r|ccccc}\n",
       "\t& Space\\_consumption & Weight & Fuel\\_capacity & Reliability & Maintainability\\\\\n",
       "\t\\hline\n",
       "\t& Int64 & Int64 & Int64 & Int64 & Int64\\\\\n",
       "\t\\hline\n",
       "\t1 & 9 & 7 & 6 & 10 & 8 \\\\\n",
       "\t2 & 3 & 1 & 2 & 6 & 5 \\\\\n",
       "\t3 & 2 & 2 & 3 & 8 & 4 \\\\\n",
       "\t4 & 8 & 7 & 1 & 2 & 8 \\\\\n",
       "\t5 & 4 & 4 & 7 & 5 & 3 \\\\\n",
       "\t6 & 5 & 5 & 6 & 4 & 2 \\\\\n",
       "\t7 & 6 & 6 & 5 & 3 & 7 \\\\\n",
       "\t8 & 1 & 3 & 4 & 7 & 6 \\\\\n",
       "\t9 & 7 & 8 & 8 & 1 & 1 \\\\\n",
       "\\end{tabular}\n"
      ],
      "text/plain": [
       "9×5 DataFrame. Omitted printing of 1 columns\n",
       "│ Row │ Space_consumption │ Weight │ Fuel_capacity │ Reliability │\n",
       "│     │ \u001b[90mInt64\u001b[39m             │ \u001b[90mInt64\u001b[39m  │ \u001b[90mInt64\u001b[39m         │ \u001b[90mInt64\u001b[39m       │\n",
       "├─────┼───────────────────┼────────┼───────────────┼─────────────┤\n",
       "│ 1   │ 9                 │ 7      │ 6             │ 10          │\n",
       "│ 2   │ 3                 │ 1      │ 2             │ 6           │\n",
       "│ 3   │ 2                 │ 2      │ 3             │ 8           │\n",
       "│ 4   │ 8                 │ 7      │ 1             │ 2           │\n",
       "│ 5   │ 4                 │ 4      │ 7             │ 5           │\n",
       "│ 6   │ 5                 │ 5      │ 6             │ 4           │\n",
       "│ 7   │ 6                 │ 6      │ 5             │ 3           │\n",
       "│ 8   │ 1                 │ 3      │ 4             │ 7           │\n",
       "│ 9   │ 7                 │ 8      │ 8             │ 1           │"
      ]
     },
     "execution_count": 6,
     "metadata": {},
     "output_type": "execute_result"
    }
   ],
   "source": [
    "DataFrame(Space_consumption = [ranking(globalweight.(con.criteria))[5], ranking(criterionconvertedvalue.(concepts,5))...], Weight = [ranking(globalweight.(con.criteria))[6], ranking(criterionconvertedvalue.(concepts,6))...], Fuel_capacity = [ranking(globalweight.(con.criteria))[7], ranking(criterionconvertedvalue.(concepts,7))...], Reliability = [ranking(globalweight.(con.criteria))[8], ranking(criterionconvertedvalue.(concepts,8))...], Maintainability = [ranking(globalweight.(con.criteria))[9], ranking(criterionconvertedvalue.(concepts,9))...])"
   ]
  },
  {
   "cell_type": "code",
   "execution_count": 7,
   "metadata": {},
   "outputs": [
    {
     "data": {
      "text/html": [
       "<table class=\"data-frame\"><thead><tr><th></th><th>Shock_proofness</th><th>Purchase_costs</th><th>Fuel_costs</th><th>Maintenance_costs</th><th>Total_Priority</th></tr><tr><th></th><th>Int64</th><th>Int64</th><th>Int64</th><th>Int64</th><th>Any</th></tr></thead><tbody><p>9 rows × 5 columns</p><tr><th>1</th><td>11</td><td>4</td><td>1</td><td>12</td><td>Missing</td></tr><tr><th>2</th><td>3</td><td>3</td><td>5</td><td>6</td><td>5</td></tr><tr><th>3</th><td>2</td><td>4</td><td>8</td><td>8</td><td>6</td></tr><tr><th>4</th><td>8</td><td>1</td><td>2</td><td>2</td><td>7</td></tr><tr><th>5</th><td>6</td><td>6</td><td>6</td><td>4</td><td>1</td></tr><tr><th>6</th><td>5</td><td>7</td><td>7</td><td>7</td><td>2</td></tr><tr><th>7</th><td>7</td><td>2</td><td>1</td><td>1</td><td>4</td></tr><tr><th>8</th><td>4</td><td>5</td><td>4</td><td>5</td><td>3</td></tr><tr><th>9</th><td>1</td><td>8</td><td>3</td><td>3</td><td>8</td></tr></tbody></table>"
      ],
      "text/latex": [
       "\\begin{tabular}{r|ccccc}\n",
       "\t& Shock\\_proofness & Purchase\\_costs & Fuel\\_costs & Maintenance\\_costs & Total\\_Priority\\\\\n",
       "\t\\hline\n",
       "\t& Int64 & Int64 & Int64 & Int64 & Any\\\\\n",
       "\t\\hline\n",
       "\t1 & 11 & 4 & 1 & 12 & Missing \\\\\n",
       "\t2 & 3 & 3 & 5 & 6 & 5 \\\\\n",
       "\t3 & 2 & 4 & 8 & 8 & 6 \\\\\n",
       "\t4 & 8 & 1 & 2 & 2 & 7 \\\\\n",
       "\t5 & 6 & 6 & 6 & 4 & 1 \\\\\n",
       "\t6 & 5 & 7 & 7 & 7 & 2 \\\\\n",
       "\t7 & 7 & 2 & 1 & 1 & 4 \\\\\n",
       "\t8 & 4 & 5 & 4 & 5 & 3 \\\\\n",
       "\t9 & 1 & 8 & 3 & 3 & 8 \\\\\n",
       "\\end{tabular}\n"
      ],
      "text/plain": [
       "9×5 DataFrame. Omitted printing of 1 columns\n",
       "│ Row │ Shock_proofness │ Purchase_costs │ Fuel_costs │ Maintenance_costs │\n",
       "│     │ \u001b[90mInt64\u001b[39m           │ \u001b[90mInt64\u001b[39m          │ \u001b[90mInt64\u001b[39m      │ \u001b[90mInt64\u001b[39m             │\n",
       "├─────┼─────────────────┼────────────────┼────────────┼───────────────────┤\n",
       "│ 1   │ 11              │ 4              │ 1          │ 12                │\n",
       "│ 2   │ 3               │ 3              │ 5          │ 6                 │\n",
       "│ 3   │ 2               │ 4              │ 8          │ 8                 │\n",
       "│ 4   │ 8               │ 1              │ 2          │ 2                 │\n",
       "│ 5   │ 6               │ 6              │ 6          │ 4                 │\n",
       "│ 6   │ 5               │ 7              │ 7          │ 7                 │\n",
       "│ 7   │ 7               │ 2              │ 1          │ 1                 │\n",
       "│ 8   │ 4               │ 5              │ 4          │ 5                 │\n",
       "│ 9   │ 1               │ 8              │ 3          │ 3                 │"
      ]
     },
     "execution_count": 7,
     "metadata": {},
     "output_type": "execute_result"
    }
   ],
   "source": [
    "DataFrame(Shock_proofness = [ranking(globalweight.(con.criteria))[10], ranking(criterionconvertedvalue.(concepts,10))...], Purchase_costs = [ranking(globalweight.(con.criteria))[11], ranking(criterionconvertedvalue.(concepts,11))...], Fuel_costs = [ranking(globalweight.(con.criteria))[12] , ranking(criterionconvertedvalue.(concepts,12))...], Maintenance_costs = [ranking(globalweight.(con.criteria))[13], ranking(criterionconvertedvalue.(concepts,13))...], Total_Priority = [Missing, ranking([sum(MCDA.convertedvalues(con) .* globalweight.(con.criteria)) for con in concepts])...])"
   ]
  },
  {
   "cell_type": "code",
   "execution_count": 8,
   "metadata": {},
   "outputs": [
    {
     "data": {
      "text/html": [
       "<table class=\"data-frame\"><thead><tr><th></th><th>Concepts</th><th>∅pos</th><th>∅neg</th></tr><tr><th></th><th>String</th><th>Float64</th><th>Float64</th></tr></thead><tbody><p>8 rows × 3 columns</p><tr><th>1</th><td>concept 1</td><td>0.241583</td><td>0.345217</td></tr><tr><th>2</th><td>concept 2</td><td>0.217685</td><td>0.39076</td></tr><tr><th>3</th><td>concept 3</td><td>0.213035</td><td>0.477203</td></tr><tr><th>4</th><td>concept 4</td><td>0.373983</td><td>0.163038</td></tr><tr><th>5</th><td>concept 5</td><td>0.379118</td><td>0.161257</td></tr><tr><th>6</th><td>concept 6</td><td>0.334396</td><td>0.30787</td></tr><tr><th>7</th><td>concept 7</td><td>0.308232</td><td>0.271347</td></tr><tr><th>8</th><td>concept 8</td><td>0.382654</td><td>0.333994</td></tr></tbody></table>"
      ],
      "text/latex": [
       "\\begin{tabular}{r|ccc}\n",
       "\t& Concepts & ∅pos & ∅neg\\\\\n",
       "\t\\hline\n",
       "\t& String & Float64 & Float64\\\\\n",
       "\t\\hline\n",
       "\t1 & concept 1 & 0.241583 & 0.345217 \\\\\n",
       "\t2 & concept 2 & 0.217685 & 0.39076 \\\\\n",
       "\t3 & concept 3 & 0.213035 & 0.477203 \\\\\n",
       "\t4 & concept 4 & 0.373983 & 0.163038 \\\\\n",
       "\t5 & concept 5 & 0.379118 & 0.161257 \\\\\n",
       "\t6 & concept 6 & 0.334396 & 0.30787 \\\\\n",
       "\t7 & concept 7 & 0.308232 & 0.271347 \\\\\n",
       "\t8 & concept 8 & 0.382654 & 0.333994 \\\\\n",
       "\\end{tabular}\n"
      ],
      "text/plain": [
       "8×3 DataFrame\n",
       "│ Row │ Concepts  │ ∅pos     │ ∅neg     │\n",
       "│     │ \u001b[90mString\u001b[39m    │ \u001b[90mFloat64\u001b[39m  │ \u001b[90mFloat64\u001b[39m  │\n",
       "├─────┼───────────┼──────────┼──────────┤\n",
       "│ 1   │ concept 1 │ 0.241583 │ 0.345217 │\n",
       "│ 2   │ concept 2 │ 0.217685 │ 0.39076  │\n",
       "│ 3   │ concept 3 │ 0.213035 │ 0.477203 │\n",
       "│ 4   │ concept 4 │ 0.373983 │ 0.163038 │\n",
       "│ 5   │ concept 5 │ 0.379118 │ 0.161257 │\n",
       "│ 6   │ concept 6 │ 0.334396 │ 0.30787  │\n",
       "│ 7   │ concept 7 │ 0.308232 │ 0.271347 │\n",
       "│ 8   │ concept 8 │ 0.382654 │ 0.333994 │"
      ]
     },
     "execution_count": 8,
     "metadata": {},
     "output_type": "execute_result"
    }
   ],
   "source": [
    "Outranking_flows = DataFrame(Concepts = MCDA.name.(concepts),∅pos = phip, ∅neg = phim)"
   ]
  },
  {
   "cell_type": "code",
   "execution_count": 34,
   "metadata": {},
   "outputs": [
    {
     "data": {
      "text/html": [
       "<table class=\"data-frame\"><thead><tr><th></th><th>Concepts</th><th>∅</th></tr><tr><th></th><th>String</th><th>Float64</th></tr></thead><tbody><p>8 rows × 2 columns</p><tr><th>1</th><td>concept 1</td><td>-0.103634</td></tr><tr><th>2</th><td>concept 2</td><td>-0.173075</td></tr><tr><th>3</th><td>concept 3</td><td>-0.264168</td></tr><tr><th>4</th><td>concept 4</td><td>0.210945</td></tr><tr><th>5</th><td>concept 5</td><td>0.217861</td></tr><tr><th>6</th><td>concept 6</td><td>0.0265263</td></tr><tr><th>7</th><td>concept 7</td><td>0.0368857</td></tr><tr><th>8</th><td>concept 8</td><td>0.0486595</td></tr></tbody></table>"
      ],
      "text/latex": [
       "\\begin{tabular}{r|cc}\n",
       "\t& Concepts & ∅\\\\\n",
       "\t\\hline\n",
       "\t& String & Float64\\\\\n",
       "\t\\hline\n",
       "\t1 & concept 1 & -0.103634 \\\\\n",
       "\t2 & concept 2 & -0.173075 \\\\\n",
       "\t3 & concept 3 & -0.264168 \\\\\n",
       "\t4 & concept 4 & 0.210945 \\\\\n",
       "\t5 & concept 5 & 0.217861 \\\\\n",
       "\t6 & concept 6 & 0.0265263 \\\\\n",
       "\t7 & concept 7 & 0.0368857 \\\\\n",
       "\t8 & concept 8 & 0.0486595 \\\\\n",
       "\\end{tabular}\n"
      ],
      "text/plain": [
       "8×2 DataFrame\n",
       "│ Row │ Concepts  │ ∅         │\n",
       "│     │ \u001b[90mString\u001b[39m    │ \u001b[90mFloat64\u001b[39m   │\n",
       "├─────┼───────────┼───────────┤\n",
       "│ 1   │ concept 1 │ -0.103634 │\n",
       "│ 2   │ concept 2 │ -0.173075 │\n",
       "│ 3   │ concept 3 │ -0.264168 │\n",
       "│ 4   │ concept 4 │ 0.210945  │\n",
       "│ 5   │ concept 5 │ 0.217861  │\n",
       "│ 6   │ concept 6 │ 0.0265263 │\n",
       "│ 7   │ concept 7 │ 0.0368857 │\n",
       "│ 8   │ concept 8 │ 0.0486595 │"
      ]
     },
     "execution_count": 34,
     "metadata": {},
     "output_type": "execute_result"
    }
   ],
   "source": [
    "Promethee2 = DataFrame(Concepts = MCDA.name.(concepts),∅ = phi)"
   ]
  },
  {
   "cell_type": "code",
   "execution_count": 10,
   "metadata": {},
   "outputs": [
    {
     "data": {
      "text/html": [
       "<table class=\"data-frame\"><thead><tr><th></th><th>Concepts</th><th>∅</th></tr><tr><th></th><th>String</th><th>Int64</th></tr></thead><tbody><p>8 rows × 2 columns</p><tr><th>1</th><td>concept 1</td><td>6</td></tr><tr><th>2</th><td>concept 2</td><td>7</td></tr><tr><th>3</th><td>concept 3</td><td>8</td></tr><tr><th>4</th><td>concept 4</td><td>2</td></tr><tr><th>5</th><td>concept 5</td><td>1</td></tr><tr><th>6</th><td>concept 6</td><td>5</td></tr><tr><th>7</th><td>concept 7</td><td>4</td></tr><tr><th>8</th><td>concept 8</td><td>3</td></tr></tbody></table>"
      ],
      "text/latex": [
       "\\begin{tabular}{r|cc}\n",
       "\t& Concepts & ∅\\\\\n",
       "\t\\hline\n",
       "\t& String & Int64\\\\\n",
       "\t\\hline\n",
       "\t1 & concept 1 & 6 \\\\\n",
       "\t2 & concept 2 & 7 \\\\\n",
       "\t3 & concept 3 & 8 \\\\\n",
       "\t4 & concept 4 & 2 \\\\\n",
       "\t5 & concept 5 & 1 \\\\\n",
       "\t6 & concept 6 & 5 \\\\\n",
       "\t7 & concept 7 & 4 \\\\\n",
       "\t8 & concept 8 & 3 \\\\\n",
       "\\end{tabular}\n"
      ],
      "text/plain": [
       "8×2 DataFrame\n",
       "│ Row │ Concepts  │ ∅     │\n",
       "│     │ \u001b[90mString\u001b[39m    │ \u001b[90mInt64\u001b[39m │\n",
       "├─────┼───────────┼───────┤\n",
       "│ 1   │ concept 1 │ 6     │\n",
       "│ 2   │ concept 2 │ 7     │\n",
       "│ 3   │ concept 3 │ 8     │\n",
       "│ 4   │ concept 4 │ 2     │\n",
       "│ 5   │ concept 5 │ 1     │\n",
       "│ 6   │ concept 6 │ 5     │\n",
       "│ 7   │ concept 7 │ 4     │\n",
       "│ 8   │ concept 8 │ 3     │"
      ]
     },
     "execution_count": 10,
     "metadata": {},
     "output_type": "execute_result"
    }
   ],
   "source": [
    "rankingPromethee2 = DataFrame(Concepts = MCDA.name.(concepts), ∅ = ranking(phi))"
   ]
  },
  {
   "cell_type": "code",
   "execution_count": 32,
   "metadata": {},
   "outputs": [
    {
     "data": {
      "text/html": [
       "<table class=\"data-frame\"><thead><tr><th></th><th>x1</th><th>x2</th><th>x3</th><th>x4</th><th>x5</th><th>x6</th><th>x7</th><th>x8</th></tr><tr><th></th><th>Float64</th><th>Float64</th><th>Float64</th><th>Float64</th><th>Float64</th><th>Float64</th><th>Float64</th><th>Float64</th></tr></thead><tbody><p>8 rows × 8 columns</p><tr><th>1</th><td>-0.571429</td><td>-0.571429</td><td>-0.571429</td><td>0.714286</td><td>0.500844</td><td>0.511974</td><td>0.346304</td><td>-0.428571</td></tr><tr><th>2</th><td>-0.571429</td><td>-0.571429</td><td>-0.571429</td><td>0.714286</td><td>0.515642</td><td>0.511196</td><td>0.16398</td><td>-0.857143</td></tr><tr><th>3</th><td>-1.0</td><td>-1.0</td><td>-0.571429</td><td>0.714286</td><td>-0.612157</td><td>-0.628552</td><td>0.377432</td><td>0.714286</td></tr><tr><th>4</th><td>0.714286</td><td>0.571429</td><td>0.571429</td><td>-0.857143</td><td>0.0750633</td><td>0.208092</td><td>-0.098388</td><td>0.142857</td></tr><tr><th>5</th><td>0.714286</td><td>0.571429</td><td>0.571429</td><td>-0.142857</td><td>0.0516973</td><td>0.0748045</td><td>-0.098388</td><td>0.142857</td></tr><tr><th>6</th><td>-0.142857</td><td>0.0</td><td>0.571429</td><td>-0.428571</td><td>-0.51402</td><td>-0.388789</td><td>0.0261256</td><td>0.142857</td></tr><tr><th>7</th><td>0.142857</td><td>0.0</td><td>0.571429</td><td>-0.857143</td><td>0.5307</td><td>0.342158</td><td>0.0483602</td><td>-0.857143</td></tr><tr><th>8</th><td>0.714286</td><td>1.0</td><td>-0.571429</td><td>0.142857</td><td>-0.54777</td><td>-0.630884</td><td>-0.765425</td><td>1.0</td></tr></tbody></table>"
      ],
      "text/latex": [
       "\\begin{tabular}{r|cccccccc}\n",
       "\t& x1 & x2 & x3 & x4 & x5 & x6 & x7 & x8\\\\\n",
       "\t\\hline\n",
       "\t& Float64 & Float64 & Float64 & Float64 & Float64 & Float64 & Float64 & Float64\\\\\n",
       "\t\\hline\n",
       "\t1 & -0.571429 & -0.571429 & -0.571429 & 0.714286 & 0.500844 & 0.511974 & 0.346304 & -0.428571 \\\\\n",
       "\t2 & -0.571429 & -0.571429 & -0.571429 & 0.714286 & 0.515642 & 0.511196 & 0.16398 & -0.857143 \\\\\n",
       "\t3 & -1.0 & -1.0 & -0.571429 & 0.714286 & -0.612157 & -0.628552 & 0.377432 & 0.714286 \\\\\n",
       "\t4 & 0.714286 & 0.571429 & 0.571429 & -0.857143 & 0.0750633 & 0.208092 & -0.098388 & 0.142857 \\\\\n",
       "\t5 & 0.714286 & 0.571429 & 0.571429 & -0.142857 & 0.0516973 & 0.0748045 & -0.098388 & 0.142857 \\\\\n",
       "\t6 & -0.142857 & 0.0 & 0.571429 & -0.428571 & -0.51402 & -0.388789 & 0.0261256 & 0.142857 \\\\\n",
       "\t7 & 0.142857 & 0.0 & 0.571429 & -0.857143 & 0.5307 & 0.342158 & 0.0483602 & -0.857143 \\\\\n",
       "\t8 & 0.714286 & 1.0 & -0.571429 & 0.142857 & -0.54777 & -0.630884 & -0.765425 & 1.0 \\\\\n",
       "\\end{tabular}\n"
      ],
      "text/plain": [
       "8×8 DataFrame. Omitted printing of 2 columns\n",
       "│ Row │ x1        │ x2        │ x3        │ x4        │ x5        │ x6        │\n",
       "│     │ \u001b[90mFloat64\u001b[39m   │ \u001b[90mFloat64\u001b[39m   │ \u001b[90mFloat64\u001b[39m   │ \u001b[90mFloat64\u001b[39m   │ \u001b[90mFloat64\u001b[39m   │ \u001b[90mFloat64\u001b[39m   │\n",
       "├─────┼───────────┼───────────┼───────────┼───────────┼───────────┼───────────┤\n",
       "│ 1   │ -0.571429 │ -0.571429 │ -0.571429 │ 0.714286  │ 0.500844  │ 0.511974  │\n",
       "│ 2   │ -0.571429 │ -0.571429 │ -0.571429 │ 0.714286  │ 0.515642  │ 0.511196  │\n",
       "│ 3   │ -1.0      │ -1.0      │ -0.571429 │ 0.714286  │ -0.612157 │ -0.628552 │\n",
       "│ 4   │ 0.714286  │ 0.571429  │ 0.571429  │ -0.857143 │ 0.0750633 │ 0.208092  │\n",
       "│ 5   │ 0.714286  │ 0.571429  │ 0.571429  │ -0.142857 │ 0.0516973 │ 0.0748045 │\n",
       "│ 6   │ -0.142857 │ 0.0       │ 0.571429  │ -0.428571 │ -0.51402  │ -0.388789 │\n",
       "│ 7   │ 0.142857  │ 0.0       │ 0.571429  │ -0.857143 │ 0.5307    │ 0.342158  │\n",
       "│ 8   │ 0.714286  │ 1.0       │ -0.571429 │ 0.142857  │ -0.54777  │ -0.630884 │"
      ]
     },
     "execution_count": 32,
     "metadata": {},
     "output_type": "execute_result"
    }
   ],
   "source": [
    "DataFrame([MCDA.ProfAlt(P)[:,i] for i in 1:8])"
   ]
  },
  {
   "cell_type": "code",
   "execution_count": 33,
   "metadata": {},
   "outputs": [
    {
     "data": {
      "text/html": [
       "<table class=\"data-frame\"><thead><tr><th></th><th>x1</th><th>x2</th><th>x3</th><th>x4</th><th>x5</th></tr><tr><th></th><th>Float64</th><th>Float64</th><th>Float64</th><th>Float64</th><th>Float64</th></tr></thead><tbody><p>8 rows × 5 columns</p><tr><th>1</th><td>-0.142857</td><td>0.571429</td><td>0.155887</td><td>-0.181319</td><td>-0.138393</td></tr><tr><th>2</th><td>0.142857</td><td>0.571429</td><td>0.150764</td><td>-0.467033</td><td>-0.647321</td></tr><tr><th>3</th><td>-0.857143</td><td>-0.857143</td><td>0.249659</td><td>0.675824</td><td>0.299107</td></tr><tr><th>4</th><td>0.428571</td><td>-0.142857</td><td>0.0244731</td><td>-0.225275</td><td>0.111607</td></tr><tr><th>5</th><td>0.857143</td><td>-0.142857</td><td>-0.000696049</td><td>-0.313187</td><td>-0.209821</td></tr><tr><th>6</th><td>-0.857143</td><td>-0.857143</td><td>0.205112</td><td>0.675824</td><td>0.495536</td></tr><tr><th>7</th><td>-0.428571</td><td>-0.142857</td><td>0.107999</td><td>-0.159341</td><td>-0.0491071</td></tr><tr><th>8</th><td>0.857143</td><td>1.0</td><td>-0.893198</td><td>-0.00549451</td><td>0.138393</td></tr></tbody></table>"
      ],
      "text/latex": [
       "\\begin{tabular}{r|ccccc}\n",
       "\t& x1 & x2 & x3 & x4 & x5\\\\\n",
       "\t\\hline\n",
       "\t& Float64 & Float64 & Float64 & Float64 & Float64\\\\\n",
       "\t\\hline\n",
       "\t1 & -0.142857 & 0.571429 & 0.155887 & -0.181319 & -0.138393 \\\\\n",
       "\t2 & 0.142857 & 0.571429 & 0.150764 & -0.467033 & -0.647321 \\\\\n",
       "\t3 & -0.857143 & -0.857143 & 0.249659 & 0.675824 & 0.299107 \\\\\n",
       "\t4 & 0.428571 & -0.142857 & 0.0244731 & -0.225275 & 0.111607 \\\\\n",
       "\t5 & 0.857143 & -0.142857 & -0.000696049 & -0.313187 & -0.209821 \\\\\n",
       "\t6 & -0.857143 & -0.857143 & 0.205112 & 0.675824 & 0.495536 \\\\\n",
       "\t7 & -0.428571 & -0.142857 & 0.107999 & -0.159341 & -0.0491071 \\\\\n",
       "\t8 & 0.857143 & 1.0 & -0.893198 & -0.00549451 & 0.138393 \\\\\n",
       "\\end{tabular}\n"
      ],
      "text/plain": [
       "8×5 DataFrame\n",
       "│ Row │ x1        │ x2        │ x3           │ x4          │ x5         │\n",
       "│     │ \u001b[90mFloat64\u001b[39m   │ \u001b[90mFloat64\u001b[39m   │ \u001b[90mFloat64\u001b[39m      │ \u001b[90mFloat64\u001b[39m     │ \u001b[90mFloat64\u001b[39m    │\n",
       "├─────┼───────────┼───────────┼──────────────┼─────────────┼────────────┤\n",
       "│ 1   │ -0.142857 │ 0.571429  │ 0.155887     │ -0.181319   │ -0.138393  │\n",
       "│ 2   │ 0.142857  │ 0.571429  │ 0.150764     │ -0.467033   │ -0.647321  │\n",
       "│ 3   │ -0.857143 │ -0.857143 │ 0.249659     │ 0.675824    │ 0.299107   │\n",
       "│ 4   │ 0.428571  │ -0.142857 │ 0.0244731    │ -0.225275   │ 0.111607   │\n",
       "│ 5   │ 0.857143  │ -0.142857 │ -0.000696049 │ -0.313187   │ -0.209821  │\n",
       "│ 6   │ -0.857143 │ -0.857143 │ 0.205112     │ 0.675824    │ 0.495536   │\n",
       "│ 7   │ -0.428571 │ -0.142857 │ 0.107999     │ -0.159341   │ -0.0491071 │\n",
       "│ 8   │ 0.857143  │ 1.0       │ -0.893198    │ -0.00549451 │ 0.138393   │"
      ]
     },
     "execution_count": 33,
     "metadata": {},
     "output_type": "execute_result"
    }
   ],
   "source": [
    "DataFrame([MCDA.ProfAlt(P)[:,i] for i in 9:13])"
   ]
  },
  {
   "cell_type": "code",
   "execution_count": 28,
   "metadata": {},
   "outputs": [
    {
     "data": {
      "text/html": [
       "<table class=\"data-frame\"><thead><tr><th></th><th>Maneuverability</th><th>Signature_profile</th><th>Redundancy</th><th>Nr_of_components</th><th>Space_consumption</th></tr><tr><th></th><th>Int64</th><th>Int64</th><th>Int64</th><th>Int64</th><th>Int64</th></tr></thead><tbody><p>8 rows × 5 columns</p><tr><th>1</th><td>7</td><td>7</td><td>8</td><td>3</td><td>3</td></tr><tr><th>2</th><td>6</td><td>6</td><td>7</td><td>2</td><td>2</td></tr><tr><th>3</th><td>8</td><td>8</td><td>6</td><td>1</td><td>8</td></tr><tr><th>4</th><td>3</td><td>3</td><td>4</td><td>8</td><td>4</td></tr><tr><th>5</th><td>2</td><td>2</td><td>3</td><td>5</td><td>5</td></tr><tr><th>6</th><td>5</td><td>5</td><td>2</td><td>6</td><td>6</td></tr><tr><th>7</th><td>4</td><td>4</td><td>1</td><td>7</td><td>1</td></tr><tr><th>8</th><td>1</td><td>1</td><td>5</td><td>4</td><td>7</td></tr></tbody></table>"
      ],
      "text/latex": [
       "\\begin{tabular}{r|ccccc}\n",
       "\t& Maneuverability & Signature\\_profile & Redundancy & Nr\\_of\\_components & Space\\_consumption\\\\\n",
       "\t\\hline\n",
       "\t& Int64 & Int64 & Int64 & Int64 & Int64\\\\\n",
       "\t\\hline\n",
       "\t1 & 7 & 7 & 8 & 3 & 3 \\\\\n",
       "\t2 & 6 & 6 & 7 & 2 & 2 \\\\\n",
       "\t3 & 8 & 8 & 6 & 1 & 8 \\\\\n",
       "\t4 & 3 & 3 & 4 & 8 & 4 \\\\\n",
       "\t5 & 2 & 2 & 3 & 5 & 5 \\\\\n",
       "\t6 & 5 & 5 & 2 & 6 & 6 \\\\\n",
       "\t7 & 4 & 4 & 1 & 7 & 1 \\\\\n",
       "\t8 & 1 & 1 & 5 & 4 & 7 \\\\\n",
       "\\end{tabular}\n"
      ],
      "text/plain": [
       "8×5 DataFrame. Omitted printing of 1 columns\n",
       "│ Row │ Maneuverability │ Signature_profile │ Redundancy │ Nr_of_components │\n",
       "│     │ \u001b[90mInt64\u001b[39m           │ \u001b[90mInt64\u001b[39m             │ \u001b[90mInt64\u001b[39m      │ \u001b[90mInt64\u001b[39m            │\n",
       "├─────┼─────────────────┼───────────────────┼────────────┼──────────────────┤\n",
       "│ 1   │ 7               │ 7                 │ 8          │ 3                │\n",
       "│ 2   │ 6               │ 6                 │ 7          │ 2                │\n",
       "│ 3   │ 8               │ 8                 │ 6          │ 1                │\n",
       "│ 4   │ 3               │ 3                 │ 4          │ 8                │\n",
       "│ 5   │ 2               │ 2                 │ 3          │ 5                │\n",
       "│ 6   │ 5               │ 5                 │ 2          │ 6                │\n",
       "│ 7   │ 4               │ 4                 │ 1          │ 7                │\n",
       "│ 8   │ 1               │ 1                 │ 5          │ 4                │"
      ]
     },
     "execution_count": 28,
     "metadata": {},
     "output_type": "execute_result"
    }
   ],
   "source": [
    "DataFrame([ranking(MCDA.ProfAlt(P)[:,i]) for i in 1:5], [:Maneuverability, :Signature_profile, :Redundancy, :Nr_of_components, :Space_consumption])"
   ]
  },
  {
   "cell_type": "code",
   "execution_count": 29,
   "metadata": {},
   "outputs": [
    {
     "data": {
      "text/html": [
       "<table class=\"data-frame\"><thead><tr><th></th><th>Weight</th><th>Fuel_capacity</th><th>Reliability</th><th>Maintainability</th><th>Shock_proofness</th></tr><tr><th></th><th>Int64</th><th>Int64</th><th>Int64</th><th>Int64</th><th>Int64</th></tr></thead><tbody><p>8 rows × 5 columns</p><tr><th>1</th><td>1</td><td>2</td><td>6</td><td>5</td><td>3</td></tr><tr><th>2</th><td>2</td><td>3</td><td>8</td><td>4</td><td>2</td></tr><tr><th>3</th><td>7</td><td>1</td><td>2</td><td>8</td><td>8</td></tr><tr><th>4</th><td>4</td><td>7</td><td>5</td><td>3</td><td>6</td></tr><tr><th>5</th><td>5</td><td>6</td><td>4</td><td>2</td><td>5</td></tr><tr><th>6</th><td>6</td><td>5</td><td>3</td><td>7</td><td>7</td></tr><tr><th>7</th><td>3</td><td>4</td><td>7</td><td>6</td><td>4</td></tr><tr><th>8</th><td>8</td><td>8</td><td>1</td><td>1</td><td>1</td></tr></tbody></table>"
      ],
      "text/latex": [
       "\\begin{tabular}{r|ccccc}\n",
       "\t& Weight & Fuel\\_capacity & Reliability & Maintainability & Shock\\_proofness\\\\\n",
       "\t\\hline\n",
       "\t& Int64 & Int64 & Int64 & Int64 & Int64\\\\\n",
       "\t\\hline\n",
       "\t1 & 1 & 2 & 6 & 5 & 3 \\\\\n",
       "\t2 & 2 & 3 & 8 & 4 & 2 \\\\\n",
       "\t3 & 7 & 1 & 2 & 8 & 8 \\\\\n",
       "\t4 & 4 & 7 & 5 & 3 & 6 \\\\\n",
       "\t5 & 5 & 6 & 4 & 2 & 5 \\\\\n",
       "\t6 & 6 & 5 & 3 & 7 & 7 \\\\\n",
       "\t7 & 3 & 4 & 7 & 6 & 4 \\\\\n",
       "\t8 & 8 & 8 & 1 & 1 & 1 \\\\\n",
       "\\end{tabular}\n"
      ],
      "text/plain": [
       "8×5 DataFrame. Omitted printing of 1 columns\n",
       "│ Row │ Weight │ Fuel_capacity │ Reliability │ Maintainability │\n",
       "│     │ \u001b[90mInt64\u001b[39m  │ \u001b[90mInt64\u001b[39m         │ \u001b[90mInt64\u001b[39m       │ \u001b[90mInt64\u001b[39m           │\n",
       "├─────┼────────┼───────────────┼─────────────┼─────────────────┤\n",
       "│ 1   │ 1      │ 2             │ 6           │ 5               │\n",
       "│ 2   │ 2      │ 3             │ 8           │ 4               │\n",
       "│ 3   │ 7      │ 1             │ 2           │ 8               │\n",
       "│ 4   │ 4      │ 7             │ 5           │ 3               │\n",
       "│ 5   │ 5      │ 6             │ 4           │ 2               │\n",
       "│ 6   │ 6      │ 5             │ 3           │ 7               │\n",
       "│ 7   │ 3      │ 4             │ 7           │ 6               │\n",
       "│ 8   │ 8      │ 8             │ 1           │ 1               │"
      ]
     },
     "execution_count": 29,
     "metadata": {},
     "output_type": "execute_result"
    }
   ],
   "source": [
    "DataFrame([ranking(MCDA.ProfAlt(P)[:,i]) for i in 6:10], [:Weight, :Fuel_capacity, :Reliability, :Maintainability, :Shock_proofness])"
   ]
  },
  {
   "cell_type": "code",
   "execution_count": 30,
   "metadata": {},
   "outputs": [
    {
     "data": {
      "text/html": [
       "<table class=\"data-frame\"><thead><tr><th></th><th>Purchase_costs</th><th>Fuel_costs</th><th>Maintenance_costs</th></tr><tr><th></th><th>Int64</th><th>Int64</th><th>Int64</th></tr></thead><tbody><p>8 rows × 3 columns</p><tr><th>1</th><td>3</td><td>5</td><td>6</td></tr><tr><th>2</th><td>4</td><td>8</td><td>8</td></tr><tr><th>3</th><td>1</td><td>2</td><td>2</td></tr><tr><th>4</th><td>6</td><td>6</td><td>4</td></tr><tr><th>5</th><td>7</td><td>7</td><td>7</td></tr><tr><th>6</th><td>2</td><td>1</td><td>1</td></tr><tr><th>7</th><td>5</td><td>4</td><td>5</td></tr><tr><th>8</th><td>8</td><td>3</td><td>3</td></tr></tbody></table>"
      ],
      "text/latex": [
       "\\begin{tabular}{r|ccc}\n",
       "\t& Purchase\\_costs & Fuel\\_costs & Maintenance\\_costs\\\\\n",
       "\t\\hline\n",
       "\t& Int64 & Int64 & Int64\\\\\n",
       "\t\\hline\n",
       "\t1 & 3 & 5 & 6 \\\\\n",
       "\t2 & 4 & 8 & 8 \\\\\n",
       "\t3 & 1 & 2 & 2 \\\\\n",
       "\t4 & 6 & 6 & 4 \\\\\n",
       "\t5 & 7 & 7 & 7 \\\\\n",
       "\t6 & 2 & 1 & 1 \\\\\n",
       "\t7 & 5 & 4 & 5 \\\\\n",
       "\t8 & 8 & 3 & 3 \\\\\n",
       "\\end{tabular}\n"
      ],
      "text/plain": [
       "8×3 DataFrame\n",
       "│ Row │ Purchase_costs │ Fuel_costs │ Maintenance_costs │\n",
       "│     │ \u001b[90mInt64\u001b[39m          │ \u001b[90mInt64\u001b[39m      │ \u001b[90mInt64\u001b[39m             │\n",
       "├─────┼────────────────┼────────────┼───────────────────┤\n",
       "│ 1   │ 3              │ 5          │ 6                 │\n",
       "│ 2   │ 4              │ 8          │ 8                 │\n",
       "│ 3   │ 1              │ 2          │ 2                 │\n",
       "│ 4   │ 6              │ 6          │ 4                 │\n",
       "│ 5   │ 7              │ 7          │ 7                 │\n",
       "│ 6   │ 2              │ 1          │ 1                 │\n",
       "│ 7   │ 5              │ 4          │ 5                 │\n",
       "│ 8   │ 8              │ 3          │ 3                 │"
      ]
     },
     "execution_count": 30,
     "metadata": {},
     "output_type": "execute_result"
    }
   ],
   "source": [
    "DataFrame([ranking(MCDA.ProfAlt(P)[:,i]) for i in 11:13], [:Purchase_costs, :Fuel_costs, :Maintenance_costs])"
   ]
  },
  {
   "cell_type": "code",
   "execution_count": null,
   "metadata": {},
   "outputs": [],
   "source": []
  }
 ],
 "metadata": {
  "kernelspec": {
   "display_name": "Julia 1.1.0",
   "language": "julia",
   "name": "julia-1.1"
  },
  "language_info": {
   "file_extension": ".jl",
   "mimetype": "application/julia",
   "name": "julia",
   "version": "1.1.0"
  }
 },
 "nbformat": 4,
 "nbformat_minor": 2
}
